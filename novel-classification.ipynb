{
 "cells": [
  {
   "cell_type": "markdown",
   "metadata": {
    "toc": true
   },
   "source": [
    "<h1>Table of Contents<span class=\"tocSkip\"></span></h1>\n",
    "<div class=\"toc\"><ul class=\"toc-item\"><li><span><a href=\"#Prepare-train,-test,-and-validation-sets\" data-toc-modified-id=\"Prepare-train,-test,-and-validation-sets-1\"><span class=\"toc-item-num\">1&nbsp;&nbsp;</span>Prepare train, test, and validation sets</a></span><ul class=\"toc-item\"><li><span><a href=\"#Exploratory-data-analysis-(EDA)\" data-toc-modified-id=\"Exploratory-data-analysis-(EDA)-1.1\"><span class=\"toc-item-num\">1.1&nbsp;&nbsp;</span>Exploratory data analysis (EDA)</a></span><ul class=\"toc-item\"><li><span><a href=\"#Class-distribution\" data-toc-modified-id=\"Class-distribution-1.1.1\"><span class=\"toc-item-num\">1.1.1&nbsp;&nbsp;</span>Class distribution</a></span></li><li><span><a href=\"#Sentence-length-distribution\" data-toc-modified-id=\"Sentence-length-distribution-1.1.2\"><span class=\"toc-item-num\">1.1.2&nbsp;&nbsp;</span>Sentence length distribution</a></span></li></ul></li></ul></li><li><span><a href=\"#Load-embedding\" data-toc-modified-id=\"Load-embedding-2\"><span class=\"toc-item-num\">2&nbsp;&nbsp;</span>Load embedding</a></span></li><li><span><a href=\"#Prepare-features-(X)-and-labels-(Y)\" data-toc-modified-id=\"Prepare-features-(X)-and-labels-(Y)-3\"><span class=\"toc-item-num\">3&nbsp;&nbsp;</span>Prepare features (X) and labels (Y)</a></span><ul class=\"toc-item\"><li><span><a href=\"#Tokenization-and-padding\" data-toc-modified-id=\"Tokenization-and-padding-3.1\"><span class=\"toc-item-num\">3.1&nbsp;&nbsp;</span>Tokenization and padding</a></span></li><li><span><a href=\"#Creating-an-embedding-matrix\" data-toc-modified-id=\"Creating-an-embedding-matrix-3.2\"><span class=\"toc-item-num\">3.2&nbsp;&nbsp;</span>Creating an embedding matrix</a></span></li><li><span><a href=\"#Encoding-the-labels\" data-toc-modified-id=\"Encoding-the-labels-3.3\"><span class=\"toc-item-num\">3.3&nbsp;&nbsp;</span>Encoding the labels</a></span></li></ul></li><li><span><a href=\"#Model-Evaluation\" data-toc-modified-id=\"Model-Evaluation-4\"><span class=\"toc-item-num\">4&nbsp;&nbsp;</span>Model Evaluation</a></span><ul class=\"toc-item\"><li><span><a href=\"#Parameters\" data-toc-modified-id=\"Parameters-4.1\"><span class=\"toc-item-num\">4.1&nbsp;&nbsp;</span>Parameters</a></span></li><li><span><a href=\"#GRU\" data-toc-modified-id=\"GRU-4.2\"><span class=\"toc-item-num\">4.2&nbsp;&nbsp;</span>GRU</a></span><ul class=\"toc-item\"><li><span><a href=\"#Define-the-model\" data-toc-modified-id=\"Define-the-model-4.2.1\"><span class=\"toc-item-num\">4.2.1&nbsp;&nbsp;</span>Define the model</a></span></li><li><span><a href=\"#Train-the-model\" data-toc-modified-id=\"Train-the-model-4.2.2\"><span class=\"toc-item-num\">4.2.2&nbsp;&nbsp;</span>Train the model</a></span></li><li><span><a href=\"#Save-the-model\" data-toc-modified-id=\"Save-the-model-4.2.3\"><span class=\"toc-item-num\">4.2.3&nbsp;&nbsp;</span>Save the model</a></span></li></ul></li><li><span><a href=\"#Character-level-CNN\" data-toc-modified-id=\"Character-level-CNN-4.3\"><span class=\"toc-item-num\">4.3&nbsp;&nbsp;</span>Character-level CNN</a></span><ul class=\"toc-item\"><li><span><a href=\"#Define-the-model\" data-toc-modified-id=\"Define-the-model-4.3.1\"><span class=\"toc-item-num\">4.3.1&nbsp;&nbsp;</span>Define the model</a></span></li><li><span><a href=\"#Train-the-model\" data-toc-modified-id=\"Train-the-model-4.3.2\"><span class=\"toc-item-num\">4.3.2&nbsp;&nbsp;</span>Train the model</a></span></li><li><span><a href=\"#Save-the-model\" data-toc-modified-id=\"Save-the-model-4.3.3\"><span class=\"toc-item-num\">4.3.3&nbsp;&nbsp;</span>Save the model</a></span></li></ul></li><li><span><a href=\"#Transformer-(TODO)\" data-toc-modified-id=\"Transformer-(TODO)-4.4\"><span class=\"toc-item-num\">4.4&nbsp;&nbsp;</span>Transformer (TODO)</a></span></li></ul></li><li><span><a href=\"#Make-the-prediction-on-the-test-set\" data-toc-modified-id=\"Make-the-prediction-on-the-test-set-5\"><span class=\"toc-item-num\">5&nbsp;&nbsp;</span>Make the prediction on the test set</a></span><ul class=\"toc-item\"><li><span><a href=\"#Train-the-model-on-whole-trainig-set\" data-toc-modified-id=\"Train-the-model-on-whole-trainig-set-5.1\"><span class=\"toc-item-num\">5.1&nbsp;&nbsp;</span>Train the model on whole trainig set</a></span></li><li><span><a href=\"#Make-the-prediction-on-the-test-set\" data-toc-modified-id=\"Make-the-prediction-on-the-test-set-5.2\"><span class=\"toc-item-num\">5.2&nbsp;&nbsp;</span>Make the prediction on the test set</a></span></li></ul></li><li><span><a href=\"#Future-Work\" data-toc-modified-id=\"Future-Work-6\"><span class=\"toc-item-num\">6&nbsp;&nbsp;</span>Future Work</a></span></li></ul></div>"
   ]
  },
  {
   "cell_type": "code",
   "execution_count": null,
   "metadata": {},
   "outputs": [],
   "source": []
  },
  {
   "cell_type": "markdown",
   "metadata": {},
   "source": [
    " \n",
    "Which Novel Do I Belong To?\n",
    "\n",
    "In this task, you are expected to learn a Machine Learning model that classifies a given line as belonging to one of the following 12 novels:\n",
    "\n",
    "0: alice_in_wonderland\n",
    "1: dracula\n",
    "2: dubliners\n",
    "3: great_expectations\n",
    "4: hard_times\n",
    "5: huckleberry_finn\n",
    "6: les_miserable\n",
    "7: moby_dick\n",
    "8: oliver_twist\n",
    "9: peter_pan\n",
    "10: talw_of_two_cities\n",
    "11: tom_sawyer\n",
    "\n",
    "\n",
    "Description:\n",
    "\n",
    "You are provided with a zip file (offline_challenge.zip) containing three text files - xtrain.txt, ytrain.txt, xtest.txt. Each line in xtrain.txt and xtest.txt comes from a different novel. The data has been obfuscated, however the patterns in them are preserved. The novel ids corresponding to xtrain.txt are specified in ytrain.txt. You can use these labels to train a Machine Learning model (Deep Learning preferred).\n",
    "\n",
    "With the learned model, predict the novel ids of the lines in xtest.txt (one prediction per line). As part of your submission, include\n",
    "\n",
    "a) your predictions (in the same format as ytrain.txt)\n",
    "b) Expected accuracy on the test set\n",
    "c) the source code for training and prediction (< 10MB)\n",
    "d) a brief description of your method (optional)\n"
   ]
  },
  {
   "cell_type": "code",
   "execution_count": null,
   "metadata": {},
   "outputs": [],
   "source": []
  },
  {
   "cell_type": "code",
   "execution_count": 318,
   "metadata": {},
   "outputs": [],
   "source": [
    "import collections\n",
    "\n",
    "from matplotlib import pyplot\n",
    "import matplotlib.pyplot as plt\n",
    "import seaborn as sns\n",
    "%matplotlib inline\n",
    "\n",
    "import numpy as np # linear algebra\n",
    "from numpy import genfromtxt\n",
    "import pandas as pd # data processing, CSV file I/O (e.g. pd.read_csv)\n",
    "\n",
    "from sklearn.preprocessing import OneHotEncoder\n",
    "from sklearn.model_selection import train_test_split\n",
    "from sklearn import metrics\n",
    "from sklearn.metrics import confusion_matrix\n",
    "from sklearn.metrics import classification_report\n",
    "\n",
    "import keras\n",
    "from keras.models import Model, load_model, Sequential\n",
    "from keras.layers import Dense, Input, Dropout, MaxPooling1D, Conv1D, GlobalMaxPool1D, Bidirectional\n",
    "from keras.layers import LSTM, Lambda, Bidirectional, concatenate, BatchNormalization, Embedding\n",
    "from keras.layers import Reshape, RepeatVector\n",
    "from keras.layers import TimeDistributed\n",
    "from keras.optimizers import Adam\n",
    "from keras.callbacks import ModelCheckpoint,EarlyStopping\n",
    "from keras.models import load_model\n"
   ]
  },
  {
   "cell_type": "code",
   "execution_count": null,
   "metadata": {},
   "outputs": [],
   "source": []
  },
  {
   "cell_type": "markdown",
   "metadata": {},
   "source": [
    "## Prepare train, test, and validation sets\n"
   ]
  },
  {
   "cell_type": "code",
   "execution_count": 154,
   "metadata": {},
   "outputs": [],
   "source": [
    "with open(x_train_file) as f:\n",
    "    x_train_all = f.read().strip().lower().split('\\n')\n",
    "    \n",
    "with open(y_train_file) as f:\n",
    "    y_train = f.read().strip().split('\\n')\n",
    "for i in range(len(ytrain)):\n",
    "    y_train[i] = int(ytrain[i])\n",
    "\n",
    "with open(x_test_file) as f:\n",
    "    x_test = f.read().strip().lower().split('\\n')\n",
    "    \n",
    "    "
   ]
  },
  {
   "cell_type": "code",
   "execution_count": 155,
   "metadata": {},
   "outputs": [],
   "source": [
    "x_train, x_valid, y_train, y_valid = train_test_split(x_train_all, y_train, test_size=0.2, random_state=42)\n"
   ]
  },
  {
   "cell_type": "code",
   "execution_count": null,
   "metadata": {},
   "outputs": [],
   "source": []
  },
  {
   "cell_type": "markdown",
   "metadata": {},
   "source": [
    "### Exploratory data analysis (EDA)\n"
   ]
  },
  {
   "cell_type": "markdown",
   "metadata": {},
   "source": [
    "#### Class distribution\n"
   ]
  },
  {
   "cell_type": "code",
   "execution_count": 297,
   "metadata": {},
   "outputs": [
    {
     "data": {
      "text/plain": [
       "Counter({6: 4226,\n",
       "         7: 5097,\n",
       "         8: 3634,\n",
       "         11: 1408,\n",
       "         3: 4023,\n",
       "         0: 543,\n",
       "         4: 2337,\n",
       "         5: 2283,\n",
       "         1: 3459,\n",
       "         10: 3052,\n",
       "         2: 1471,\n",
       "         9: 980})"
      ]
     },
     "execution_count": 297,
     "metadata": {},
     "output_type": "execute_result"
    }
   ],
   "source": [
    "collections.Counter(y_train_all)\n"
   ]
  },
  {
   "cell_type": "code",
   "execution_count": 298,
   "metadata": {},
   "outputs": [
    {
     "data": {
      "image/png": "[encoded data removed]",
      "text/plain": [
       "<Figure size 432x288 with 1 Axes>"
      ]
     },
     "metadata": {
      "needs_background": "light"
     },
     "output_type": "display_data"
    }
   ],
   "source": [
    "plt.hist(y_train_all, \n",
    "         bins=12,\n",
    "        )\n",
    "\n",
    "plt.xlabel(\"Novel class\")\n",
    "plt.ylabel(\"Number of train samples\")\n",
    "plt.title(\"Novel class distribution\")\n",
    "plt.show()\n"
   ]
  },
  {
   "cell_type": "markdown",
   "metadata": {},
   "source": [
    "It shows that the data is imbalanced. Classes '0' and '10' have very few samples.\n"
   ]
  },
  {
   "cell_type": "code",
   "execution_count": null,
   "metadata": {},
   "outputs": [],
   "source": []
  },
  {
   "cell_type": "code",
   "execution_count": null,
   "metadata": {},
   "outputs": [],
   "source": []
  },
  {
   "cell_type": "markdown",
   "metadata": {},
   "source": [
    "#### Sentence length distribution\n"
   ]
  },
  {
   "cell_type": "code",
   "execution_count": 315,
   "metadata": {},
   "outputs": [
    {
     "data": {
      "image/png": "[encoded data removed]",
      "text/plain": [
       "<Figure size 432x288 with 1 Axes>"
      ]
     },
     "metadata": {
      "needs_background": "light"
     },
     "output_type": "display_data"
    }
   ],
   "source": [
    "sent_len_train = [len(sent) for sent in x_train_all]\n",
    "sent_len_test = [len(sent) for sent in x_test]\n",
    "\n",
    "plt.hist(sent_len_train, \n",
    "         bins=range(min(sent_len_train), max(sent_len_train) + 1, 5),\n",
    "         alpha=0.4,\n",
    "         density=True,\n",
    "         color='green',\n",
    "        )\n",
    "\n",
    "plt.hist(sent_len_test, \n",
    "         bins=range(min(sent_len_test), max(sent_len_test) + 1, 5),\n",
    "         alpha=0.4,\n",
    "         density=True,\n",
    "         color='red',\n",
    "        )\n",
    "\n",
    "labels = ['Train',\"Test\"]\n",
    "plt.legend(labels)\n",
    "plt.xlabel(\"Length of sentence\")\n",
    "plt.ylabel(\"Percentage\")\n",
    "plt.title(\"Sentence length distribution (Train, Test)\")\n",
    "\n",
    "\n",
    "plt.show()\n"
   ]
  },
  {
   "cell_type": "code",
   "execution_count": null,
   "metadata": {},
   "outputs": [],
   "source": []
  },
  {
   "cell_type": "code",
   "execution_count": null,
   "metadata": {},
   "outputs": [],
   "source": []
  },
  {
   "cell_type": "markdown",
   "metadata": {},
   "source": [
    "## Load embedding\n",
    "\n",
    "https://blog.keras.io/using-pre-trained-word-embeddings-in-a-keras-model.html\n",
    "\n",
    "https://dzone.com/articles/glove-and-fasttext-two-popular-word-vector-models\n",
    "\n",
    "https://mc.ai/word-embeddings-in-nlp-word2vec-glove-fasttext/\n",
    "\n",
    "\n",
    "- Fast text\n",
    "\n",
    "\n",
    "https://www.quora.com/What-is-the-difference-between-fastText-and-GloVe\n",
    "\n",
    "What is the difference between fastText and GloVe?\n",
    "\n",
    "\"\n",
    "Key difference is Glove treats each word in corpus like an atomic entity and generates a vector for each word. \n",
    "In this sense Glove is very much like word2vec- both treat words as the smallest unit to train on.\n",
    "\n",
    "Fasttext which is essentially an extension of word2vec model, treats each word as composed of character ngrams. \n",
    "So the vector for a word is made of the sum of this character n grams. This difference enables fasttext to\n",
    "\n",
    "- Generate better word embeddings for rare words \n",
    "( even if words are rare their character n grams are still shared with other words - hence the embeddings can still be good)\n",
    "\n",
    "- Out of vocabulary words - they can construct the vector for a word from its character n grams even if word doesn't appear in training corpus. Both Glove and word2vec can't.\n",
    "\"\n",
    "\n",
    "\n",
    "\n"
   ]
  },
  {
   "cell_type": "code",
   "execution_count": 217,
   "metadata": {},
   "outputs": [],
   "source": [
    "def get_embedding(embedding_file):\n",
    "    embedding_dict = {}\n",
    "    with open(embedding_file) as f:\n",
    "        for line in tqdm(f):\n",
    "            values = line.split()\n",
    "            word = values[0]\n",
    "            embedding_dict[word] = np.asarray(values[1:], dtype='float32')\n",
    "    return embedding_dict\n",
    "\n"
   ]
  },
  {
   "cell_type": "code",
   "execution_count": 218,
   "metadata": {},
   "outputs": [
    {
     "name": "stderr",
     "output_type": "stream",
     "text": [
      "400000it [00:35, 11409.46it/s]\n",
      "1999996it [02:52, 11590.40it/s]\n"
     ]
    }
   ],
   "source": [
    "#glove_path = '../glove.6B.300d.txt'\n",
    "#glove_path = '../glove.840B.300d.txt'\n",
    "#glove_embedding = {}\n",
    "#glove_embedding = get_embedding(glove_path)\n",
    "\n",
    "#fasttext_path = '../wiki-news-300d-1M.vec'\n",
    "fasttext_path = '../crawl-300d-2M.vec'\n",
    "fasttext_embedding = {}\n",
    "fasttext_embedding = get_embedding(fasttext_path)\n"
   ]
  },
  {
   "cell_type": "code",
   "execution_count": null,
   "metadata": {},
   "outputs": [],
   "source": []
  },
  {
   "cell_type": "code",
   "execution_count": null,
   "metadata": {},
   "outputs": [],
   "source": []
  },
  {
   "cell_type": "markdown",
   "metadata": {},
   "source": [
    "## Prepare features (X) and labels (Y)\n",
    "\n"
   ]
  },
  {
   "cell_type": "markdown",
   "metadata": {},
   "source": [
    "### Tokenization and padding\n"
   ]
  },
  {
   "cell_type": "code",
   "execution_count": 276,
   "metadata": {},
   "outputs": [],
   "source": [
    "\n",
    "max_features = None\n",
    "token = text.Tokenizer(num_words=max_features, char_level=True)\n",
    "\n",
    "token.fit_on_texts(list(x_train_all) + list(x_test))\n",
    "x_train_seq = token.texts_to_sequences(x_train)\n",
    "x_train_all_seq = token.texts_to_sequences(x_train_all)\n",
    "x_valid_seq = token.texts_to_sequences(x_valid)\n",
    "x_test_seq = token.texts_to_sequences(x_test)\n",
    "\n",
    "#zero pad the sequences\n",
    "# max_sent_len = 200\n",
    "max_sent_len = max([len(sent) for sent in x_train_all])\n",
    "x_train_seq = sequence.pad_sequences(x_train_seq, maxlen=max_sent_len)\n",
    "x_train_all_seq = sequence.pad_sequences(x_train_all_seq, maxlen=max_sent_len)\n",
    "x_valid_seq = sequence.pad_sequences(x_valid_seq, maxlen=max_sent_len)\n",
    "x_test_seq = sequence.pad_sequences(x_test_seq, maxlen=max_sent_len)\n",
    "\n",
    "word_index = token.word_index\n"
   ]
  },
  {
   "cell_type": "code",
   "execution_count": 277,
   "metadata": {},
   "outputs": [
    {
     "name": "stdout",
     "output_type": "stream",
     "text": [
      "26010\n",
      "32513\n",
      "6503\n",
      "3000\n",
      "452\n",
      "[ 0  0  0  0  0  0  0  0  0  0  0  0  0  0  0  0  0  0  0  0  0  0  0  0\n",
      "  0  0  0  0  0  0  0  0 15 12  4  9  5 14 12 17  1  2 13 17 15 12  8  7\n",
      "  6  5  8  7 15 12  3  4 13  4  4  9 10  3 21 10  1  2  8  7 11  3 13  4\n",
      "  1  2  9 25 13 17  8  7  4  9 10  3  1  2 10  3  1  6  4  9  3  4  1  2\n",
      "  1  6  8  7  6 16  1  2  9  7  9  7  3  4 19 20  1  2  8  7 11  3 22 21\n",
      " 12 17  1  2  1  2 16 11  1  6 13  4  8  7 12 16 15 18  8  7  6  5  1  2\n",
      "  1  6  5 14  8  7  6  5  6 16  1  2  4  9  3  4  1  2  8  7  6  5  8  7\n",
      " 19 20  1  2 11  3 21 10  3  4 11  3 19 20  1  2 13 17 13  4  8  7 11  3\n",
      " 21 10  5 14 10  3 21 10  1  2  6 16  4  9  3  4  1  6  3  4  5 14 19 20\n",
      "  1  2  8  7 11  3  1  6  1  2 13  4 15 12  6  5  5 14 19 20 10  3  1  6\n",
      "  1  2 13  4  8  7 15 11  8  7  1  2 15 12  8  7  1  6 21 10  5 14  6  5\n",
      "  1  6 13  4  3  4 15 12  1  2  6  5  8  7 11  3  1  2 15 12  8  7  4  9\n",
      "  6  5 12 16  1  6  1  2  1  6  3  4 13  4  6  5  5 14 17 18 22 21  1  2\n",
      " 16 11 13  4  6  5 13 25  1  2 13 17  6 16  4  9  3  4  1  6 11  3  6 16\n",
      "  3  4  9  7  5 14  1  2 22  5 10  3  1  2  1  6  4  9  5 14  1  6 13  4\n",
      "  4  9  3  4  1  2  1  6 13  4  6  5  3  4 22  5  1  2  8  7 11  3  1  6\n",
      "  1  2  4  9  9 17  1  2  1  2 16 11  6  5  8  7  1  6  5 14 19 20  1  2\n",
      "  6  5  8  7 15 12  4  9 12 16  1  2  8  7  6  5  8  7 19 20  1  2 13  4\n",
      "  1  6  8  7  8  7  6  5  1  6 13  4  1  2 15 12  4  9  5 14]\n",
      "{'u': 1, 'h': 2, 'm': 3, 'v': 4, 'e': 5, 'l': 6, 'w': 7, 't': 8, 'i': 9, 'p': 10, 'a': 11, 'k': 12, 'q': 13, 'n': 14, 's': 15, 'r': 16, 'g': 17, 'z': 18, 'd': 19, 'f': 20, 'y': 21, 'x': 22, 'c': 23, 'o': 24, 'j': 25, 'b': 26}\n"
     ]
    }
   ],
   "source": [
    "print(len(x_train_seq))\n",
    "print(len(x_train_all_seq))\n",
    "print(len(x_valid_seq))\n",
    "print(len(x_test_seq))\n",
    "\n",
    "print(len(x_train_seq[0]))\n",
    "\n",
    "print(x_train_seq[0])\n",
    "print(word_index)\n"
   ]
  },
  {
   "cell_type": "code",
   "execution_count": null,
   "metadata": {},
   "outputs": [],
   "source": []
  },
  {
   "cell_type": "markdown",
   "metadata": {},
   "source": [
    "### Creating an embedding matrix\n"
   ]
  },
  {
   "cell_type": "code",
   "execution_count": 278,
   "metadata": {},
   "outputs": [],
   "source": [
    "embedding_len=300\n"
   ]
  },
  {
   "cell_type": "code",
   "execution_count": 279,
   "metadata": {},
   "outputs": [],
   "source": [
    "# embedding matrix\n",
    "def get_embedding_matrix(embedding, \n",
    "                         word_index, \n",
    "                         embedding_len=300):\n",
    "    embedding_matrix = np.zeros((len(word_index) + 1, embedding_len))\n",
    "    for word, i in tqdm(word_index.items()):\n",
    "        embedding_vector = embedding.get(word)\n",
    "        if embedding_vector is not None:\n",
    "            embedding_matrix[i] = embedding_vector\n",
    "    return embedding_matrix\n",
    "        \n",
    "    "
   ]
  },
  {
   "cell_type": "code",
   "execution_count": 281,
   "metadata": {},
   "outputs": [
    {
     "name": "stderr",
     "output_type": "stream",
     "text": [
      "100%|██████████| 26/26 [00:00<00:00, 29173.86it/s]\n"
     ]
    }
   ],
   "source": [
    "\n",
    "fasttext_embedding_matrix = get_embedding_matrix(embedding=fasttext_embedding,\n",
    "                                                 word_index=word_index,\n",
    "                                                 embedding_len=embedding_len,\n",
    "                                                )\n"
   ]
  },
  {
   "cell_type": "code",
   "execution_count": null,
   "metadata": {},
   "outputs": [],
   "source": [
    "\n"
   ]
  },
  {
   "cell_type": "markdown",
   "metadata": {},
   "source": [
    "### Encoding the labels\n"
   ]
  },
  {
   "cell_type": "code",
   "execution_count": 282,
   "metadata": {},
   "outputs": [],
   "source": [
    "\n",
    "y_train_en = np_utils.to_categorical((y_train))\n",
    "y_train_all_en = np_utils.to_categorical((y_train_all))\n",
    "\n",
    "y_valid_en = np_utils.to_categorical((y_valid))\n",
    "\n"
   ]
  },
  {
   "cell_type": "code",
   "execution_count": null,
   "metadata": {},
   "outputs": [],
   "source": []
  },
  {
   "cell_type": "code",
   "execution_count": 284,
   "metadata": {},
   "outputs": [],
   "source": [
    "def plot_confusion_matrix(y_test, y_pred):\n",
    "    confusion_mtx = confusion_matrix(y_test, y_pred) \n",
    "    f,ax = plt.subplots(figsize=(8, 8))\n",
    "    sns.heatmap(confusion_mtx, annot=True, linewidths=0.01, cmap=\"Greens\", linecolor=\"gray\", fmt= '.1f',ax=ax)\n",
    "    plt.xlabel(\"Predicted Label\")\n",
    "    plt.ylabel(\"True Label\")\n",
    "    plt.title(\"Confusion Matrix\")\n",
    "    plt.show()\n",
    "    return\n",
    "\n",
    "def plot_learning_curves(history):\n",
    "    # plot loss\n",
    "    pyplot.subplot(211)\n",
    "    pyplot.title('Loss')\n",
    "    pyplot.plot(history.history['loss'], color='blue', label='train')\n",
    "    pyplot.plot(history.history['val_loss'], color='orange', label='test')\n",
    "\n",
    "    # plot accuracy\n",
    "    pyplot.subplot(212)\n",
    "    pyplot.title('Accuracy')\n",
    "    pyplot.plot(history.history['acc'], color='blue', label='train')\n",
    "    pyplot.plot(history.history['val_acc'], color='orange', label='test')\n",
    "    pyplot.show()\n",
    "    \n",
    "    # save plot to file\n",
    "    #filename = sys.argv[0].split('/')[-1]\n",
    "    #pyplot.savefig(filename + '_plot.png')\n",
    "    #pyplot.close()\n",
    "    #image = imread(filename + '_plot.png')\n",
    "    #pyplot.figure(figsize=(10, 25))\n",
    "    #pyplot.imshow(image)\n",
    "    return \n"
   ]
  },
  {
   "cell_type": "code",
   "execution_count": null,
   "metadata": {},
   "outputs": [],
   "source": []
  },
  {
   "cell_type": "markdown",
   "metadata": {},
   "source": [
    "## Model Evaluation\n",
    "\n"
   ]
  },
  {
   "cell_type": "markdown",
   "metadata": {},
   "source": [
    "### Parameters\n"
   ]
  },
  {
   "cell_type": "code",
   "execution_count": 285,
   "metadata": {},
   "outputs": [],
   "source": [
    "n_classes = 12\n",
    "batch_size = 32\n",
    "epochs = 60\n",
    "\n",
    "model_dict = {}\n"
   ]
  },
  {
   "cell_type": "markdown",
   "metadata": {},
   "source": [
    "### GRU\n",
    "\n",
    "- Fast text\n"
   ]
  },
  {
   "cell_type": "markdown",
   "metadata": {},
   "source": [
    "#### Define the model"
   ]
  },
  {
   "cell_type": "code",
   "execution_count": 273,
   "metadata": {},
   "outputs": [],
   "source": [
    "def define_gru_model(word_index, \n",
    "                     max_sent_len, \n",
    "                     embedding_matrix,\n",
    "                    ):\n",
    "    \n",
    "    model = Sequential()\n",
    "    model.add(Embedding(len(word_index) + 1,\n",
    "                         embedding_matrix.shape[1],\n",
    "                         weights=[embedding_matrix],\n",
    "                         input_length=max_sent_len,\n",
    "                         trainable=False))\n",
    "    model.add(SpatialDropout1D(0.3))\n",
    "    model.add(GRU(100, dropout=0.3, recurrent_dropout=0.3))\n",
    "    #model.add(GRU(100, dropout=0.3, recurrent_dropout=0.3, return_sequences=True))\n",
    "    #model.add(GRU(100, dropout=0.3, recurrent_dropout=0.3))\n",
    "    #model.add(LSTM(100, dropout=0.3, recurrent_dropout=0.3))\n",
    "\n",
    "    model.add(Dense(128, activation='relu'))\n",
    "    model.add(Dropout(0.5))\n",
    "\n",
    "    model.add(Dense(n_classes))\n",
    "    model.add(Activation('softmax'))\n",
    "    model.compile(loss='categorical_crossentropy', optimizer='adam', metrics=['acc'])\n",
    "\n",
    "    return model\n"
   ]
  },
  {
   "cell_type": "markdown",
   "metadata": {},
   "source": [
    "#### Train the model\n"
   ]
  },
  {
   "cell_type": "code",
   "execution_count": 274,
   "metadata": {},
   "outputs": [
    {
     "name": "stdout",
     "output_type": "stream",
     "text": [
      "Epoch 1/100\n",
      "813/813 [==============================] - 518s 637ms/step - loss: 2.2893 - acc: 0.1820 - val_loss: 2.2280 - val_acc: 0.2065\n",
      "Epoch 2/100\n",
      "813/813 [==============================] - 482s 593ms/step - loss: 2.2251 - acc: 0.2021 - val_loss: 2.2030 - val_acc: 0.2044\n",
      "Epoch 3/100\n",
      "813/813 [==============================] - 476s 586ms/step - loss: 2.2100 - acc: 0.2067 - val_loss: 2.1995 - val_acc: 0.2064\n",
      "Epoch 4/100\n",
      "813/813 [==============================] - 479s 590ms/step - loss: 2.2001 - acc: 0.2113 - val_loss: 2.1841 - val_acc: 0.2074\n",
      "Epoch 5/100\n",
      "813/813 [==============================] - 490s 603ms/step - loss: 2.1787 - acc: 0.2138 - val_loss: 2.1094 - val_acc: 0.2503\n",
      "Epoch 6/100\n",
      "813/813 [==============================] - 493s 607ms/step - loss: 2.0362 - acc: 0.2640 - val_loss: 1.8605 - val_acc: 0.3225\n",
      "Epoch 7/100\n",
      "813/813 [==============================] - 497s 612ms/step - loss: 1.8557 - acc: 0.3413 - val_loss: 1.7212 - val_acc: 0.3841\n",
      "Epoch 8/100\n",
      "813/813 [==============================] - 487s 599ms/step - loss: 1.7435 - acc: 0.3732 - val_loss: 1.5998 - val_acc: 0.4147\n",
      "Epoch 9/100\n",
      "813/813 [==============================] - 480s 590ms/step - loss: 1.6145 - acc: 0.4190 - val_loss: 1.4130 - val_acc: 0.4881\n",
      "Epoch 10/100\n",
      "813/813 [==============================] - 474s 583ms/step - loss: 1.4614 - acc: 0.4742 - val_loss: 1.3276 - val_acc: 0.5171\n",
      "Epoch 11/100\n",
      "813/813 [==============================] - 472s 581ms/step - loss: 1.3924 - acc: 0.5002 - val_loss: 1.2855 - val_acc: 0.5331\n",
      "Epoch 12/100\n",
      "813/813 [==============================] - 467s 574ms/step - loss: 1.3477 - acc: 0.5170 - val_loss: 1.2148 - val_acc: 0.5564\n",
      "Epoch 13/100\n",
      "813/813 [==============================] - 469s 577ms/step - loss: 1.3085 - acc: 0.5360 - val_loss: 1.1805 - val_acc: 0.5631\n",
      "Epoch 14/100\n",
      "813/813 [==============================] - 475s 584ms/step - loss: 1.2799 - acc: 0.5424 - val_loss: 1.1784 - val_acc: 0.5714\n",
      "Epoch 15/100\n",
      "813/813 [==============================] - 469s 576ms/step - loss: 1.2546 - acc: 0.5501 - val_loss: 1.1589 - val_acc: 0.5756\n",
      "Epoch 16/100\n",
      "813/813 [==============================] - 474s 583ms/step - loss: 1.2287 - acc: 0.5579 - val_loss: 1.1219 - val_acc: 0.5896\n",
      "Epoch 17/100\n",
      "813/813 [==============================] - 473s 582ms/step - loss: 1.2085 - acc: 0.5662 - val_loss: 1.1099 - val_acc: 0.5963\n",
      "Epoch 18/100\n",
      "813/813 [==============================] - 477s 587ms/step - loss: 1.1888 - acc: 0.5725 - val_loss: 1.0939 - val_acc: 0.6031\n",
      "Epoch 19/100\n",
      "813/813 [==============================] - 470s 578ms/step - loss: 1.1767 - acc: 0.5776 - val_loss: 1.0821 - val_acc: 0.6070\n",
      "Epoch 20/100\n",
      "813/813 [==============================] - 489s 601ms/step - loss: 1.1612 - acc: 0.5876 - val_loss: 1.0572 - val_acc: 0.6169\n",
      "Epoch 21/100\n",
      "813/813 [==============================] - 470s 578ms/step - loss: 1.1550 - acc: 0.5884 - val_loss: 1.0631 - val_acc: 0.6196\n",
      "Epoch 22/100\n",
      "813/813 [==============================] - 470s 578ms/step - loss: 1.1449 - acc: 0.5856 - val_loss: 1.0479 - val_acc: 0.6151\n",
      "Epoch 23/100\n",
      "813/813 [==============================] - 469s 577ms/step - loss: 1.1349 - acc: 0.5952 - val_loss: 1.0296 - val_acc: 0.6233\n",
      "Epoch 24/100\n",
      "813/813 [==============================] - 476s 586ms/step - loss: 1.1184 - acc: 0.6023 - val_loss: 1.0050 - val_acc: 0.6366\n",
      "Epoch 25/100\n",
      "813/813 [==============================] - 475s 585ms/step - loss: 1.1091 - acc: 0.6052 - val_loss: 1.0086 - val_acc: 0.6305\n",
      "Epoch 26/100\n",
      "813/813 [==============================] - 472s 581ms/step - loss: 1.0979 - acc: 0.6106 - val_loss: 1.0103 - val_acc: 0.6317\n",
      "Epoch 27/100\n",
      "813/813 [==============================] - 472s 581ms/step - loss: 1.0754 - acc: 0.6179 - val_loss: 1.0001 - val_acc: 0.6386\n",
      "Epoch 28/100\n",
      "114/813 [===>..........................] - ETA: 6:54 - loss: 1.0843 - acc: 0.6107"
     ]
    },
    {
     "ename": "KeyboardInterrupt",
     "evalue": "",
     "output_type": "error",
     "traceback": [
      "\u001b[0;31m---------------------------------------------------------------------------\u001b[0m",
      "\u001b[0;31mKeyboardInterrupt\u001b[0m                         Traceback (most recent call last)",
      "\u001b[0;32m<ipython-input-274-18b8c79828e5>\u001b[0m in \u001b[0;36m<module>\u001b[0;34m\u001b[0m\n\u001b[1;32m     12\u001b[0m                     \u001b[0mepochs\u001b[0m\u001b[0;34m=\u001b[0m\u001b[0mepochs\u001b[0m\u001b[0;34m,\u001b[0m\u001b[0;34m\u001b[0m\u001b[0;34m\u001b[0m\u001b[0m\n\u001b[1;32m     13\u001b[0m                     \u001b[0mverbose\u001b[0m\u001b[0;34m=\u001b[0m\u001b[0;36m1\u001b[0m\u001b[0;34m,\u001b[0m\u001b[0;34m\u001b[0m\u001b[0;34m\u001b[0m\u001b[0m\n\u001b[0;32m---> 14\u001b[0;31m                     \u001b[0mvalidation_data\u001b[0m\u001b[0;34m=\u001b[0m\u001b[0;34m(\u001b[0m\u001b[0mx_valid_seq\u001b[0m\u001b[0;34m,\u001b[0m \u001b[0my_valid_en\u001b[0m\u001b[0;34m)\u001b[0m\u001b[0;34m,\u001b[0m\u001b[0;34m\u001b[0m\u001b[0;34m\u001b[0m\u001b[0m\n\u001b[0m\u001b[1;32m     15\u001b[0m                     \u001b[0;31m#callbacks=[earlystop],\u001b[0m\u001b[0;34m\u001b[0m\u001b[0;34m\u001b[0m\u001b[0;34m\u001b[0m\u001b[0m\n\u001b[1;32m     16\u001b[0m                    )\n",
      "\u001b[0;32m~/opt/anaconda3/lib/python3.7/site-packages/tensorflow/python/keras/engine/training.py\u001b[0m in \u001b[0;36m_method_wrapper\u001b[0;34m(self, *args, **kwargs)\u001b[0m\n\u001b[1;32m    106\u001b[0m   \u001b[0;32mdef\u001b[0m \u001b[0m_method_wrapper\u001b[0m\u001b[0;34m(\u001b[0m\u001b[0mself\u001b[0m\u001b[0;34m,\u001b[0m \u001b[0;34m*\u001b[0m\u001b[0margs\u001b[0m\u001b[0;34m,\u001b[0m \u001b[0;34m**\u001b[0m\u001b[0mkwargs\u001b[0m\u001b[0;34m)\u001b[0m\u001b[0;34m:\u001b[0m\u001b[0;34m\u001b[0m\u001b[0;34m\u001b[0m\u001b[0m\n\u001b[1;32m    107\u001b[0m     \u001b[0;32mif\u001b[0m \u001b[0;32mnot\u001b[0m \u001b[0mself\u001b[0m\u001b[0;34m.\u001b[0m\u001b[0m_in_multi_worker_mode\u001b[0m\u001b[0;34m(\u001b[0m\u001b[0;34m)\u001b[0m\u001b[0;34m:\u001b[0m  \u001b[0;31m# pylint: disable=protected-access\u001b[0m\u001b[0;34m\u001b[0m\u001b[0;34m\u001b[0m\u001b[0m\n\u001b[0;32m--> 108\u001b[0;31m       \u001b[0;32mreturn\u001b[0m \u001b[0mmethod\u001b[0m\u001b[0;34m(\u001b[0m\u001b[0mself\u001b[0m\u001b[0;34m,\u001b[0m \u001b[0;34m*\u001b[0m\u001b[0margs\u001b[0m\u001b[0;34m,\u001b[0m \u001b[0;34m**\u001b[0m\u001b[0mkwargs\u001b[0m\u001b[0;34m)\u001b[0m\u001b[0;34m\u001b[0m\u001b[0;34m\u001b[0m\u001b[0m\n\u001b[0m\u001b[1;32m    109\u001b[0m \u001b[0;34m\u001b[0m\u001b[0m\n\u001b[1;32m    110\u001b[0m     \u001b[0;31m# Running inside `run_distribute_coordinator` already.\u001b[0m\u001b[0;34m\u001b[0m\u001b[0;34m\u001b[0m\u001b[0;34m\u001b[0m\u001b[0m\n",
      "\u001b[0;32m~/opt/anaconda3/lib/python3.7/site-packages/tensorflow/python/keras/engine/training.py\u001b[0m in \u001b[0;36mfit\u001b[0;34m(self, x, y, batch_size, epochs, verbose, callbacks, validation_split, validation_data, shuffle, class_weight, sample_weight, initial_epoch, steps_per_epoch, validation_steps, validation_batch_size, validation_freq, max_queue_size, workers, use_multiprocessing)\u001b[0m\n\u001b[1;32m   1096\u001b[0m                 batch_size=batch_size):\n\u001b[1;32m   1097\u001b[0m               \u001b[0mcallbacks\u001b[0m\u001b[0;34m.\u001b[0m\u001b[0mon_train_batch_begin\u001b[0m\u001b[0;34m(\u001b[0m\u001b[0mstep\u001b[0m\u001b[0;34m)\u001b[0m\u001b[0;34m\u001b[0m\u001b[0;34m\u001b[0m\u001b[0m\n\u001b[0;32m-> 1098\u001b[0;31m               \u001b[0mtmp_logs\u001b[0m \u001b[0;34m=\u001b[0m \u001b[0mtrain_function\u001b[0m\u001b[0;34m(\u001b[0m\u001b[0miterator\u001b[0m\u001b[0;34m)\u001b[0m\u001b[0;34m\u001b[0m\u001b[0;34m\u001b[0m\u001b[0m\n\u001b[0m\u001b[1;32m   1099\u001b[0m               \u001b[0;32mif\u001b[0m \u001b[0mdata_handler\u001b[0m\u001b[0;34m.\u001b[0m\u001b[0mshould_sync\u001b[0m\u001b[0;34m:\u001b[0m\u001b[0;34m\u001b[0m\u001b[0;34m\u001b[0m\u001b[0m\n\u001b[1;32m   1100\u001b[0m                 \u001b[0mcontext\u001b[0m\u001b[0;34m.\u001b[0m\u001b[0masync_wait\u001b[0m\u001b[0;34m(\u001b[0m\u001b[0;34m)\u001b[0m\u001b[0;34m\u001b[0m\u001b[0;34m\u001b[0m\u001b[0m\n",
      "\u001b[0;32m~/opt/anaconda3/lib/python3.7/site-packages/tensorflow/python/eager/def_function.py\u001b[0m in \u001b[0;36m__call__\u001b[0;34m(self, *args, **kwds)\u001b[0m\n\u001b[1;32m    778\u001b[0m       \u001b[0;32melse\u001b[0m\u001b[0;34m:\u001b[0m\u001b[0;34m\u001b[0m\u001b[0;34m\u001b[0m\u001b[0m\n\u001b[1;32m    779\u001b[0m         \u001b[0mcompiler\u001b[0m \u001b[0;34m=\u001b[0m \u001b[0;34m\"nonXla\"\u001b[0m\u001b[0;34m\u001b[0m\u001b[0;34m\u001b[0m\u001b[0m\n\u001b[0;32m--> 780\u001b[0;31m         \u001b[0mresult\u001b[0m \u001b[0;34m=\u001b[0m \u001b[0mself\u001b[0m\u001b[0;34m.\u001b[0m\u001b[0m_call\u001b[0m\u001b[0;34m(\u001b[0m\u001b[0;34m*\u001b[0m\u001b[0margs\u001b[0m\u001b[0;34m,\u001b[0m \u001b[0;34m**\u001b[0m\u001b[0mkwds\u001b[0m\u001b[0;34m)\u001b[0m\u001b[0;34m\u001b[0m\u001b[0;34m\u001b[0m\u001b[0m\n\u001b[0m\u001b[1;32m    781\u001b[0m \u001b[0;34m\u001b[0m\u001b[0m\n\u001b[1;32m    782\u001b[0m       \u001b[0mnew_tracing_count\u001b[0m \u001b[0;34m=\u001b[0m \u001b[0mself\u001b[0m\u001b[0;34m.\u001b[0m\u001b[0m_get_tracing_count\u001b[0m\u001b[0;34m(\u001b[0m\u001b[0;34m)\u001b[0m\u001b[0;34m\u001b[0m\u001b[0;34m\u001b[0m\u001b[0m\n",
      "\u001b[0;32m~/opt/anaconda3/lib/python3.7/site-packages/tensorflow/python/eager/def_function.py\u001b[0m in \u001b[0;36m_call\u001b[0;34m(self, *args, **kwds)\u001b[0m\n\u001b[1;32m    805\u001b[0m       \u001b[0;31m# In this case we have created variables on the first call, so we run the\u001b[0m\u001b[0;34m\u001b[0m\u001b[0;34m\u001b[0m\u001b[0;34m\u001b[0m\u001b[0m\n\u001b[1;32m    806\u001b[0m       \u001b[0;31m# defunned version which is guaranteed to never create variables.\u001b[0m\u001b[0;34m\u001b[0m\u001b[0;34m\u001b[0m\u001b[0;34m\u001b[0m\u001b[0m\n\u001b[0;32m--> 807\u001b[0;31m       \u001b[0;32mreturn\u001b[0m \u001b[0mself\u001b[0m\u001b[0;34m.\u001b[0m\u001b[0m_stateless_fn\u001b[0m\u001b[0;34m(\u001b[0m\u001b[0;34m*\u001b[0m\u001b[0margs\u001b[0m\u001b[0;34m,\u001b[0m \u001b[0;34m**\u001b[0m\u001b[0mkwds\u001b[0m\u001b[0;34m)\u001b[0m  \u001b[0;31m# pylint: disable=not-callable\u001b[0m\u001b[0;34m\u001b[0m\u001b[0;34m\u001b[0m\u001b[0m\n\u001b[0m\u001b[1;32m    808\u001b[0m     \u001b[0;32melif\u001b[0m \u001b[0mself\u001b[0m\u001b[0;34m.\u001b[0m\u001b[0m_stateful_fn\u001b[0m \u001b[0;32mis\u001b[0m \u001b[0;32mnot\u001b[0m \u001b[0;32mNone\u001b[0m\u001b[0;34m:\u001b[0m\u001b[0;34m\u001b[0m\u001b[0;34m\u001b[0m\u001b[0m\n\u001b[1;32m    809\u001b[0m       \u001b[0;31m# Release the lock early so that multiple threads can perform the call\u001b[0m\u001b[0;34m\u001b[0m\u001b[0;34m\u001b[0m\u001b[0;34m\u001b[0m\u001b[0m\n",
      "\u001b[0;32m~/opt/anaconda3/lib/python3.7/site-packages/tensorflow/python/eager/function.py\u001b[0m in \u001b[0;36m__call__\u001b[0;34m(self, *args, **kwargs)\u001b[0m\n\u001b[1;32m   2827\u001b[0m     \u001b[0;32mwith\u001b[0m \u001b[0mself\u001b[0m\u001b[0;34m.\u001b[0m\u001b[0m_lock\u001b[0m\u001b[0;34m:\u001b[0m\u001b[0;34m\u001b[0m\u001b[0;34m\u001b[0m\u001b[0m\n\u001b[1;32m   2828\u001b[0m       \u001b[0mgraph_function\u001b[0m\u001b[0;34m,\u001b[0m \u001b[0margs\u001b[0m\u001b[0;34m,\u001b[0m \u001b[0mkwargs\u001b[0m \u001b[0;34m=\u001b[0m \u001b[0mself\u001b[0m\u001b[0;34m.\u001b[0m\u001b[0m_maybe_define_function\u001b[0m\u001b[0;34m(\u001b[0m\u001b[0margs\u001b[0m\u001b[0;34m,\u001b[0m \u001b[0mkwargs\u001b[0m\u001b[0;34m)\u001b[0m\u001b[0;34m\u001b[0m\u001b[0;34m\u001b[0m\u001b[0m\n\u001b[0;32m-> 2829\u001b[0;31m     \u001b[0;32mreturn\u001b[0m \u001b[0mgraph_function\u001b[0m\u001b[0;34m.\u001b[0m\u001b[0m_filtered_call\u001b[0m\u001b[0;34m(\u001b[0m\u001b[0margs\u001b[0m\u001b[0;34m,\u001b[0m \u001b[0mkwargs\u001b[0m\u001b[0;34m)\u001b[0m  \u001b[0;31m# pylint: disable=protected-access\u001b[0m\u001b[0;34m\u001b[0m\u001b[0;34m\u001b[0m\u001b[0m\n\u001b[0m\u001b[1;32m   2830\u001b[0m \u001b[0;34m\u001b[0m\u001b[0m\n\u001b[1;32m   2831\u001b[0m   \u001b[0;34m@\u001b[0m\u001b[0mproperty\u001b[0m\u001b[0;34m\u001b[0m\u001b[0;34m\u001b[0m\u001b[0m\n",
      "\u001b[0;32m~/opt/anaconda3/lib/python3.7/site-packages/tensorflow/python/eager/function.py\u001b[0m in \u001b[0;36m_filtered_call\u001b[0;34m(self, args, kwargs, cancellation_manager)\u001b[0m\n\u001b[1;32m   1846\u001b[0m                            resource_variable_ops.BaseResourceVariable))],\n\u001b[1;32m   1847\u001b[0m         \u001b[0mcaptured_inputs\u001b[0m\u001b[0;34m=\u001b[0m\u001b[0mself\u001b[0m\u001b[0;34m.\u001b[0m\u001b[0mcaptured_inputs\u001b[0m\u001b[0;34m,\u001b[0m\u001b[0;34m\u001b[0m\u001b[0;34m\u001b[0m\u001b[0m\n\u001b[0;32m-> 1848\u001b[0;31m         cancellation_manager=cancellation_manager)\n\u001b[0m\u001b[1;32m   1849\u001b[0m \u001b[0;34m\u001b[0m\u001b[0m\n\u001b[1;32m   1850\u001b[0m   \u001b[0;32mdef\u001b[0m \u001b[0m_call_flat\u001b[0m\u001b[0;34m(\u001b[0m\u001b[0mself\u001b[0m\u001b[0;34m,\u001b[0m \u001b[0margs\u001b[0m\u001b[0;34m,\u001b[0m \u001b[0mcaptured_inputs\u001b[0m\u001b[0;34m,\u001b[0m \u001b[0mcancellation_manager\u001b[0m\u001b[0;34m=\u001b[0m\u001b[0;32mNone\u001b[0m\u001b[0;34m)\u001b[0m\u001b[0;34m:\u001b[0m\u001b[0;34m\u001b[0m\u001b[0;34m\u001b[0m\u001b[0m\n",
      "\u001b[0;32m~/opt/anaconda3/lib/python3.7/site-packages/tensorflow/python/eager/function.py\u001b[0m in \u001b[0;36m_call_flat\u001b[0;34m(self, args, captured_inputs, cancellation_manager)\u001b[0m\n\u001b[1;32m   1922\u001b[0m       \u001b[0;31m# No tape is watching; skip to running the function.\u001b[0m\u001b[0;34m\u001b[0m\u001b[0;34m\u001b[0m\u001b[0;34m\u001b[0m\u001b[0m\n\u001b[1;32m   1923\u001b[0m       return self._build_call_outputs(self._inference_function.call(\n\u001b[0;32m-> 1924\u001b[0;31m           ctx, args, cancellation_manager=cancellation_manager))\n\u001b[0m\u001b[1;32m   1925\u001b[0m     forward_backward = self._select_forward_and_backward_functions(\n\u001b[1;32m   1926\u001b[0m         \u001b[0margs\u001b[0m\u001b[0;34m,\u001b[0m\u001b[0;34m\u001b[0m\u001b[0;34m\u001b[0m\u001b[0m\n",
      "\u001b[0;32m~/opt/anaconda3/lib/python3.7/site-packages/tensorflow/python/eager/function.py\u001b[0m in \u001b[0;36mcall\u001b[0;34m(self, ctx, args, cancellation_manager)\u001b[0m\n\u001b[1;32m    548\u001b[0m               \u001b[0minputs\u001b[0m\u001b[0;34m=\u001b[0m\u001b[0margs\u001b[0m\u001b[0;34m,\u001b[0m\u001b[0;34m\u001b[0m\u001b[0;34m\u001b[0m\u001b[0m\n\u001b[1;32m    549\u001b[0m               \u001b[0mattrs\u001b[0m\u001b[0;34m=\u001b[0m\u001b[0mattrs\u001b[0m\u001b[0;34m,\u001b[0m\u001b[0;34m\u001b[0m\u001b[0;34m\u001b[0m\u001b[0m\n\u001b[0;32m--> 550\u001b[0;31m               ctx=ctx)\n\u001b[0m\u001b[1;32m    551\u001b[0m         \u001b[0;32melse\u001b[0m\u001b[0;34m:\u001b[0m\u001b[0;34m\u001b[0m\u001b[0;34m\u001b[0m\u001b[0m\n\u001b[1;32m    552\u001b[0m           outputs = execute.execute_with_cancellation(\n",
      "\u001b[0;32m~/opt/anaconda3/lib/python3.7/site-packages/tensorflow/python/eager/execute.py\u001b[0m in \u001b[0;36mquick_execute\u001b[0;34m(op_name, num_outputs, inputs, attrs, ctx, name)\u001b[0m\n\u001b[1;32m     58\u001b[0m     \u001b[0mctx\u001b[0m\u001b[0;34m.\u001b[0m\u001b[0mensure_initialized\u001b[0m\u001b[0;34m(\u001b[0m\u001b[0;34m)\u001b[0m\u001b[0;34m\u001b[0m\u001b[0;34m\u001b[0m\u001b[0m\n\u001b[1;32m     59\u001b[0m     tensors = pywrap_tfe.TFE_Py_Execute(ctx._handle, device_name, op_name,\n\u001b[0;32m---> 60\u001b[0;31m                                         inputs, attrs, num_outputs)\n\u001b[0m\u001b[1;32m     61\u001b[0m   \u001b[0;32mexcept\u001b[0m \u001b[0mcore\u001b[0m\u001b[0;34m.\u001b[0m\u001b[0m_NotOkStatusException\u001b[0m \u001b[0;32mas\u001b[0m \u001b[0me\u001b[0m\u001b[0;34m:\u001b[0m\u001b[0;34m\u001b[0m\u001b[0;34m\u001b[0m\u001b[0m\n\u001b[1;32m     62\u001b[0m     \u001b[0;32mif\u001b[0m \u001b[0mname\u001b[0m \u001b[0;32mis\u001b[0m \u001b[0;32mnot\u001b[0m \u001b[0;32mNone\u001b[0m\u001b[0;34m:\u001b[0m\u001b[0;34m\u001b[0m\u001b[0;34m\u001b[0m\u001b[0m\n",
      "\u001b[0;31mKeyboardInterrupt\u001b[0m: "
     ]
    }
   ],
   "source": [
    "\n",
    "model = define_gru_model(word_index=word_index, \n",
    "                         max_sent_len=max_sent_len, \n",
    "                         embedding_matrix=fasttext_embedding_matrix,\n",
    "                        )\n",
    "\n",
    "# Fit the model with early stopping callback\n",
    "#earlystop = EarlyStopping(monitor='val_loss', min_delta=0, patience=3, verbose=0, mode='auto')\n",
    "\n",
    "history = model.fit(x=x_train_seq, \n",
    "                    y=y_train_en, \n",
    "                    batch_size=batch_size, \n",
    "                    epochs=epochs, \n",
    "                    verbose=1, \n",
    "                    validation_data=(x_valid_seq, y_valid_en),\n",
    "                    #callbacks=[earlystop],\n",
    "                   )\n",
    "\n",
    "plot_learning_curves(history)\n",
    "\n",
    "model_dict['gru_fasttext'] = model\n"
   ]
  },
  {
   "cell_type": "markdown",
   "metadata": {},
   "source": [
    "#### Save the model\n"
   ]
  },
  {
   "cell_type": "code",
   "execution_count": null,
   "metadata": {},
   "outputs": [],
   "source": [
    "model_dict['gru_fasttext'].save('gru_fasttext_{}.h5'.format(epochs))\n"
   ]
  },
  {
   "cell_type": "code",
   "execution_count": null,
   "metadata": {},
   "outputs": [],
   "source": []
  },
  {
   "cell_type": "markdown",
   "metadata": {},
   "source": [
    "### Character-level CNN\n",
    "\n",
    "- Fast text\n",
    "\n",
    "https://www.kaggle.com/kmader/character-level-cnn-classification-with-dilations\n",
    "\n",
    "https://machinelearningmastery.com/best-practices-document-classification-deep-learning/\n",
    "\n",
    "* Don’t Use Dropout in Convolutional Networks\n",
    "\n",
    "https://www.kdnuggets.com/2018/09/dropout-convolutional-networks.html\n"
   ]
  },
  {
   "cell_type": "markdown",
   "metadata": {},
   "source": [
    "#### Define the model\n"
   ]
  },
  {
   "cell_type": "code",
   "execution_count": 288,
   "metadata": {},
   "outputs": [],
   "source": [
    "def define_cnn_model(word_index, \n",
    "                     max_sent_len,\n",
    "                     embedding_matrix,\n",
    "                    ):\n",
    "    model = Sequential()\n",
    "    \n",
    "    model.add(Embedding(len(word_index) + 1,\n",
    "                        embedding_matrix.shape[1],\n",
    "                        weights=[embedding_matrix],\n",
    "                        input_length=max_sent_len,\n",
    "                        trainable=False,\n",
    "                       ))\n",
    "    model.add(Dropout(0.3))\n",
    "\n",
    "    # add a Convolution1D, which will learn filters\n",
    "    # word group filters of size filter_length:\n",
    "    model.add(Conv1D(128,\n",
    "                     5,\n",
    "                     activation='relu'))\n",
    "    model.add(BatchNormalization())\n",
    "    model.add(MaxPooling1D(5))\n",
    "    model.add(Conv1D(128,\n",
    "                     5,\n",
    "                     activation='relu'))\n",
    "    model.add(MaxPooling1D(5))\n",
    "    model.add(BatchNormalization())\n",
    "    model.add(Conv1D(128,\n",
    "                     5,\n",
    "                     activation='relu'))\n",
    "    model.add(BatchNormalization())\n",
    "    model.add(MaxPooling1D(3))\n",
    "    model.add(BatchNormalization())\n",
    "    model.add(Flatten())\n",
    "    model.add(Dense(128, activation='relu'))\n",
    "    model.add(Dropout(0.5))\n",
    "\n",
    "    model.add(Dense(n_classes, activation='softmax'))\n",
    "\n",
    "    model.compile(loss='categorical_crossentropy',\n",
    "                  optimizer='adam',\n",
    "                  metrics=['acc'])\n",
    "    \n",
    "    return model\n",
    "    \n",
    "    "
   ]
  },
  {
   "cell_type": "code",
   "execution_count": null,
   "metadata": {},
   "outputs": [],
   "source": []
  },
  {
   "cell_type": "markdown",
   "metadata": {},
   "source": [
    "#### Train the model\n"
   ]
  },
  {
   "cell_type": "code",
   "execution_count": 289,
   "metadata": {},
   "outputs": [
    {
     "name": "stdout",
     "output_type": "stream",
     "text": [
      "Epoch 1/60\n",
      "813/813 [==============================] - 128s 157ms/step - loss: 2.2896 - acc: 0.2003 - val_loss: 2.3146 - val_acc: 0.1994\n",
      "Epoch 2/60\n",
      "813/813 [==============================] - 115s 142ms/step - loss: 1.9381 - acc: 0.3352 - val_loss: 2.2798 - val_acc: 0.3237\n",
      "Epoch 3/60\n",
      "813/813 [==============================] - 111s 137ms/step - loss: 1.5587 - acc: 0.4616 - val_loss: 2.2894 - val_acc: 0.3243\n",
      "Epoch 4/60\n",
      "813/813 [==============================] - 106s 130ms/step - loss: 1.3693 - acc: 0.5277 - val_loss: 1.3606 - val_acc: 0.5133\n",
      "Epoch 5/60\n",
      "813/813 [==============================] - 105s 130ms/step - loss: 1.2417 - acc: 0.5731 - val_loss: 1.2974 - val_acc: 0.5561\n",
      "Epoch 6/60\n",
      "813/813 [==============================] - 106s 130ms/step - loss: 1.1440 - acc: 0.6050 - val_loss: 4.8821 - val_acc: 0.2968\n",
      "Epoch 7/60\n",
      "813/813 [==============================] - 104s 128ms/step - loss: 1.0591 - acc: 0.6359 - val_loss: 1.8998 - val_acc: 0.4570\n",
      "Epoch 8/60\n",
      "813/813 [==============================] - 104s 128ms/step - loss: 0.9721 - acc: 0.6649 - val_loss: 1.7346 - val_acc: 0.5179\n",
      "Epoch 9/60\n",
      "813/813 [==============================] - 104s 128ms/step - loss: 0.8948 - acc: 0.6941 - val_loss: 1.8967 - val_acc: 0.5221\n",
      "Epoch 10/60\n",
      "813/813 [==============================] - 104s 127ms/step - loss: 0.8076 - acc: 0.7250 - val_loss: 1.4596 - val_acc: 0.5670\n",
      "Epoch 11/60\n",
      "813/813 [==============================] - 107s 131ms/step - loss: 0.7436 - acc: 0.7458 - val_loss: 1.1968 - val_acc: 0.6025\n",
      "Epoch 12/60\n",
      "813/813 [==============================] - 108s 133ms/step - loss: 0.6848 - acc: 0.7658 - val_loss: 1.7769 - val_acc: 0.5454\n",
      "Epoch 13/60\n",
      "813/813 [==============================] - 105s 129ms/step - loss: 0.6084 - acc: 0.7916 - val_loss: 1.2983 - val_acc: 0.6299\n",
      "Epoch 14/60\n",
      "813/813 [==============================] - 104s 128ms/step - loss: 0.5514 - acc: 0.8117 - val_loss: 4.7395 - val_acc: 0.4164\n",
      "Epoch 15/60\n",
      "813/813 [==============================] - 109s 134ms/step - loss: 0.5215 - acc: 0.8239 - val_loss: 1.8318 - val_acc: 0.6048\n",
      "Epoch 16/60\n",
      "813/813 [==============================] - 109s 134ms/step - loss: 0.4694 - acc: 0.8393 - val_loss: 1.9057 - val_acc: 0.5791\n",
      "Epoch 17/60\n",
      "813/813 [==============================] - 110s 135ms/step - loss: 0.4400 - acc: 0.8491 - val_loss: 2.1557 - val_acc: 0.5473\n",
      "Epoch 18/60\n",
      "813/813 [==============================] - 110s 135ms/step - loss: 0.3900 - acc: 0.8674 - val_loss: 1.6920 - val_acc: 0.6266\n",
      "Epoch 19/60\n",
      "813/813 [==============================] - 111s 136ms/step - loss: 0.3728 - acc: 0.8749 - val_loss: 2.2703 - val_acc: 0.5797\n",
      "Epoch 20/60\n",
      "813/813 [==============================] - 109s 134ms/step - loss: 0.3510 - acc: 0.8825 - val_loss: 1.6456 - val_acc: 0.6334\n",
      "Epoch 21/60\n",
      "813/813 [==============================] - 110s 136ms/step - loss: 0.3220 - acc: 0.8928 - val_loss: 2.5087 - val_acc: 0.5662\n",
      "Epoch 22/60\n",
      "813/813 [==============================] - 109s 134ms/step - loss: 0.3132 - acc: 0.8951 - val_loss: 1.8031 - val_acc: 0.6219\n",
      "Epoch 23/60\n",
      "813/813 [==============================] - 110s 136ms/step - loss: 0.2863 - acc: 0.9015 - val_loss: 1.9898 - val_acc: 0.6145\n",
      "Epoch 24/60\n",
      "813/813 [==============================] - 103s 127ms/step - loss: 0.2714 - acc: 0.9091 - val_loss: 1.8255 - val_acc: 0.6323\n",
      "Epoch 25/60\n",
      "813/813 [==============================] - 106s 131ms/step - loss: 0.2624 - acc: 0.9115 - val_loss: 2.0230 - val_acc: 0.5977\n",
      "Epoch 26/60\n",
      "813/813 [==============================] - 105s 129ms/step - loss: 0.2454 - acc: 0.9162 - val_loss: 2.0020 - val_acc: 0.6305\n",
      "Epoch 27/60\n",
      "813/813 [==============================] - 105s 129ms/step - loss: 0.2333 - acc: 0.9213 - val_loss: 1.9133 - val_acc: 0.6345\n",
      "Epoch 28/60\n",
      "813/813 [==============================] - 108s 133ms/step - loss: 0.2363 - acc: 0.9210 - val_loss: 2.0227 - val_acc: 0.5954\n",
      "Epoch 29/60\n",
      "813/813 [==============================] - 107s 131ms/step - loss: 0.2223 - acc: 0.9253 - val_loss: 1.9685 - val_acc: 0.6233\n",
      "Epoch 30/60\n",
      "813/813 [==============================] - 107s 131ms/step - loss: 0.2171 - acc: 0.9297 - val_loss: 1.8895 - val_acc: 0.6356\n",
      "Epoch 31/60\n",
      "813/813 [==============================] - 104s 128ms/step - loss: 0.1985 - acc: 0.9357 - val_loss: 2.4983 - val_acc: 0.6146\n",
      "Epoch 32/60\n",
      "813/813 [==============================] - 103s 127ms/step - loss: 0.1990 - acc: 0.9352 - val_loss: 2.0028 - val_acc: 0.6405\n",
      "Epoch 33/60\n",
      "813/813 [==============================] - 105s 130ms/step - loss: 0.1965 - acc: 0.9352 - val_loss: 1.8244 - val_acc: 0.6405\n",
      "Epoch 34/60\n",
      "813/813 [==============================] - 107s 132ms/step - loss: 0.1796 - acc: 0.9410 - val_loss: 1.7863 - val_acc: 0.6474\n",
      "Epoch 35/60\n",
      "813/813 [==============================] - 105s 129ms/step - loss: 0.1897 - acc: 0.9384 - val_loss: 2.1371 - val_acc: 0.6309\n",
      "Epoch 36/60\n",
      "813/813 [==============================] - 106s 131ms/step - loss: 0.1773 - acc: 0.9437 - val_loss: 1.9984 - val_acc: 0.6432\n",
      "Epoch 37/60\n",
      "813/813 [==============================] - 104s 128ms/step - loss: 0.1729 - acc: 0.9437 - val_loss: 2.1745 - val_acc: 0.6245\n",
      "Epoch 38/60\n",
      "813/813 [==============================] - 107s 131ms/step - loss: 0.1615 - acc: 0.9461 - val_loss: 1.8809 - val_acc: 0.6499\n",
      "Epoch 39/60\n",
      "813/813 [==============================] - 103s 126ms/step - loss: 0.1604 - acc: 0.9469 - val_loss: 1.9982 - val_acc: 0.6471\n",
      "Epoch 40/60\n",
      "813/813 [==============================] - 107s 132ms/step - loss: 0.1567 - acc: 0.9504 - val_loss: 2.1671 - val_acc: 0.6374\n",
      "Epoch 41/60\n",
      "813/813 [==============================] - 106s 130ms/step - loss: 0.1537 - acc: 0.9489 - val_loss: 2.4905 - val_acc: 0.6236\n",
      "Epoch 42/60\n",
      "813/813 [==============================] - 106s 130ms/step - loss: 0.1564 - acc: 0.9503 - val_loss: 2.1639 - val_acc: 0.6196\n",
      "Epoch 43/60\n",
      "813/813 [==============================] - 106s 130ms/step - loss: 0.1432 - acc: 0.9548 - val_loss: 2.3154 - val_acc: 0.6291\n",
      "Epoch 44/60\n",
      "813/813 [==============================] - 105s 130ms/step - loss: 0.1491 - acc: 0.9526 - val_loss: 2.4267 - val_acc: 0.5963\n",
      "Epoch 45/60\n",
      "813/813 [==============================] - 112s 138ms/step - loss: 0.1460 - acc: 0.9534 - val_loss: 1.9509 - val_acc: 0.6580\n",
      "Epoch 46/60\n",
      "813/813 [==============================] - 124s 152ms/step - loss: 0.1378 - acc: 0.9560 - val_loss: 2.0450 - val_acc: 0.6423\n",
      "Epoch 47/60\n",
      "813/813 [==============================] - 108s 133ms/step - loss: 0.1345 - acc: 0.9568 - val_loss: 2.4315 - val_acc: 0.6226\n",
      "Epoch 48/60\n",
      "813/813 [==============================] - 107s 132ms/step - loss: 0.1285 - acc: 0.9574 - val_loss: 2.3954 - val_acc: 0.6306\n",
      "Epoch 49/60\n",
      "813/813 [==============================] - 109s 134ms/step - loss: 0.1346 - acc: 0.9566 - val_loss: 2.0405 - val_acc: 0.6534\n",
      "Epoch 50/60\n",
      "813/813 [==============================] - 107s 132ms/step - loss: 0.1335 - acc: 0.9553 - val_loss: 2.1509 - val_acc: 0.6405\n",
      "Epoch 51/60\n",
      "813/813 [==============================] - 106s 130ms/step - loss: 0.1275 - acc: 0.9580 - val_loss: 2.2406 - val_acc: 0.6502\n",
      "Epoch 52/60\n",
      "813/813 [==============================] - 107s 131ms/step - loss: 0.1291 - acc: 0.9586 - val_loss: 2.9159 - val_acc: 0.6051\n",
      "Epoch 53/60\n",
      "813/813 [==============================] - 105s 129ms/step - loss: 0.1170 - acc: 0.9621 - val_loss: 2.1485 - val_acc: 0.6477\n",
      "Epoch 54/60\n",
      "813/813 [==============================] - 106s 131ms/step - loss: 0.1181 - acc: 0.9620 - val_loss: 2.5927 - val_acc: 0.6305\n",
      "Epoch 55/60\n",
      "813/813 [==============================] - 105s 129ms/step - loss: 0.1169 - acc: 0.9624 - val_loss: 2.8786 - val_acc: 0.6146\n",
      "Epoch 56/60\n",
      "813/813 [==============================] - 107s 131ms/step - loss: 0.1172 - acc: 0.9624 - val_loss: 2.1550 - val_acc: 0.6531\n",
      "Epoch 57/60\n",
      "813/813 [==============================] - 109s 134ms/step - loss: 0.1134 - acc: 0.9642 - val_loss: 2.4089 - val_acc: 0.6446\n",
      "Epoch 58/60\n",
      "813/813 [==============================] - 108s 133ms/step - loss: 0.1195 - acc: 0.9625 - val_loss: 2.2038 - val_acc: 0.6542\n",
      "Epoch 59/60\n",
      "813/813 [==============================] - 121s 149ms/step - loss: 0.1092 - acc: 0.9655 - val_loss: 2.2579 - val_acc: 0.6432\n",
      "Epoch 60/60\n",
      "813/813 [==============================] - 121s 148ms/step - loss: 0.1109 - acc: 0.9641 - val_loss: 2.6596 - val_acc: 0.6369\n"
     ]
    },
    {
     "data": {
      "image/png": "[encoded data removed]",
      "text/plain": [
       "<Figure size 432x288 with 2 Axes>"
      ]
     },
     "metadata": {
      "needs_background": "light"
     },
     "output_type": "display_data"
    }
   ],
   "source": [
    "\n",
    "model = define_cnn_model(word_index=word_index, \n",
    "                         max_sent_len=max_sent_len,\n",
    "                         embedding_matrix=fasttext_embedding_matrix,\n",
    "                        )\n",
    "\n",
    "#earlystop = EarlyStopping(monitor='val_loss', min_delta=0, patience=3, verbose=0, mode='auto')\n",
    "history = model.fit(x=x_train_seq, \n",
    "                    y=y_train_en, \n",
    "                    batch_size=batch_size, \n",
    "                    epochs=epochs, \n",
    "                    verbose=1, \n",
    "                    validation_data=(x_valid_seq, y_valid_en),\n",
    "                    #callbacks=[earlystop],\n",
    "                   )\n",
    "\n",
    "plot_learning_curves(history)\n",
    "\n",
    "model_dict['1dcnn_fasttext'] = model\n"
   ]
  },
  {
   "cell_type": "code",
   "execution_count": 316,
   "metadata": {},
   "outputs": [],
   "source": [
    "y_pred_val = model.predict_classes(x_valid_seq)\n"
   ]
  },
  {
   "cell_type": "code",
   "execution_count": 320,
   "metadata": {},
   "outputs": [
    {
     "data": {
      "image/png": "[encoded data removed]",
      "text/plain": [
       "<Figure size 432x288 with 1 Axes>"
      ]
     },
     "metadata": {
      "needs_background": "light"
     },
     "output_type": "display_data"
    }
   ],
   "source": [
    "plt.hist(y_valid, \n",
    "         bins=12,\n",
    "        )\n",
    "\n",
    "plt.xlabel(\"Novel class\")\n",
    "plt.ylabel(\"Number of validation samples\")\n",
    "plt.title(\"Novel class distribution\")\n",
    "plt.show()\n"
   ]
  },
  {
   "cell_type": "code",
   "execution_count": 319,
   "metadata": {},
   "outputs": [
    {
     "data": {
      "image/png": "[encoded data removed]",
      "text/plain": [
       "<Figure size 576x576 with 2 Axes>"
      ]
     },
     "metadata": {
      "needs_background": "light"
     },
     "output_type": "display_data"
    }
   ],
   "source": [
    "plot_confusion_matrix(y_valid, y_pred_val)\n"
   ]
  },
  {
   "cell_type": "code",
   "execution_count": 322,
   "metadata": {},
   "outputs": [
    {
     "name": "stdout",
     "output_type": "stream",
     "text": [
      "              precision    recall  f1-score   support\n",
      "\n",
      "           0       0.66      0.68      0.67        98\n",
      "           1       0.62      0.59      0.61       678\n",
      "           2       0.78      0.43      0.55       282\n",
      "           3       0.76      0.47      0.58       819\n",
      "           4       0.80      0.66      0.73       460\n",
      "           5       0.92      0.75      0.82       469\n",
      "           6       0.46      0.86      0.60       841\n",
      "           7       0.67      0.77      0.71       965\n",
      "           8       0.83      0.73      0.78       742\n",
      "           9       0.46      0.26      0.33       187\n",
      "          10       0.48      0.54      0.51       658\n",
      "          11       0.65      0.35      0.45       304\n",
      "\n",
      "    accuracy                           0.64      6503\n",
      "   macro avg       0.67      0.59      0.61      6503\n",
      "weighted avg       0.67      0.64      0.64      6503\n",
      "\n"
     ]
    }
   ],
   "source": [
    "print(classification_report(y_valid, y_pred_val))\n"
   ]
  },
  {
   "cell_type": "code",
   "execution_count": null,
   "metadata": {},
   "outputs": [],
   "source": []
  },
  {
   "cell_type": "markdown",
   "metadata": {},
   "source": [
    "#### Save the model\n"
   ]
  },
  {
   "cell_type": "code",
   "execution_count": 290,
   "metadata": {},
   "outputs": [],
   "source": [
    "model_dict['1dcnn_fasttext'].save('1dcnn_fasttext_{}.h5'.format(epochs))\n"
   ]
  },
  {
   "cell_type": "code",
   "execution_count": null,
   "metadata": {},
   "outputs": [],
   "source": []
  },
  {
   "cell_type": "markdown",
   "metadata": {},
   "source": [
    "### Transformer (TODO)\n",
    "\n",
    "\n",
    "https://atheros.ai/blog/text-classification-with-transformers-in-tensorflow-2\n",
    "\n",
    "https://www.kaggle.com/tanulsingh077/deep-learning-for-nlp-zero-to-transformers-bert\n",
    "\n"
   ]
  },
  {
   "cell_type": "code",
   "execution_count": null,
   "metadata": {},
   "outputs": [],
   "source": []
  },
  {
   "cell_type": "code",
   "execution_count": null,
   "metadata": {},
   "outputs": [],
   "source": []
  },
  {
   "cell_type": "code",
   "execution_count": null,
   "metadata": {},
   "outputs": [],
   "source": []
  },
  {
   "cell_type": "markdown",
   "metadata": {},
   "source": [
    "## Make the prediction on the test set\n",
    "\n"
   ]
  },
  {
   "cell_type": "markdown",
   "metadata": {},
   "source": [
    "### Train the model on whole trainig set\n"
   ]
  },
  {
   "cell_type": "code",
   "execution_count": null,
   "metadata": {},
   "outputs": [],
   "source": [
    "epochs = 100\n"
   ]
  },
  {
   "cell_type": "code",
   "execution_count": null,
   "metadata": {},
   "outputs": [],
   "source": [
    "# model = load_model('1dcnn_fasttext_{}.h5'.format(100))\n",
    "model = define_cnn_model(word_index=word_index, \n",
    "                         max_sent_len=max_sent_len,\n",
    "                         embedding_matrix=fasttext_embedding_matrix,\n",
    "                        )\n",
    "\n",
    "history = model.fit(x=x_train_all_seq, \n",
    "                    y=y_train_all_en, \n",
    "                    batch_size=batch_size, \n",
    "                    epochs=epochs, \n",
    "                    verbose=0, \n",
    "                    #validation_data=(x_valid_seq, y_valid_en),\n",
    "                    #callbacks=[earlystop],\n",
    "                   )\n",
    "\n",
    "model_dict['cnn_fasttext_final'] = model\n",
    "\n"
   ]
  },
  {
   "cell_type": "code",
   "execution_count": 237,
   "metadata": {},
   "outputs": [],
   "source": [
    "model_dict['cnn_fasttext_final'].save('cnn_fasttext_final_{}.h5'.format(epochs))\n",
    "\n"
   ]
  },
  {
   "cell_type": "code",
   "execution_count": null,
   "metadata": {},
   "outputs": [],
   "source": []
  },
  {
   "cell_type": "code",
   "execution_count": null,
   "metadata": {},
   "outputs": [],
   "source": []
  },
  {
   "cell_type": "markdown",
   "metadata": {},
   "source": [
    "### Make the prediction on the test set\n"
   ]
  },
  {
   "cell_type": "code",
   "execution_count": 238,
   "metadata": {},
   "outputs": [
    {
     "name": "stdout",
     "output_type": "stream",
     "text": [
      "WARNING:tensorflow:From <ipython-input-238-40d9eeb5af68>:1: Sequential.predict_classes (from tensorflow.python.keras.engine.sequential) is deprecated and will be removed after 2021-01-01.\n",
      "Instructions for updating:\n",
      "Please use instead:* `np.argmax(model.predict(x), axis=-1)`,   if your model does multi-class classification   (e.g. if it uses a `softmax` last-layer activation).* `(model.predict(x) > 0.5).astype(\"int32\")`,   if your model does binary classification   (e.g. if it uses a `sigmoid` last-layer activation).\n"
     ]
    }
   ],
   "source": [
    "predictions = model.predict_classes(x_test_seq)\n"
   ]
  },
  {
   "cell_type": "code",
   "execution_count": 240,
   "metadata": {},
   "outputs": [
    {
     "data": {
      "text/plain": [
       "3000"
      ]
     },
     "execution_count": 240,
     "metadata": {},
     "output_type": "execute_result"
    }
   ],
   "source": [
    "len(predictions)"
   ]
  },
  {
   "cell_type": "code",
   "execution_count": 249,
   "metadata": {},
   "outputs": [],
   "source": [
    "with open('ytest.txt', 'w') as f:\n",
    "    for pred in predictions:\n",
    "        f.write(\"%s\\n\" % pred)\n"
   ]
  },
  {
   "cell_type": "code",
   "execution_count": 254,
   "metadata": {},
   "outputs": [
    {
     "data": {
      "text/plain": [
       "\"\\n# test the save function\\n\\ny_test = []\\nwith open('ytest.txt') as f:\\n    y_test = f.read().strip().split('\\n')\\n\\ny_test = [int(y) for y in y_test]\\nprint(len(y_test))\\nprint(y_test[0])\\n\""
      ]
     },
     "execution_count": 254,
     "metadata": {},
     "output_type": "execute_result"
    }
   ],
   "source": [
    "\"\"\"\n",
    "# test the save function\n",
    "\n",
    "y_test = []\n",
    "with open('ytest.txt') as f:\n",
    "    y_test = f.read().strip().split('\\n')\n",
    "\n",
    "y_test = [int(y) for y in y_test]\n",
    "print(len(y_test))\n",
    "print(y_test[0])\n",
    "\"\"\""
   ]
  },
  {
   "cell_type": "code",
   "execution_count": null,
   "metadata": {},
   "outputs": [],
   "source": []
  },
  {
   "cell_type": "markdown",
   "metadata": {},
   "source": [
    "## Future Work\n"
   ]
  },
  {
   "cell_type": "code",
   "execution_count": null,
   "metadata": {},
   "outputs": [],
   "source": []
  },
  {
   "cell_type": "code",
   "execution_count": null,
   "metadata": {},
   "outputs": [],
   "source": []
  }
 ],
 "metadata": {
  "kernelspec": {
   "display_name": "Python 3",
   "language": "python",
   "name": "python3"
  },
  "language_info": {
   "codemirror_mode": {
    "name": "ipython",
    "version": 3
   },
   "file_extension": ".py",
   "mimetype": "text/x-python",
   "name": "python",
   "nbconvert_exporter": "python",
   "pygments_lexer": "ipython3",
   "version": "3.7.6"
  },
  "toc": {
   "base_numbering": 1,
   "nav_menu": {},
   "number_sections": true,
   "sideBar": true,
   "skip_h1_title": true,
   "title_cell": "Table of Contents",
   "title_sidebar": "Contents",
   "toc_cell": true,
   "toc_position": {
    "height": "calc(100% - 180px)",
    "left": "10px",
    "top": "150px",
    "width": "165px"
   },
   "toc_section_display": true,
   "toc_window_display": true
  }
 },
 "nbformat": 4,
 "nbformat_minor": 4
}
