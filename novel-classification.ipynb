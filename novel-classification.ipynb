{
 "cells": [
  {
   "cell_type": "markdown",
   "metadata": {
    "toc": true
   },
   "source": [
    "<h1>Table of Contents<span class=\"tocSkip\"></span></h1>\n",
    "<div class=\"toc\"><ul class=\"toc-item\"><li><span><a href=\"#Methodology\" data-toc-modified-id=\"Methodology-1\"><span class=\"toc-item-num\">1&nbsp;&nbsp;</span>Methodology</a></span></li><li><span><a href=\"#Train,-Test,-and-Validation-Sets\" data-toc-modified-id=\"Train,-Test,-and-Validation-Sets-2\"><span class=\"toc-item-num\">2&nbsp;&nbsp;</span>Train, Test, and Validation Sets</a></span><ul class=\"toc-item\"><li><span><a href=\"#Load-train-and-test-data\" data-toc-modified-id=\"Load-train-and-test-data-2.1\"><span class=\"toc-item-num\">2.1&nbsp;&nbsp;</span>Load train and test data</a></span></li><li><span><a href=\"#Split-train-set-into-train-and-validation-sets\" data-toc-modified-id=\"Split-train-set-into-train-and-validation-sets-2.2\"><span class=\"toc-item-num\">2.2&nbsp;&nbsp;</span>Split train set into train and validation sets</a></span></li></ul></li><li><span><a href=\"#Exploratory-Data-Analysis-(EDA)\" data-toc-modified-id=\"Exploratory-Data-Analysis-(EDA)-3\"><span class=\"toc-item-num\">3&nbsp;&nbsp;</span>Exploratory Data Analysis (EDA)</a></span><ul class=\"toc-item\"><li><span><a href=\"#Class-distribution\" data-toc-modified-id=\"Class-distribution-3.1\"><span class=\"toc-item-num\">3.1&nbsp;&nbsp;</span>Class distribution</a></span></li><li><span><a href=\"#Sentence-length-distribution\" data-toc-modified-id=\"Sentence-length-distribution-3.2\"><span class=\"toc-item-num\">3.2&nbsp;&nbsp;</span>Sentence length distribution</a></span></li></ul></li><li><span><a href=\"#Word-Embedding\" data-toc-modified-id=\"Word-Embedding-4\"><span class=\"toc-item-num\">4&nbsp;&nbsp;</span>Word Embedding</a></span></li><li><span><a href=\"#Features-(X)-and-Labels-(Y)\" data-toc-modified-id=\"Features-(X)-and-Labels-(Y)-5\"><span class=\"toc-item-num\">5&nbsp;&nbsp;</span>Features (X) and Labels (Y)</a></span><ul class=\"toc-item\"><li><span><a href=\"#Tokenization-and-padding\" data-toc-modified-id=\"Tokenization-and-padding-5.1\"><span class=\"toc-item-num\">5.1&nbsp;&nbsp;</span>Tokenization and padding</a></span></li><li><span><a href=\"#Creating-an-embedding-matrix\" data-toc-modified-id=\"Creating-an-embedding-matrix-5.2\"><span class=\"toc-item-num\">5.2&nbsp;&nbsp;</span>Creating an embedding matrix</a></span></li><li><span><a href=\"#Encoding-the-labels\" data-toc-modified-id=\"Encoding-the-labels-5.3\"><span class=\"toc-item-num\">5.3&nbsp;&nbsp;</span>Encoding the labels</a></span></li></ul></li><li><span><a href=\"#Model\" data-toc-modified-id=\"Model-6\"><span class=\"toc-item-num\">6&nbsp;&nbsp;</span>Model</a></span><ul class=\"toc-item\"><li><span><a href=\"#Define-the-functions-for-ploting\" data-toc-modified-id=\"Define-the-functions-for-ploting-6.1\"><span class=\"toc-item-num\">6.1&nbsp;&nbsp;</span>Define the functions for ploting</a></span></li><li><span><a href=\"#Parameters\" data-toc-modified-id=\"Parameters-6.2\"><span class=\"toc-item-num\">6.2&nbsp;&nbsp;</span>Parameters</a></span></li><li><span><a href=\"#GRU\" data-toc-modified-id=\"GRU-6.3\"><span class=\"toc-item-num\">6.3&nbsp;&nbsp;</span>GRU</a></span><ul class=\"toc-item\"><li><span><a href=\"#Define-the-model\" data-toc-modified-id=\"Define-the-model-6.3.1\"><span class=\"toc-item-num\">6.3.1&nbsp;&nbsp;</span>Define the model</a></span></li><li><span><a href=\"#Train-the-model\" data-toc-modified-id=\"Train-the-model-6.3.2\"><span class=\"toc-item-num\">6.3.2&nbsp;&nbsp;</span>Train the model</a></span></li><li><span><a href=\"#Plot-validation-performance\" data-toc-modified-id=\"Plot-validation-performance-6.3.3\"><span class=\"toc-item-num\">6.3.3&nbsp;&nbsp;</span>Plot validation performance</a></span></li><li><span><a href=\"#Save-the-model\" data-toc-modified-id=\"Save-the-model-6.3.4\"><span class=\"toc-item-num\">6.3.4&nbsp;&nbsp;</span>Save the model</a></span></li></ul></li><li><span><a href=\"#CNN\" data-toc-modified-id=\"CNN-6.4\"><span class=\"toc-item-num\">6.4&nbsp;&nbsp;</span>CNN</a></span><ul class=\"toc-item\"><li><span><a href=\"#Define-the-model\" data-toc-modified-id=\"Define-the-model-6.4.1\"><span class=\"toc-item-num\">6.4.1&nbsp;&nbsp;</span>Define the model</a></span></li><li><span><a href=\"#Train-the-model\" data-toc-modified-id=\"Train-the-model-6.4.2\"><span class=\"toc-item-num\">6.4.2&nbsp;&nbsp;</span>Train the model</a></span></li><li><span><a href=\"#Plot-validation-performance\" data-toc-modified-id=\"Plot-validation-performance-6.4.3\"><span class=\"toc-item-num\">6.4.3&nbsp;&nbsp;</span>Plot validation performance</a></span></li><li><span><a href=\"#Save-the-model\" data-toc-modified-id=\"Save-the-model-6.4.4\"><span class=\"toc-item-num\">6.4.4&nbsp;&nbsp;</span>Save the model</a></span></li></ul></li><li><span><a href=\"#CNN-+-GRU\" data-toc-modified-id=\"CNN-+-GRU-6.5\"><span class=\"toc-item-num\">6.5&nbsp;&nbsp;</span>CNN + GRU</a></span><ul class=\"toc-item\"><li><span><a href=\"#Define-the-model\" data-toc-modified-id=\"Define-the-model-6.5.1\"><span class=\"toc-item-num\">6.5.1&nbsp;&nbsp;</span>Define the model</a></span></li><li><span><a href=\"#Train-the-model\" data-toc-modified-id=\"Train-the-model-6.5.2\"><span class=\"toc-item-num\">6.5.2&nbsp;&nbsp;</span>Train the model</a></span></li><li><span><a href=\"#Plot-validation-performance\" data-toc-modified-id=\"Plot-validation-performance-6.5.3\"><span class=\"toc-item-num\">6.5.3&nbsp;&nbsp;</span>Plot validation performance</a></span></li><li><span><a href=\"#Save-the-model\" data-toc-modified-id=\"Save-the-model-6.5.4\"><span class=\"toc-item-num\">6.5.4&nbsp;&nbsp;</span>Save the model</a></span></li></ul></li><li><span><a href=\"#Transformer-(TODO)\" data-toc-modified-id=\"Transformer-(TODO)-6.6\"><span class=\"toc-item-num\">6.6&nbsp;&nbsp;</span>Transformer (TODO)</a></span></li><li><span><a href=\"#Summary\" data-toc-modified-id=\"Summary-6.7\"><span class=\"toc-item-num\">6.7&nbsp;&nbsp;</span>Summary</a></span></li></ul></li><li><span><a href=\"#Prediction\" data-toc-modified-id=\"Prediction-7\"><span class=\"toc-item-num\">7&nbsp;&nbsp;</span>Prediction</a></span><ul class=\"toc-item\"><li><span><a href=\"#Train-the-model-on-whole-trainig-set\" data-toc-modified-id=\"Train-the-model-on-whole-trainig-set-7.1\"><span class=\"toc-item-num\">7.1&nbsp;&nbsp;</span>Train the model on whole trainig set</a></span></li><li><span><a href=\"#TODO:-increase-the-number-of-epochs\" data-toc-modified-id=\"TODO:-increase-the-number-of-epochs-7.2\"><span class=\"toc-item-num\">7.2&nbsp;&nbsp;</span>TODO: increase the number of epochs</a></span></li><li><span><a href=\"#Make-the-prediction-on-the-test-set\" data-toc-modified-id=\"Make-the-prediction-on-the-test-set-7.3\"><span class=\"toc-item-num\">7.3&nbsp;&nbsp;</span>Make the prediction on the test set</a></span></li></ul></li><li><span><a href=\"#Conclusion\" data-toc-modified-id=\"Conclusion-8\"><span class=\"toc-item-num\">8&nbsp;&nbsp;</span>Conclusion</a></span></li></ul></div>"
   ]
  },
  {
   "cell_type": "code",
   "execution_count": null,
   "metadata": {},
   "outputs": [],
   "source": []
  },
  {
   "cell_type": "markdown",
   "metadata": {},
   "source": [
    " \n",
    "Which Novel Do I Belong To?\n",
    "\n",
    "In this task, you are expected to learn a Machine Learning model that classifies a given line as belonging to one of the following 12 novels:\n",
    "\n",
    "0: alice_in_wonderland\n",
    "1: dracula\n",
    "2: dubliners\n",
    "3: great_expectations\n",
    "4: hard_times\n",
    "5: huckleberry_finn\n",
    "6: les_miserable\n",
    "7: moby_dick\n",
    "8: oliver_twist\n",
    "9: peter_pan\n",
    "10: talw_of_two_cities\n",
    "11: tom_sawyer\n",
    "\n",
    "\n",
    "Description:\n",
    "\n",
    "You are provided with a zip file (offline_challenge.zip) containing three text files - xtrain.txt, ytrain.txt, xtest.txt. Each line in xtrain.txt and xtest.txt comes from a different novel. The data has been obfuscated, however the patterns in them are preserved. The novel ids corresponding to xtrain.txt are specified in ytrain.txt. You can use these labels to train a Machine Learning model (Deep Learning preferred).\n",
    "\n",
    "With the learned model, predict the novel ids of the lines in xtest.txt (one prediction per line). As part of your submission, include\n",
    "\n",
    "a) your predictions (in the same format as ytrain.txt)\n",
    "b) Expected accuracy on the test set\n",
    "c) the source code for training and prediction (< 10MB)\n",
    "d) a brief description of your method (optional)\n"
   ]
  },
  {
   "cell_type": "code",
   "execution_count": null,
   "metadata": {},
   "outputs": [],
   "source": []
  },
  {
   "cell_type": "code",
   "execution_count": 425,
   "metadata": {},
   "outputs": [],
   "source": [
    "import string\n",
    "\n",
    "import collections\n",
    "\n",
    "from matplotlib import pyplot\n",
    "import matplotlib.pyplot as plt\n",
    "import seaborn as sns\n",
    "%matplotlib inline\n",
    "\n",
    "import numpy as np # linear algebra\n",
    "from numpy import genfromtxt\n",
    "import pandas as pd # data processing, CSV file I/O (e.g. pd.read_csv)\n",
    "\n",
    "from sklearn.preprocessing import OneHotEncoder\n",
    "from sklearn.model_selection import train_test_split\n",
    "from sklearn import metrics\n",
    "from sklearn.metrics import confusion_matrix\n",
    "from sklearn.metrics import classification_report\n",
    "\n",
    "import keras\n",
    "from keras.models import Model, load_model, Sequential\n",
    "from keras.layers import Dense, Input, Dropout, MaxPooling1D, Conv1D, GlobalMaxPool1D, Bidirectional\n",
    "from keras.layers import LSTM, Lambda, Bidirectional, concatenate, BatchNormalization, Embedding\n",
    "from keras.layers import Reshape, RepeatVector\n",
    "from keras.layers import TimeDistributed\n",
    "from keras.optimizers import Adam\n",
    "from keras.callbacks import ModelCheckpoint, EarlyStopping\n",
    "from keras.models import load_model\n"
   ]
  },
  {
   "cell_type": "code",
   "execution_count": null,
   "metadata": {},
   "outputs": [],
   "source": []
  },
  {
   "cell_type": "markdown",
   "metadata": {},
   "source": [
    "## Methodology\n",
    "\n",
    "The novel classification task is formulated as a classification problem. \n",
    "Given a sentence x, the object is to predict its label y.\n",
    "To solve this problem, the sentences are transformed into pretrained text representations and then the text representations are fed to various deep learning architectures to classify the sentences into classes. \n",
    "The proposed solution is described as follows.\n",
    "\n",
    "1. Create a character dictionary which contains the mapping of each character in xtrain_obfuscated.txt to an integer.\n",
    "\n",
    "2. Transfer each sentence into a sequence of integers by using the character dictionary created in the first step.\n",
    "\n",
    "3. All the sentences are padded with zeros to make all the sentences have the same length which is the maximum length of the sentences.\n",
    "\n",
    "4. Download the pre-trained word embedding vectors of fastText and create a dictionary which contains the mapping of a character to a vector.\n",
    "\n",
    "5. Based on the character dictionary created in step 1 and the character embedding dictionary created in step 4, create an embedding matrix. Each row i of the matrix contains the word vector of the character i.\n",
    "\n",
    "6. Define a deep learning model. The input layer takes the sequence of integers (generated in step 2) as input.\n",
    "\n",
    "7. The initial weights of the second layer are the values of the embedding matrix which is created in step 5.\n",
    "\n",
    "8. The following layers of the deep learning model are composed of the combination of CNN and GRU layers.\n",
    "\n",
    "9. 80% of the data in xtrain_obfuscated.txt and ytrain.txt is used to train the deep learning model. 20% of the data is considered as the validation set to compute the performance of the trained model.\n",
    "\n",
    "10. Finally, all the data in xtrain_obfuscated.txt and ytrain.txt is used to train the deep learning model. \n",
    "\n",
    "11. The trained model is used to predict the class of the sentences in xtest_obfuscated.txt. \n",
    "\n",
    "12. The predictions are saved in ytest.txt.\n"
   ]
  },
  {
   "cell_type": "code",
   "execution_count": null,
   "metadata": {},
   "outputs": [],
   "source": []
  },
  {
   "cell_type": "markdown",
   "metadata": {},
   "source": [
    "## Train, Test, and Validation Sets\n"
   ]
  },
  {
   "cell_type": "markdown",
   "metadata": {},
   "source": [
    "### Load train and test data \n"
   ]
  },
  {
   "cell_type": "code",
   "execution_count": null,
   "metadata": {},
   "outputs": [],
   "source": [
    "x_train_file = '../offline_challenge/xtrain_obfuscated.txt'\n",
    "y_train_file = '../offline_challenge/xtrain_obfuscated.txt'\n",
    "x_test_file = '../offline_challenge/ytrain.txt'\n"
   ]
  },
  {
   "cell_type": "code",
   "execution_count": 502,
   "metadata": {},
   "outputs": [],
   "source": [
    "\n",
    "with open(x_train_file) as f:\n",
    "    x_train_all = f.read().strip().lower().split('\\n')\n",
    "    \n",
    "with open(y_train_file) as f:\n",
    "    y_train_all = f.read().strip().split('\\n')\n",
    "y_train_all[:] = [int(y) for y in y_train_all]\n",
    "\n",
    "with open(x_test_file) as f:\n",
    "    x_test = f.read().strip().lower().split('\\n')\n",
    "       "
   ]
  },
  {
   "cell_type": "code",
   "execution_count": 507,
   "metadata": {},
   "outputs": [
    {
     "name": "stdout",
     "output_type": "stream",
     "text": [
      "32513 32513\n",
      "3000\n"
     ]
    }
   ],
   "source": [
    "print(len(y_train_all), len(y_train_all))\n",
    "print(len(x_test))\n"
   ]
  },
  {
   "cell_type": "code",
   "execution_count": null,
   "metadata": {},
   "outputs": [],
   "source": []
  },
  {
   "cell_type": "markdown",
   "metadata": {},
   "source": [
    "### Split train set into train and validation sets\n"
   ]
  },
  {
   "cell_type": "code",
   "execution_count": 508,
   "metadata": {},
   "outputs": [],
   "source": [
    "x_train, x_valid, y_train, y_valid = train_test_split(x_train_all, y_train_all, test_size=0.2, random_state=42)\n"
   ]
  },
  {
   "cell_type": "code",
   "execution_count": 509,
   "metadata": {},
   "outputs": [
    {
     "name": "stdout",
     "output_type": "stream",
     "text": [
      "6503 6503\n"
     ]
    }
   ],
   "source": [
    "print(len(x_valid), len(y_valid))\n"
   ]
  },
  {
   "cell_type": "code",
   "execution_count": null,
   "metadata": {},
   "outputs": [],
   "source": []
  },
  {
   "cell_type": "markdown",
   "metadata": {},
   "source": [
    "## Exploratory Data Analysis (EDA)\n"
   ]
  },
  {
   "cell_type": "markdown",
   "metadata": {},
   "source": [
    "### Class distribution\n"
   ]
  },
  {
   "cell_type": "code",
   "execution_count": 513,
   "metadata": {},
   "outputs": [
    {
     "data": {
      "text/plain": [
       "Counter({7: 5097,\n",
       "         3: 4023,\n",
       "         8: 3634,\n",
       "         4: 2337,\n",
       "         1: 3459,\n",
       "         11: 1408,\n",
       "         10: 3052,\n",
       "         9: 980,\n",
       "         6: 4226,\n",
       "         2: 1471,\n",
       "         5: 2283,\n",
       "         0: 543})"
      ]
     },
     "execution_count": 513,
     "metadata": {},
     "output_type": "execute_result"
    }
   ],
   "source": [
    "collections.Counter(y_train_all)\n"
   ]
  },
  {
   "cell_type": "code",
   "execution_count": 514,
   "metadata": {},
   "outputs": [
    {
     "data": {
      "image/png": "[encoded data removed]",
      "text/plain": [
       "<Figure size 432x288 with 1 Axes>"
      ]
     },
     "metadata": {
      "needs_background": "light"
     },
     "output_type": "display_data"
    }
   ],
   "source": [
    "plt.hist(y_train_all, \n",
    "         bins=12,\n",
    "        )\n",
    "\n",
    "plt.xlabel(\"Novel class\")\n",
    "plt.ylabel(\"Number of train samples\")\n",
    "plt.title(\"Novel class distribution\")\n",
    "plt.show()\n"
   ]
  },
  {
   "cell_type": "markdown",
   "metadata": {},
   "source": [
    "It shows that the data is imbalanced. Classes '0' and '10' have very few samples.\n"
   ]
  },
  {
   "cell_type": "code",
   "execution_count": null,
   "metadata": {},
   "outputs": [],
   "source": []
  },
  {
   "cell_type": "code",
   "execution_count": null,
   "metadata": {},
   "outputs": [],
   "source": []
  },
  {
   "cell_type": "markdown",
   "metadata": {},
   "source": [
    "### Sentence length distribution\n"
   ]
  },
  {
   "cell_type": "code",
   "execution_count": 515,
   "metadata": {},
   "outputs": [
    {
     "data": {
      "image/png": "[encoded data removed]",
      "text/plain": [
       "<Figure size 432x288 with 1 Axes>"
      ]
     },
     "metadata": {
      "needs_background": "light"
     },
     "output_type": "display_data"
    }
   ],
   "source": [
    "sent_len_train = [len(sent) for sent in x_train_all]\n",
    "sent_len_test = [len(sent) for sent in x_test]\n",
    "\n",
    "plt.hist(sent_len_train, \n",
    "         bins=range(min(sent_len_train), max(sent_len_train) + 1, 5),\n",
    "         alpha=0.4,\n",
    "         density=True,\n",
    "         color='green',\n",
    "        )\n",
    "\n",
    "plt.hist(sent_len_test, \n",
    "         bins=range(min(sent_len_test), max(sent_len_test) + 1, 5),\n",
    "         alpha=0.4,\n",
    "         density=True,\n",
    "         color='red',\n",
    "        )\n",
    "\n",
    "labels = ['Train',\"Test\"]\n",
    "plt.legend(labels)\n",
    "plt.xlabel(\"Length of sentence\")\n",
    "plt.ylabel(\"Percentage\")\n",
    "plt.title(\"Sentence length distribution (Train, Test)\")\n",
    "\n",
    "\n",
    "plt.show()\n"
   ]
  },
  {
   "cell_type": "markdown",
   "metadata": {},
   "source": [
    "The plot shows the distributions of sentence length in the train set and test set are similar.\n"
   ]
  },
  {
   "cell_type": "code",
   "execution_count": null,
   "metadata": {},
   "outputs": [],
   "source": []
  },
  {
   "cell_type": "markdown",
   "metadata": {},
   "source": [
    "## Word Embedding\n",
    "\n",
    "\n",
    "fastText is used because it is not possible to get words directly from the obfuscated sentence.\n",
    "\n",
    "\n",
    "\n",
    "**Reference**\n",
    "\n",
    "\n",
    "- What is the difference between fastText and GloVe?\n",
    "\n",
    "\"\n",
    "Key difference is Glove treats each word in corpus like an atomic entity and generates a vector for each word. \n",
    "In this sense Glove is very much like word2vec- both treat words as the smallest unit to train on.\n",
    "\n",
    "Fasttext which is essentially an extension of word2vec model, treats each word as composed of character ngrams. \n",
    "So the vector for a word is made of the sum of this character n grams. This difference enables fasttext to\n",
    "\n",
    "- Generate better word embeddings for rare words \n",
    "( even if words are rare their character n grams are still shared with other words - hence the embeddings can still be good)\n",
    "\n",
    "- Out of vocabulary words - they can construct the vector for a word from its character n grams even if word doesn't appear in training corpus. Both Glove and word2vec can't.\n",
    "\"\n",
    "\n",
    "https://www.quora.com/What-is-the-difference-between-fastText-and-GloVe\n",
    "\n",
    "\n",
    "* What Are Word Embeddings for Text?\n",
    "\n",
    "https://machinelearningmastery.com/what-are-word-embeddings/\n",
    "\n",
    "\n",
    "https://blog.keras.io/using-pre-trained-word-embeddings-in-a-keras-model.html\n",
    "\n",
    "https://dzone.com/articles/glove-and-fasttext-two-popular-word-vector-models\n",
    "\n",
    "https://mc.ai/word-embeddings-in-nlp-word2vec-glove-fasttext/\n",
    "\n",
    "\n",
    "\n",
    "\n",
    "\n"
   ]
  },
  {
   "cell_type": "code",
   "execution_count": null,
   "metadata": {},
   "outputs": [],
   "source": [
    "def get_embedding(embedding_file):\n",
    "    \"\"\"\n",
    "    Create a dictionary contains key: word/character, value: a vector\n",
    "    \"\"\"\n",
    "    embedding_dict = {}\n",
    "    with open(embedding_file) as f:\n",
    "        for line in tqdm(f):\n",
    "            values = line.split()\n",
    "            word = values[0]\n",
    "            embedding_dict[word] = np.asarray(values[1:], dtype='float32')\n",
    "    return embedding_dict\n"
   ]
  },
  {
   "cell_type": "code",
   "execution_count": 218,
   "metadata": {},
   "outputs": [
    {
     "name": "stderr",
     "output_type": "stream",
     "text": [
      "400000it [00:35, 11409.46it/s]\n",
      "1999996it [02:52, 11590.40it/s]\n"
     ]
    }
   ],
   "source": [
    "#glove_path = '../glove.6B.300d.txt'\n",
    "#glove_path = '../glove.840B.300d.txt'\n",
    "#glove_embedding = {}\n",
    "#glove_embedding = get_embedding(glove_path)\n",
    "\n",
    "#fasttext_path = '../wiki-news-300d-1M.vec'\n",
    "fasttext_path = '../crawl-300d-2M.vec'\n",
    "fasttext_embedding = {}\n",
    "fasttext_embedding = get_embedding(fasttext_path)\n"
   ]
  },
  {
   "cell_type": "code",
   "execution_count": null,
   "metadata": {},
   "outputs": [],
   "source": []
  },
  {
   "cell_type": "markdown",
   "metadata": {},
   "source": [
    "## Features (X) and Labels (Y)\n",
    "\n"
   ]
  },
  {
   "cell_type": "markdown",
   "metadata": {},
   "source": [
    "### Tokenization and padding\n"
   ]
  },
  {
   "cell_type": "code",
   "execution_count": 516,
   "metadata": {},
   "outputs": [],
   "source": [
    "\n",
    "max_features = None\n",
    "token = text.Tokenizer(num_words=max_features, char_level=True)\n",
    "\n",
    "token.fit_on_texts(list(x_train_all) + list(x_test))\n",
    "x_train_seq = token.texts_to_sequences(x_train)\n",
    "x_train_all_seq = token.texts_to_sequences(x_train_all)\n",
    "x_valid_seq = token.texts_to_sequences(x_valid)\n",
    "x_test_seq = token.texts_to_sequences(x_test)\n",
    "\n",
    "#zero pad the sequences\n",
    "# max_sent_len = 200\n",
    "max_sent_len = max([len(sent) for sent in x_train_all])\n",
    "x_train_seq = sequence.pad_sequences(x_train_seq, maxlen=max_sent_len)\n",
    "x_train_all_seq = sequence.pad_sequences(x_train_all_seq, maxlen=max_sent_len)\n",
    "x_valid_seq = sequence.pad_sequences(x_valid_seq, maxlen=max_sent_len)\n",
    "x_test_seq = sequence.pad_sequences(x_test_seq, maxlen=max_sent_len)\n",
    "\n",
    "word_index = token.word_index\n"
   ]
  },
  {
   "cell_type": "code",
   "execution_count": 517,
   "metadata": {},
   "outputs": [
    {
     "name": "stdout",
     "output_type": "stream",
     "text": [
      "26010\n",
      "32513\n",
      "6503\n",
      "3000\n",
      "452\n",
      "[ 0  0  0  0  0  0  0  0  0  0  0  0  0  0  0  0  0  0  0  0  0  0  0  0\n",
      "  0  0  0  0  0  0  0  0 15 12  4  9  5 14 12 17  1  2 13 17 15 12  8  7\n",
      "  6  5  8  7 15 12  3  4 13  4  4  9 10  3 21 10  1  2  8  7 11  3 13  4\n",
      "  1  2  9 25 13 17  8  7  4  9 10  3  1  2 10  3  1  6  4  9  3  4  1  2\n",
      "  1  6  8  7  6 16  1  2  9  7  9  7  3  4 19 20  1  2  8  7 11  3 22 21\n",
      " 12 17  1  2  1  2 16 11  1  6 13  4  8  7 12 16 15 18  8  7  6  5  1  2\n",
      "  1  6  5 14  8  7  6  5  6 16  1  2  4  9  3  4  1  2  8  7  6  5  8  7\n",
      " 19 20  1  2 11  3 21 10  3  4 11  3 19 20  1  2 13 17 13  4  8  7 11  3\n",
      " 21 10  5 14 10  3 21 10  1  2  6 16  4  9  3  4  1  6  3  4  5 14 19 20\n",
      "  1  2  8  7 11  3  1  6  1  2 13  4 15 12  6  5  5 14 19 20 10  3  1  6\n",
      "  1  2 13  4  8  7 15 11  8  7  1  2 15 12  8  7  1  6 21 10  5 14  6  5\n",
      "  1  6 13  4  3  4 15 12  1  2  6  5  8  7 11  3  1  2 15 12  8  7  4  9\n",
      "  6  5 12 16  1  6  1  2  1  6  3  4 13  4  6  5  5 14 17 18 22 21  1  2\n",
      " 16 11 13  4  6  5 13 25  1  2 13 17  6 16  4  9  3  4  1  6 11  3  6 16\n",
      "  3  4  9  7  5 14  1  2 22  5 10  3  1  2  1  6  4  9  5 14  1  6 13  4\n",
      "  4  9  3  4  1  2  1  6 13  4  6  5  3  4 22  5  1  2  8  7 11  3  1  6\n",
      "  1  2  4  9  9 17  1  2  1  2 16 11  6  5  8  7  1  6  5 14 19 20  1  2\n",
      "  6  5  8  7 15 12  4  9 12 16  1  2  8  7  6  5  8  7 19 20  1  2 13  4\n",
      "  1  6  8  7  8  7  6  5  1  6 13  4  1  2 15 12  4  9  5 14]\n",
      "{'u': 1, 'h': 2, 'm': 3, 'v': 4, 'e': 5, 'l': 6, 'w': 7, 't': 8, 'i': 9, 'p': 10, 'a': 11, 'k': 12, 'q': 13, 'n': 14, 's': 15, 'r': 16, 'g': 17, 'z': 18, 'd': 19, 'f': 20, 'y': 21, 'x': 22, 'c': 23, 'o': 24, 'j': 25, 'b': 26}\n"
     ]
    }
   ],
   "source": [
    "print(len(x_train_seq))\n",
    "print(len(x_train_all_seq))\n",
    "print(len(x_valid_seq))\n",
    "print(len(x_test_seq))\n",
    "\n",
    "print(len(x_train_seq[0]))\n",
    "print(x_train_seq[0])\n",
    "print(word_index)\n"
   ]
  },
  {
   "cell_type": "code",
   "execution_count": null,
   "metadata": {},
   "outputs": [],
   "source": []
  },
  {
   "cell_type": "markdown",
   "metadata": {},
   "source": [
    "### Creating an embedding matrix\n"
   ]
  },
  {
   "cell_type": "code",
   "execution_count": 518,
   "metadata": {},
   "outputs": [],
   "source": [
    "embedding_len=300\n"
   ]
  },
  {
   "cell_type": "code",
   "execution_count": 519,
   "metadata": {},
   "outputs": [],
   "source": [
    "\n",
    "def get_embedding_matrix(embedding, \n",
    "                         word_index, \n",
    "                         embedding_len=300):\n",
    "    embedding_matrix = np.zeros((len(word_index) + 1, embedding_len))\n",
    "    for word, i in tqdm(word_index.items()):\n",
    "        embedding_vector = embedding.get(word)\n",
    "        if embedding_vector is not None:\n",
    "            embedding_matrix[i] = embedding_vector\n",
    "    return embedding_matrix\n",
    "        \n",
    "    "
   ]
  },
  {
   "cell_type": "code",
   "execution_count": 520,
   "metadata": {},
   "outputs": [
    {
     "name": "stderr",
     "output_type": "stream",
     "text": [
      "100%|██████████| 26/26 [00:00<00:00, 385.83it/s]\n"
     ]
    }
   ],
   "source": [
    "\n",
    "fasttext_embedding_matrix = get_embedding_matrix(embedding=fasttext_embedding,\n",
    "                                                 word_index=word_index,\n",
    "                                                 embedding_len=embedding_len,\n",
    "                                                )\n"
   ]
  },
  {
   "cell_type": "code",
   "execution_count": null,
   "metadata": {},
   "outputs": [],
   "source": [
    "\n"
   ]
  },
  {
   "cell_type": "markdown",
   "metadata": {},
   "source": [
    "### Encoding the labels\n"
   ]
  },
  {
   "cell_type": "code",
   "execution_count": 521,
   "metadata": {},
   "outputs": [],
   "source": [
    "y_train_en = np_utils.to_categorical((y_train))\n",
    "y_train_all_en = np_utils.to_categorical((y_train_all))\n",
    "y_valid_en = np_utils.to_categorical((y_valid))\n"
   ]
  },
  {
   "cell_type": "code",
   "execution_count": null,
   "metadata": {},
   "outputs": [],
   "source": []
  },
  {
   "cell_type": "code",
   "execution_count": null,
   "metadata": {},
   "outputs": [],
   "source": []
  },
  {
   "cell_type": "markdown",
   "metadata": {},
   "source": [
    "## Model\n",
    "\n"
   ]
  },
  {
   "cell_type": "markdown",
   "metadata": {},
   "source": [
    "### Define the functions for ploting\n"
   ]
  },
  {
   "cell_type": "code",
   "execution_count": 477,
   "metadata": {},
   "outputs": [],
   "source": [
    "\n",
    "def plot_confusion_matrix(y_test, y_pred):\n",
    "    confusion_mtx = confusion_matrix(y_test, y_pred) \n",
    "    f,ax = plt.subplots(figsize=(8, 8))\n",
    "    sns.heatmap(confusion_mtx, annot=True, linewidths=0.01, cmap=\"Greens\", linecolor=\"gray\", fmt= '.1f',ax=ax)\n",
    "    plt.xlabel(\"Predicted Label\")\n",
    "    plt.ylabel(\"True Label\")\n",
    "    plt.title(\"Confusion Matrix\")\n",
    "    plt.show()\n",
    "    return\n",
    "\n",
    "\n",
    "def plot_learning_curves(history, acc='acc', val_acc='val_acc'):\n",
    "    # plot loss\n",
    "    pyplot.subplot(211)\n",
    "    pyplot.title('Loss')\n",
    "    pyplot.plot(history.history['loss'], color='blue', label='train')\n",
    "    pyplot.plot(history.history['val_loss'], color='orange', label='test')\n",
    "\n",
    "    # plot accuracy\n",
    "    pyplot.subplot(212)\n",
    "    pyplot.title('Accuracy')\n",
    "    pyplot.plot(history.history[acc], color='blue', label='train')\n",
    "    pyplot.plot(history.history[val_acc], color='orange', label='test')\n",
    "    pyplot.legend()\n",
    "    pyplot.show()\n",
    "    \n",
    "    #filename = sys.argv[0].split('/')[-1]\n",
    "    #pyplot.savefig(filename + '_plot.png')\n",
    "    #pyplot.close()\n",
    "    #image = imread(filename + '_plot.png')\n",
    "    #pyplot.figure(figsize=(10, 25))\n",
    "    #pyplot.imshow(image)\n",
    "    return \n"
   ]
  },
  {
   "cell_type": "markdown",
   "metadata": {},
   "source": [
    "### Parameters\n"
   ]
  },
  {
   "cell_type": "code",
   "execution_count": 550,
   "metadata": {},
   "outputs": [],
   "source": [
    "n_classes = 12\n",
    "batch_size = 32\n",
    "epochs = 60\n",
    "\n",
    "# save all the models in a dictionary\n",
    "model_dict = {}\n"
   ]
  },
  {
   "cell_type": "markdown",
   "metadata": {},
   "source": [
    "### GRU\n",
    "\n",
    "\n",
    "**Reference**\n",
    "\n",
    "* A Tour of Recurrent Neural Network Algorithms for Deep Learning\n",
    "\n",
    "https://machinelearningmastery.com/recurrent-neural-network-algorithms-for-deep-learning/\n"
   ]
  },
  {
   "cell_type": "markdown",
   "metadata": {},
   "source": [
    "#### Define the model"
   ]
  },
  {
   "cell_type": "code",
   "execution_count": 553,
   "metadata": {},
   "outputs": [],
   "source": [
    "def define_gru_model(word_index, \n",
    "                     max_sent_len, \n",
    "                     embedding_matrix,\n",
    "                     embedding_size=0,\n",
    "                     n_classes=12,\n",
    "                    ):\n",
    "    \n",
    "    model = Sequential()\n",
    "    \n",
    "    if embedding_matrix is None:\n",
    "        model.add(Embedding(len(word_index) + 1, \n",
    "                            embedding_size, \n",
    "                            input_length=max_sent_len,\n",
    "                           ))\n",
    "    else:\n",
    "        model.add(Embedding(len(word_index) + 1,\n",
    "                             embedding_matrix.shape[1],\n",
    "                             weights=[embedding_matrix],\n",
    "                             input_length=max_sent_len,\n",
    "                             trainable=False))\n",
    "    \n",
    "    model.add(SpatialDropout1D(0.3))\n",
    "    model.add(GRU(100, dropout=0.3, recurrent_dropout=0.3))\n",
    "    #model.add(GRU(100, dropout=0.3, recurrent_dropout=0.3, return_sequences=True))\n",
    "    #model.add(GRU(100, dropout=0.3, recurrent_dropout=0.3))\n",
    "    #model.add(LSTM(100, dropout=0.3, recurrent_dropout=0.3))\n",
    "\n",
    "    model.add(Dense(64, activation='relu'))\n",
    "    model.add(Dropout(0.5))\n",
    "\n",
    "    model.add(Dense(n_classes))\n",
    "    model.add(Activation('softmax'))\n",
    "    model.compile(loss='categorical_crossentropy', optimizer='adam', metrics=['acc'])\n",
    "\n",
    "    return model\n"
   ]
  },
  {
   "cell_type": "markdown",
   "metadata": {},
   "source": [
    "#### Train the model\n",
    "\n",
    "\n",
    "About early stopping\n",
    "\n",
    "https://medium.com/ai%C2%B3-theory-practice-business/dropout-early-stopping-188a23beb2f9\n"
   ]
  },
  {
   "cell_type": "code",
   "execution_count": null,
   "metadata": {},
   "outputs": [
    {
     "name": "stdout",
     "output_type": "stream",
     "text": [
      "Epoch 1/60\n",
      "813/813 [==============================] - 702s 863ms/step - loss: 2.3127 - acc: 0.1758 - val_loss: 2.2221 - val_acc: 0.1927\n",
      "Epoch 2/60\n",
      "813/813 [==============================] - 607s 746ms/step - loss: 2.2314 - acc: 0.2035 - val_loss: 2.2046 - val_acc: 0.2022\n",
      "Epoch 3/60\n",
      "813/813 [==============================] - 583s 717ms/step - loss: 2.2157 - acc: 0.2047 - val_loss: 2.2001 - val_acc: 0.2028\n",
      "Epoch 4/60\n",
      "813/813 [==============================] - 534s 657ms/step - loss: 2.2062 - acc: 0.2080 - val_loss: 2.1963 - val_acc: 0.2041\n",
      "Epoch 5/60\n",
      "813/813 [==============================] - 525s 646ms/step - loss: 2.1559 - acc: 0.2230 - val_loss: 2.0517 - val_acc: 0.2483\n",
      "Epoch 6/60\n",
      "813/813 [==============================] - 589s 724ms/step - loss: 2.0526 - acc: 0.2527 - val_loss: 2.0127 - val_acc: 0.2833\n",
      "Epoch 7/60\n",
      "813/813 [==============================] - 526s 647ms/step - loss: 1.9972 - acc: 0.2832 - val_loss: 1.9324 - val_acc: 0.3119\n",
      "Epoch 8/60\n",
      "813/813 [==============================] - 540s 664ms/step - loss: 1.9391 - acc: 0.3139 - val_loss: 1.8396 - val_acc: 0.3531\n",
      "Epoch 9/60\n",
      "813/813 [==============================] - 561s 690ms/step - loss: 1.8772 - acc: 0.3409 - val_loss: 1.7820 - val_acc: 0.3764\n",
      "Epoch 10/60\n",
      "813/813 [==============================] - 586s 721ms/step - loss: 1.8334 - acc: 0.3611 - val_loss: 1.7400 - val_acc: 0.3924\n",
      "Epoch 11/60\n",
      "813/813 [==============================] - 566s 696ms/step - loss: 1.7790 - acc: 0.3803 - val_loss: 1.6727 - val_acc: 0.4061\n",
      "Epoch 12/60\n",
      "813/813 [==============================] - 518s 637ms/step - loss: 1.6922 - acc: 0.3987 - val_loss: 1.5211 - val_acc: 0.4416\n",
      "Epoch 13/60\n",
      "813/813 [==============================] - 584s 718ms/step - loss: 1.5755 - acc: 0.4306 - val_loss: 1.4457 - val_acc: 0.4687\n",
      "Epoch 14/60\n",
      "813/813 [==============================] - 632s 777ms/step - loss: 1.5296 - acc: 0.4481 - val_loss: 1.4300 - val_acc: 0.4695\n",
      "Epoch 15/60\n",
      "813/813 [==============================] - 642s 790ms/step - loss: 1.4957 - acc: 0.4606 - val_loss: 1.4025 - val_acc: 0.4824\n",
      "Epoch 16/60\n",
      "643/813 [======================>.......] - ETA: 2:03 - loss: 1.4578 - acc: 0.4732"
     ]
    }
   ],
   "source": [
    "\n",
    "model = define_gru_model(word_index=word_index, \n",
    "                         max_sent_len=max_sent_len, \n",
    "                         embedding_matrix=fasttext_embedding_matrix,\n",
    "                        )\n",
    "\n",
    "# Fit the model with early stopping callback\n",
    "#earlystop = EarlyStopping(monitor='val_loss', min_delta=0, patience=3, verbose=0, mode='auto')\n",
    "\n",
    "history = model.fit(x=x_train_seq, \n",
    "                    y=y_train_en, \n",
    "                    batch_size=batch_size, \n",
    "                    epochs=epochs, \n",
    "                    verbose=1, \n",
    "                    validation_data=(x_valid_seq, y_valid_en),\n",
    "                    #callbacks=[earlystop],\n",
    "                   )\n",
    "\n"
   ]
  },
  {
   "cell_type": "code",
   "execution_count": null,
   "metadata": {},
   "outputs": [],
   "source": [
    "plot_learning_curves(history)\n"
   ]
  },
  {
   "cell_type": "code",
   "execution_count": null,
   "metadata": {},
   "outputs": [],
   "source": [
    "model_dict['gru_fasttext'] = model\n"
   ]
  },
  {
   "cell_type": "code",
   "execution_count": null,
   "metadata": {},
   "outputs": [],
   "source": []
  },
  {
   "cell_type": "code",
   "execution_count": 419,
   "metadata": {},
   "outputs": [
    {
     "data": {
      "image/png": "[encoded data removed]",
      "text/plain": [
       "<Figure size 432x288 with 1 Axes>"
      ]
     },
     "metadata": {
      "needs_background": "light"
     },
     "output_type": "display_data"
    }
   ],
   "source": [
    "plt.hist(y_valid, \n",
    "         bins=12,\n",
    "        )\n",
    "\n",
    "plt.xlabel(\"Novel class\")\n",
    "plt.ylabel(\"Number of validation samples\")\n",
    "plt.title(\"Novel class distribution\")\n",
    "plt.show()\n"
   ]
  },
  {
   "cell_type": "code",
   "execution_count": null,
   "metadata": {},
   "outputs": [],
   "source": []
  },
  {
   "cell_type": "markdown",
   "metadata": {},
   "source": [
    "#### Plot validation performance\n"
   ]
  },
  {
   "cell_type": "code",
   "execution_count": null,
   "metadata": {},
   "outputs": [],
   "source": [
    "y_pred_val = model.predict_classes(x_valid_seq)\n"
   ]
  },
  {
   "cell_type": "code",
   "execution_count": null,
   "metadata": {},
   "outputs": [],
   "source": [
    "plot_confusion_matrix(y_valid, y_pred_val)\n"
   ]
  },
  {
   "cell_type": "code",
   "execution_count": null,
   "metadata": {},
   "outputs": [],
   "source": [
    "print(classification_report(y_valid, y_pred_val))\n"
   ]
  },
  {
   "cell_type": "code",
   "execution_count": null,
   "metadata": {},
   "outputs": [],
   "source": []
  },
  {
   "cell_type": "code",
   "execution_count": null,
   "metadata": {},
   "outputs": [],
   "source": []
  },
  {
   "cell_type": "markdown",
   "metadata": {},
   "source": [
    "#### Save the model\n"
   ]
  },
  {
   "cell_type": "code",
   "execution_count": 342,
   "metadata": {},
   "outputs": [],
   "source": [
    "model_dict['gru_fasttext'].save('gru_fasttext_{}.h5'.format(epochs))\n"
   ]
  },
  {
   "cell_type": "code",
   "execution_count": null,
   "metadata": {},
   "outputs": [],
   "source": []
  },
  {
   "cell_type": "markdown",
   "metadata": {},
   "source": [
    "### CNN\n",
    "\n",
    "\n",
    "**Reference**\n",
    "\n",
    "* How to Develop a Multichannel CNN Model for Text Classification\n",
    "\n",
    "\n",
    "https://machinelearningmastery.com/develop-n-gram-multichannel-convolutional-neural-network-sentiment-analysis/\n",
    "\n",
    "https://www.kaggle.com/kmader/character-level-cnn-classification-with-dilations\n",
    "\n",
    "https://machinelearningmastery.com/best-practices-document-classification-deep-learning/\n",
    "\n"
   ]
  },
  {
   "cell_type": "markdown",
   "metadata": {},
   "source": [
    "#### Define the model\n"
   ]
  },
  {
   "cell_type": "code",
   "execution_count": 541,
   "metadata": {},
   "outputs": [],
   "source": [
    "def define_cnn_model(word_index, \n",
    "                     max_sent_len,\n",
    "                     embedding_matrix,\n",
    "                     embedding_size=0,\n",
    "                     n_classes=12,\n",
    "                    ):\n",
    "    model = Sequential()\n",
    "    \n",
    "    if embedding_matrix is None:\n",
    "        model.add(Embedding(len(word_index) + 1, \n",
    "                            embedding_size, \n",
    "                            input_length=max_sent_len,\n",
    "                           ))\n",
    "    else:\n",
    "        model.add(Embedding(len(word_index) + 1,\n",
    "                             embedding_matrix.shape[1],\n",
    "                             weights=[embedding_matrix],\n",
    "                             input_length=max_sent_len,\n",
    "                             trainable=False))\n",
    "    model.add(Dropout(0.3))\n",
    "\n",
    "    # add a Convolution1D, which will learn filters\n",
    "    # word group filters of size filter_length:\n",
    "    model.add(Conv1D(64,\n",
    "                     5,\n",
    "                     activation='relu'))\n",
    "    model.add(MaxPooling1D(5))\n",
    "    model.add(BatchNormalization())\n",
    "    model.add(Conv1D(128,\n",
    "                     5,\n",
    "                     activation='relu'))\n",
    "    model.add(MaxPooling1D(5))\n",
    "    model.add(BatchNormalization())\n",
    "    #model.add(Conv1D(256,\n",
    "    #                 5,\n",
    "    #                 activation='relu'))\n",
    "    #model.add(BatchNormalization())\n",
    "    #model.add(MaxPooling1D(3))\n",
    "    #model.add(BatchNormalization())\n",
    "    model.add(Flatten())\n",
    "    model.add(Dense(64, activation='relu'))\n",
    "    model.add(Dropout(0.5))\n",
    "\n",
    "    model.add(Dense(n_classes, activation='softmax'))\n",
    "\n",
    "    model.compile(loss='categorical_crossentropy',\n",
    "                  optimizer='adam',\n",
    "                  metrics=['acc'])\n",
    "    \n",
    "    return model\n",
    "    \n",
    "    "
   ]
  },
  {
   "cell_type": "code",
   "execution_count": null,
   "metadata": {},
   "outputs": [],
   "source": []
  },
  {
   "cell_type": "markdown",
   "metadata": {},
   "source": [
    "#### Train the model\n"
   ]
  },
  {
   "cell_type": "code",
   "execution_count": 542,
   "metadata": {},
   "outputs": [
    {
     "name": "stdout",
     "output_type": "stream",
     "text": [
      "Epoch 1/60\n",
      "813/813 [==============================] - 97s 120ms/step - loss: 2.3381 - acc: 0.1732 - val_loss: 2.2006 - val_acc: 0.1916\n",
      "Epoch 2/60\n",
      "813/813 [==============================] - 101s 124ms/step - loss: 2.1300 - acc: 0.2396 - val_loss: 2.3044 - val_acc: 0.2288\n",
      "Epoch 3/60\n",
      "813/813 [==============================] - 85s 104ms/step - loss: 1.9358 - acc: 0.3209 - val_loss: 1.7205 - val_acc: 0.3961\n",
      "Epoch 4/60\n",
      "813/813 [==============================] - 76s 93ms/step - loss: 1.7608 - acc: 0.3875 - val_loss: 1.8351 - val_acc: 0.3794\n",
      "Epoch 5/60\n",
      "813/813 [==============================] - 71s 88ms/step - loss: 1.6070 - acc: 0.4396 - val_loss: 3.4314 - val_acc: 0.3109\n",
      "Epoch 6/60\n",
      "813/813 [==============================] - 70s 86ms/step - loss: 1.5019 - acc: 0.4745 - val_loss: 1.7424 - val_acc: 0.4237\n",
      "Epoch 7/60\n",
      "813/813 [==============================] - 70s 86ms/step - loss: 1.4224 - acc: 0.5026 - val_loss: 1.8095 - val_acc: 0.4283\n",
      "Epoch 8/60\n",
      "813/813 [==============================] - 69s 85ms/step - loss: 1.3354 - acc: 0.5346 - val_loss: 1.6642 - val_acc: 0.4338\n",
      "Epoch 9/60\n",
      "813/813 [==============================] - 69s 85ms/step - loss: 1.2620 - acc: 0.5628 - val_loss: 1.4286 - val_acc: 0.5061\n",
      "Epoch 10/60\n",
      "813/813 [==============================] - 71s 88ms/step - loss: 1.2026 - acc: 0.5792 - val_loss: 1.4534 - val_acc: 0.5256\n",
      "Epoch 11/60\n",
      "813/813 [==============================] - 73s 90ms/step - loss: 1.1262 - acc: 0.6070 - val_loss: 1.5149 - val_acc: 0.5135\n",
      "Epoch 12/60\n",
      "813/813 [==============================] - 98s 121ms/step - loss: 1.0658 - acc: 0.6278 - val_loss: 1.3155 - val_acc: 0.5544\n",
      "Epoch 13/60\n",
      "813/813 [==============================] - 100s 124ms/step - loss: 1.0153 - acc: 0.6421 - val_loss: 1.3965 - val_acc: 0.5462\n",
      "Epoch 14/60\n",
      "813/813 [==============================] - 94s 115ms/step - loss: 0.9653 - acc: 0.6607 - val_loss: 1.4420 - val_acc: 0.5456\n",
      "Epoch 15/60\n",
      "813/813 [==============================] - 86s 105ms/step - loss: 0.9329 - acc: 0.6733 - val_loss: 1.3847 - val_acc: 0.5711\n",
      "Epoch 16/60\n",
      "813/813 [==============================] - 87s 107ms/step - loss: 0.8898 - acc: 0.6890 - val_loss: 1.3376 - val_acc: 0.5885\n",
      "Epoch 17/60\n",
      "813/813 [==============================] - 81s 99ms/step - loss: 0.8509 - acc: 0.6989 - val_loss: 1.3377 - val_acc: 0.5971\n",
      "Epoch 18/60\n",
      "813/813 [==============================] - 90s 110ms/step - loss: 0.8090 - acc: 0.7168 - val_loss: 1.3607 - val_acc: 0.5819\n",
      "Epoch 19/60\n",
      "813/813 [==============================] - 81s 100ms/step - loss: 0.7790 - acc: 0.7255 - val_loss: 1.4903 - val_acc: 0.5799\n",
      "Epoch 20/60\n",
      "813/813 [==============================] - 88s 108ms/step - loss: 0.7598 - acc: 0.7277 - val_loss: 1.4960 - val_acc: 0.5842\n",
      "Epoch 21/60\n",
      "813/813 [==============================] - 88s 108ms/step - loss: 0.7297 - acc: 0.7411 - val_loss: 1.3015 - val_acc: 0.6102\n",
      "Epoch 22/60\n",
      "813/813 [==============================] - 86s 106ms/step - loss: 0.7029 - acc: 0.7530 - val_loss: 1.4300 - val_acc: 0.5863\n",
      "Epoch 23/60\n",
      "813/813 [==============================] - 89s 109ms/step - loss: 0.6858 - acc: 0.7584 - val_loss: 1.4942 - val_acc: 0.5850\n",
      "Epoch 24/60\n",
      "813/813 [==============================] - 108s 133ms/step - loss: 0.6592 - acc: 0.7663 - val_loss: 1.7847 - val_acc: 0.5556\n",
      "Epoch 25/60\n",
      "813/813 [==============================] - 98s 120ms/step - loss: 0.6438 - acc: 0.7727 - val_loss: 1.3172 - val_acc: 0.6073\n",
      "Epoch 26/60\n",
      "813/813 [==============================] - 84s 104ms/step - loss: 0.6330 - acc: 0.7795 - val_loss: 1.6692 - val_acc: 0.5842\n",
      "Epoch 27/60\n",
      "813/813 [==============================] - 86s 106ms/step - loss: 0.6062 - acc: 0.7845 - val_loss: 1.5259 - val_acc: 0.5925\n",
      "Epoch 28/60\n",
      "813/813 [==============================] - 86s 106ms/step - loss: 0.5928 - acc: 0.7870 - val_loss: 2.2724 - val_acc: 0.5468\n",
      "Epoch 29/60\n",
      "813/813 [==============================] - 91s 112ms/step - loss: 0.5808 - acc: 0.7953 - val_loss: 1.5965 - val_acc: 0.5825\n",
      "Epoch 30/60\n",
      "813/813 [==============================] - 87s 107ms/step - loss: 0.5560 - acc: 0.8022 - val_loss: 1.6511 - val_acc: 0.5942\n",
      "Epoch 31/60\n",
      "813/813 [==============================] - 84s 103ms/step - loss: 0.5573 - acc: 0.8027 - val_loss: 1.7164 - val_acc: 0.5983\n",
      "Epoch 32/60\n",
      "813/813 [==============================] - 79s 98ms/step - loss: 0.5386 - acc: 0.8080 - val_loss: 1.8590 - val_acc: 0.5899\n",
      "Epoch 33/60\n",
      "813/813 [==============================] - 82s 101ms/step - loss: 0.5316 - acc: 0.8136 - val_loss: 1.6102 - val_acc: 0.6071\n",
      "Epoch 34/60\n",
      "813/813 [==============================] - 99s 122ms/step - loss: 0.5223 - acc: 0.8162 - val_loss: 1.5101 - val_acc: 0.6070\n",
      "Epoch 35/60\n",
      "813/813 [==============================] - 87s 107ms/step - loss: 0.5122 - acc: 0.8176 - val_loss: 1.8599 - val_acc: 0.5970\n",
      "Epoch 36/60\n",
      "813/813 [==============================] - 88s 109ms/step - loss: 0.4945 - acc: 0.8246 - val_loss: 2.0120 - val_acc: 0.5916\n",
      "Epoch 37/60\n",
      "813/813 [==============================] - 86s 106ms/step - loss: 0.5011 - acc: 0.8232 - val_loss: 2.0292 - val_acc: 0.5879\n",
      "Epoch 38/60\n",
      "813/813 [==============================] - 85s 105ms/step - loss: 0.4845 - acc: 0.8274 - val_loss: 2.0253 - val_acc: 0.5768\n",
      "Epoch 39/60\n",
      "813/813 [==============================] - 81s 99ms/step - loss: 0.4726 - acc: 0.8337 - val_loss: 1.6576 - val_acc: 0.6042\n",
      "Epoch 40/60\n",
      "813/813 [==============================] - 79s 98ms/step - loss: 0.4765 - acc: 0.8312 - val_loss: 1.9674 - val_acc: 0.5968\n",
      "Epoch 41/60\n",
      "813/813 [==============================] - 86s 106ms/step - loss: 0.4700 - acc: 0.8335 - val_loss: 1.8117 - val_acc: 0.5977\n",
      "Epoch 42/60\n",
      "813/813 [==============================] - 88s 109ms/step - loss: 0.4462 - acc: 0.8419 - val_loss: 1.6892 - val_acc: 0.6103\n",
      "Epoch 43/60\n",
      "813/813 [==============================] - 84s 104ms/step - loss: 0.4491 - acc: 0.8428 - val_loss: 2.0340 - val_acc: 0.5541\n",
      "Epoch 44/60\n",
      "813/813 [==============================] - 79s 98ms/step - loss: 0.4502 - acc: 0.8420 - val_loss: 1.5950 - val_acc: 0.6186\n",
      "Epoch 45/60\n",
      "813/813 [==============================] - 70s 86ms/step - loss: 0.4420 - acc: 0.8468 - val_loss: 1.7125 - val_acc: 0.6093\n",
      "Epoch 46/60\n",
      "813/813 [==============================] - 71s 87ms/step - loss: 0.4270 - acc: 0.8501 - val_loss: 1.7317 - val_acc: 0.6140\n",
      "Epoch 47/60\n",
      "813/813 [==============================] - 70s 86ms/step - loss: 0.4100 - acc: 0.8522 - val_loss: 1.8543 - val_acc: 0.6076\n",
      "Epoch 48/60\n",
      "813/813 [==============================] - 81s 99ms/step - loss: 0.4174 - acc: 0.8542 - val_loss: 1.7441 - val_acc: 0.6099\n",
      "Epoch 49/60\n",
      "813/813 [==============================] - 73s 90ms/step - loss: 0.3963 - acc: 0.8577 - val_loss: 1.8299 - val_acc: 0.6185\n",
      "Epoch 50/60\n",
      "813/813 [==============================] - 69s 85ms/step - loss: 0.4037 - acc: 0.8578 - val_loss: 2.2898 - val_acc: 0.5796\n",
      "Epoch 51/60\n",
      "813/813 [==============================] - 72s 89ms/step - loss: 0.3929 - acc: 0.8624 - val_loss: 1.7935 - val_acc: 0.6102\n",
      "Epoch 52/60\n",
      "813/813 [==============================] - 76s 93ms/step - loss: 0.3833 - acc: 0.8649 - val_loss: 1.8561 - val_acc: 0.6054\n",
      "Epoch 53/60\n",
      "813/813 [==============================] - 108s 133ms/step - loss: 0.3895 - acc: 0.8630 - val_loss: 2.0772 - val_acc: 0.6037\n",
      "Epoch 54/60\n",
      "813/813 [==============================] - 92s 113ms/step - loss: 0.3872 - acc: 0.8651 - val_loss: 2.1866 - val_acc: 0.5936\n",
      "Epoch 55/60\n",
      "813/813 [==============================] - 87s 106ms/step - loss: 0.3916 - acc: 0.8629 - val_loss: 1.8708 - val_acc: 0.6143\n",
      "Epoch 56/60\n",
      "813/813 [==============================] - 78s 95ms/step - loss: 0.3804 - acc: 0.8662 - val_loss: 1.8660 - val_acc: 0.6165\n",
      "Epoch 57/60\n",
      "813/813 [==============================] - 85s 105ms/step - loss: 0.3560 - acc: 0.8751 - val_loss: 1.8372 - val_acc: 0.6251\n",
      "Epoch 58/60\n",
      "813/813 [==============================] - 101s 125ms/step - loss: 0.3702 - acc: 0.8721 - val_loss: 1.7965 - val_acc: 0.6133\n",
      "Epoch 59/60\n",
      "813/813 [==============================] - 126s 155ms/step - loss: 0.3757 - acc: 0.8693 - val_loss: 1.8793 - val_acc: 0.6114\n",
      "Epoch 60/60\n",
      "813/813 [==============================] - 127s 156ms/step - loss: 0.3556 - acc: 0.8766 - val_loss: 1.8658 - val_acc: 0.6136\n"
     ]
    }
   ],
   "source": [
    "\n",
    "model = define_cnn_model(word_index=word_index, \n",
    "                         max_sent_len=max_sent_len,\n",
    "                         embedding_matrix=fasttext_embedding_matrix,\n",
    "                        )\n",
    "\n",
    "#earlystop = EarlyStopping(monitor='val_loss', min_delta=0, patience=3, verbose=0, mode='auto')\n",
    "history = model.fit(x=x_train_seq, \n",
    "                    y=y_train_en, \n",
    "                    batch_size=batch_size, \n",
    "                    epochs=epochs, \n",
    "                    verbose=1, \n",
    "                    validation_data=(x_valid_seq, y_valid_en),\n",
    "                    #callbacks=[earlystop],\n",
    "                   )\n",
    "\n",
    "\n"
   ]
  },
  {
   "cell_type": "code",
   "execution_count": 543,
   "metadata": {},
   "outputs": [
    {
     "name": "stdout",
     "output_type": "stream",
     "text": [
      "Model: \"sequential_52\"\n",
      "_________________________________________________________________\n",
      "Layer (type)                 Output Shape              Param #   \n",
      "=================================================================\n",
      "embedding_60 (Embedding)     (None, 452, 300)          8100      \n",
      "_________________________________________________________________\n",
      "dropout_69 (Dropout)         (None, 452, 300)          0         \n",
      "_________________________________________________________________\n",
      "conv1d_45 (Conv1D)           (None, 448, 64)           96064     \n",
      "_________________________________________________________________\n",
      "max_pooling1d_45 (MaxPooling (None, 89, 64)            0         \n",
      "_________________________________________________________________\n",
      "batch_normalization_31 (Batc (None, 89, 64)            256       \n",
      "_________________________________________________________________\n",
      "conv1d_46 (Conv1D)           (None, 85, 128)           41088     \n",
      "_________________________________________________________________\n",
      "max_pooling1d_46 (MaxPooling (None, 17, 128)           0         \n",
      "_________________________________________________________________\n",
      "batch_normalization_32 (Batc (None, 17, 128)           512       \n",
      "_________________________________________________________________\n",
      "flatten_13 (Flatten)         (None, 2176)              0         \n",
      "_________________________________________________________________\n",
      "dense_122 (Dense)            (None, 64)                139328    \n",
      "_________________________________________________________________\n",
      "dropout_70 (Dropout)         (None, 64)                0         \n",
      "_________________________________________________________________\n",
      "dense_123 (Dense)            (None, 12)                780       \n",
      "=================================================================\n",
      "Total params: 286,128\n",
      "Trainable params: 277,644\n",
      "Non-trainable params: 8,484\n",
      "_________________________________________________________________\n"
     ]
    }
   ],
   "source": [
    "model.summary()\n"
   ]
  },
  {
   "cell_type": "code",
   "execution_count": 544,
   "metadata": {},
   "outputs": [
    {
     "data": {
      "image/png": "[encoded data removed]",
      "text/plain": [
       "<Figure size 432x288 with 2 Axes>"
      ]
     },
     "metadata": {
      "needs_background": "light"
     },
     "output_type": "display_data"
    }
   ],
   "source": [
    "plot_learning_curves(history)\n"
   ]
  },
  {
   "cell_type": "code",
   "execution_count": 545,
   "metadata": {},
   "outputs": [],
   "source": [
    "model_dict['cnn_fasttext'] = model\n"
   ]
  },
  {
   "cell_type": "code",
   "execution_count": null,
   "metadata": {},
   "outputs": [],
   "source": []
  },
  {
   "cell_type": "markdown",
   "metadata": {},
   "source": [
    "#### Plot validation performance\n"
   ]
  },
  {
   "cell_type": "code",
   "execution_count": 546,
   "metadata": {},
   "outputs": [],
   "source": [
    "y_pred_val = model.predict_classes(x_valid_seq)\n"
   ]
  },
  {
   "cell_type": "code",
   "execution_count": 547,
   "metadata": {},
   "outputs": [
    {
     "data": {
      "image/png": "[encoded data removed]",
      "text/plain": [
       "<Figure size 576x576 with 2 Axes>"
      ]
     },
     "metadata": {
      "needs_background": "light"
     },
     "output_type": "display_data"
    }
   ],
   "source": [
    "plot_confusion_matrix(y_valid, y_pred_val)\n"
   ]
  },
  {
   "cell_type": "code",
   "execution_count": 548,
   "metadata": {},
   "outputs": [
    {
     "name": "stdout",
     "output_type": "stream",
     "text": [
      "              precision    recall  f1-score   support\n",
      "\n",
      "           0       0.66      0.56      0.61        98\n",
      "           1       0.56      0.62      0.59       678\n",
      "           2       0.39      0.55      0.45       282\n",
      "           3       0.61      0.59      0.60       819\n",
      "           4       0.77      0.64      0.70       460\n",
      "           5       0.76      0.90      0.82       469\n",
      "           6       0.59      0.67      0.63       841\n",
      "           7       0.72      0.69      0.71       965\n",
      "           8       0.84      0.69      0.76       742\n",
      "           9       0.27      0.36      0.31       187\n",
      "          10       0.46      0.37      0.41       658\n",
      "          11       0.37      0.35      0.36       304\n",
      "\n",
      "    accuracy                           0.61      6503\n",
      "   macro avg       0.58      0.58      0.58      6503\n",
      "weighted avg       0.62      0.61      0.61      6503\n",
      "\n"
     ]
    }
   ],
   "source": [
    "print(classification_report(y_valid, y_pred_val))\n"
   ]
  },
  {
   "cell_type": "code",
   "execution_count": null,
   "metadata": {},
   "outputs": [],
   "source": []
  },
  {
   "cell_type": "markdown",
   "metadata": {},
   "source": [
    "#### Save the model\n"
   ]
  },
  {
   "cell_type": "code",
   "execution_count": 549,
   "metadata": {},
   "outputs": [],
   "source": [
    "model_dict['cnn_fasttext'].save('cnn_fasttext_{}.h5'.format(epochs))\n"
   ]
  },
  {
   "cell_type": "code",
   "execution_count": null,
   "metadata": {},
   "outputs": [],
   "source": []
  },
  {
   "cell_type": "markdown",
   "metadata": {},
   "source": [
    "### CNN + GRU\n",
    "\n",
    "https://www.kaggle.com/sbongo/tackling-toxic-problem-with-char-gram-cnn-lstm\n"
   ]
  },
  {
   "cell_type": "markdown",
   "metadata": {},
   "source": [
    "#### Define the model\n"
   ]
  },
  {
   "cell_type": "code",
   "execution_count": null,
   "metadata": {},
   "outputs": [],
   "source": [
    "def define_cnn_gru_model(word_index, \n",
    "                         max_sent_len,\n",
    "                         embedding_matrix,\n",
    "                         embedding_size=0,\n",
    "                         n_classes=12,\n",
    "                         ):\n",
    "    \n",
    "    inp = Input(shape=(max_sent_len, ))\n",
    "    \n",
    "    if embedding_matrix is None:\n",
    "        x = Embedding(len(word_index)+1, embedding_size)(inp)\n",
    "        \n",
    "    else:\n",
    "        x = Embedding(len(word_index) + 1,\n",
    "                      embedding_matrix.shape[1],\n",
    "                      weights=[embedding_matrix],\n",
    "                      input_length=max_sent_len,\n",
    "                      trainable=False)(inp)\n",
    "        \n",
    "    x = Conv1D(filters=100, kernel_size=4, padding='same', activation='relu')(x)\n",
    "    x = MaxPooling1D(pool_size=4)(x)\n",
    "    x = Bidirectional(GRU(60, return_sequences=True, name='lstm_layer', dropout=0.2, recurrent_dropout=0.2))(x)\n",
    "    x = GlobalMaxPool1D()(x)\n",
    "    x = Dense(50, activation=\"relu\")(x)\n",
    "    x = Dropout(0.2)(x)\n",
    "    x = Dense(n_classes, activation=\"sigmoid\")(x)\n",
    "    \n",
    "    model = Model(inputs=inp, outputs=x)\n",
    "    model.compile(loss='categorical_crossentropy',\n",
    "                  optimizer='adam',\n",
    "                  metrics=['accuracy'],\n",
    "                 )\n",
    "    \n",
    "    return model\n",
    "    "
   ]
  },
  {
   "cell_type": "code",
   "execution_count": null,
   "metadata": {},
   "outputs": [],
   "source": []
  },
  {
   "cell_type": "markdown",
   "metadata": {},
   "source": [
    "#### Train the model\n"
   ]
  },
  {
   "cell_type": "code",
   "execution_count": null,
   "metadata": {},
   "outputs": [],
   "source": [
    "model = define_cnn_gru_model(word_index=word_index, \n",
    "                             max_sent_len=max_sent_len,\n",
    "                             embedding_matrix=fasttext_embedding_matrix,\n",
    "                            )\n",
    "\n",
    "#earlystop = EarlyStopping(monitor='val_loss', min_delta=0, patience=3, verbose=0, mode='auto')\n",
    "history = model.fit(x=x_train_seq, \n",
    "                    y=y_train_en, \n",
    "                    batch_size=batch_size, \n",
    "                    epochs=epochs, \n",
    "                    verbose=1, \n",
    "                    validation_data=(x_valid_seq, y_valid_en),\n",
    "                    #callbacks=[earlystop],\n",
    "                   )\n",
    "\n"
   ]
  },
  {
   "cell_type": "code",
   "execution_count": null,
   "metadata": {},
   "outputs": [],
   "source": [
    "plot_learning_curves(history, acc='accuracy', val_acc='val_accuracy')\n",
    "\n",
    "model_dict['cnn_gru_fasttext'] = model\n"
   ]
  },
  {
   "cell_type": "code",
   "execution_count": null,
   "metadata": {},
   "outputs": [],
   "source": [
    "model.summary()\n"
   ]
  },
  {
   "cell_type": "code",
   "execution_count": null,
   "metadata": {},
   "outputs": [],
   "source": []
  },
  {
   "cell_type": "code",
   "execution_count": null,
   "metadata": {},
   "outputs": [],
   "source": []
  },
  {
   "cell_type": "markdown",
   "metadata": {},
   "source": [
    "#### Plot validation performance\n"
   ]
  },
  {
   "cell_type": "code",
   "execution_count": null,
   "metadata": {},
   "outputs": [],
   "source": [
    "y_pred_val = model.predict(x_valid_seq)\n",
    "y_pred_val = y_pred_val.argmax(axis=-1)\n"
   ]
  },
  {
   "cell_type": "code",
   "execution_count": null,
   "metadata": {},
   "outputs": [],
   "source": [
    "plot_confusion_matrix(y_valid, y_pred_val)\n"
   ]
  },
  {
   "cell_type": "code",
   "execution_count": null,
   "metadata": {},
   "outputs": [],
   "source": [
    "print(classification_report(y_valid, y_pred_val))\n"
   ]
  },
  {
   "cell_type": "code",
   "execution_count": null,
   "metadata": {},
   "outputs": [],
   "source": []
  },
  {
   "cell_type": "markdown",
   "metadata": {},
   "source": [
    "#### Save the model\n"
   ]
  },
  {
   "cell_type": "code",
   "execution_count": null,
   "metadata": {},
   "outputs": [],
   "source": [
    "model_dict['cnn_gru_fasttext'].save('cnn_gru_fasttext_{}.h5'.format(epochs))\n"
   ]
  },
  {
   "cell_type": "code",
   "execution_count": null,
   "metadata": {},
   "outputs": [],
   "source": []
  },
  {
   "cell_type": "code",
   "execution_count": null,
   "metadata": {},
   "outputs": [],
   "source": []
  },
  {
   "cell_type": "markdown",
   "metadata": {},
   "source": [
    "### Transformer (TODO)\n",
    "\n",
    "\n",
    "https://atheros.ai/blog/text-classification-with-transformers-in-tensorflow-2\n",
    "\n",
    "https://www.kaggle.com/tanulsingh077/deep-learning-for-nlp-zero-to-transformers-bert\n",
    "\n"
   ]
  },
  {
   "cell_type": "code",
   "execution_count": null,
   "metadata": {},
   "outputs": [],
   "source": []
  },
  {
   "cell_type": "code",
   "execution_count": null,
   "metadata": {},
   "outputs": [],
   "source": []
  },
  {
   "cell_type": "markdown",
   "metadata": {},
   "source": [
    "### Summary\n"
   ]
  },
  {
   "cell_type": "code",
   "execution_count": null,
   "metadata": {},
   "outputs": [],
   "source": []
  },
  {
   "cell_type": "code",
   "execution_count": null,
   "metadata": {},
   "outputs": [],
   "source": []
  },
  {
   "cell_type": "markdown",
   "metadata": {},
   "source": [
    "## Prediction\n"
   ]
  },
  {
   "cell_type": "markdown",
   "metadata": {},
   "source": [
    "### Train the model on whole trainig set\n",
    "\n",
    "TODO: Train the model with checkpoints\n",
    "\n",
    "- How to Check-Point Deep Learning Models in Keras\n",
    "\n",
    "https://machinelearningmastery.com/check-point-deep-learning-models-keras/\n",
    "\n",
    "https://stackoverflow.com/questions/45393429/keras-how-to-save-model-and-continue-training\n",
    "\n"
   ]
  },
  {
   "cell_type": "code",
   "execution_count": 528,
   "metadata": {},
   "outputs": [],
   "source": [
    "epochs = 60\n"
   ]
  },
  {
   "cell_type": "code",
   "execution_count": 527,
   "metadata": {},
   "outputs": [],
   "source": [
    "# TODO: debug this function\n",
    "def train_final_model(model, \n",
    "                      x_train, \n",
    "                      y_train,\n",
    "                      model_name,\n",
    "                      epochs,\n",
    "                      batch_size,\n",
    "                      epochs_per_step = 5,\n",
    "                     ):\n",
    "    \"\"\"\n",
    "    train a model with checkpoints\n",
    "    \"\"\"\n",
    "    for n_steps in range(epochs // epochs_per_step):\n",
    "        print('{}/{}'.format(str(n_steps + 1), str(epochs // epochs_per_step)))\n",
    "\n",
    "        filepath = '{}_{}.h5'.format(model_name, str((n_steps + 1) * epochs_per_step))\n",
    "        checkpoint = ModelCheckpoint(filepath=filepath,\n",
    "                                     #save_weights_only=True,\n",
    "                                     monitor='loss',\n",
    "                                     mode='max',\n",
    "                                     save_best_only=True,\n",
    "                                    )\n",
    "        callbacks_list = [checkpoint]\n",
    "\n",
    "        # load the previous model\n",
    "        if n_steps > 0:\n",
    "            prev_filepath = '{}_{}.h5'.format(model_name, str(n_steps * epochs_per_step))\n",
    "            model = load_model(prev_filepath)\n",
    "\n",
    "        history = model.fit(x=x_train, \n",
    "                            y=y_train, \n",
    "                            batch_size=batch_size, \n",
    "                            epochs=epochs_per_step, \n",
    "                            verbose=1,\n",
    "                            callbacks=callbacks_list,\n",
    "                            #validation_data=(x_valid_seq, y_valid_en),\n",
    "                            #callbacks=[earlystop],\n",
    "                           )\n",
    "        #assert_allclose(model.predict(x_train_all_seq[:100]),\n",
    "        #                new_model.predict(x_train_all_seq[:100]),\n",
    "        #                1e-5)\n",
    "\n",
    "        #plot_learning_curves(history)\n",
    "    return model\n",
    "    \n",
    "    "
   ]
  },
  {
   "cell_type": "code",
   "execution_count": 529,
   "metadata": {},
   "outputs": [
    {
     "name": "stdout",
     "output_type": "stream",
     "text": [
      "Epoch 1/60\n",
      "1017/1017 [==============================] - 255s 251ms/step - loss: 2.3012 - accuracy: 0.1731\n",
      "Epoch 2/60\n",
      "1017/1017 [==============================] - 245s 241ms/step - loss: 1.9207 - accuracy: 0.3068\n",
      "Epoch 3/60\n",
      "1017/1017 [==============================] - 244s 240ms/step - loss: 1.6890 - accuracy: 0.3839\n",
      "Epoch 4/60\n",
      "1017/1017 [==============================] - 243s 239ms/step - loss: 1.3852 - accuracy: 0.4858\n",
      "Epoch 5/60\n",
      "1017/1017 [==============================] - 247s 243ms/step - loss: 1.2698 - accuracy: 0.5367\n",
      "Epoch 6/60\n",
      "1017/1017 [==============================] - 281s 276ms/step - loss: 1.1807 - accuracy: 0.5745\n",
      "Epoch 7/60\n",
      "1017/1017 [==============================] - 224s 220ms/step - loss: 1.1084 - accuracy: 0.6038\n",
      "Epoch 8/60\n",
      "1017/1017 [==============================] - 246s 242ms/step - loss: 1.0632 - accuracy: 0.6197\n",
      "Epoch 9/60\n",
      "1017/1017 [==============================] - 241s 237ms/step - loss: 1.0100 - accuracy: 0.6415\n",
      "Epoch 10/60\n",
      "1017/1017 [==============================] - 249s 245ms/step - loss: 0.9721 - accuracy: 0.6561\n",
      "Epoch 11/60\n",
      "1017/1017 [==============================] - 264s 260ms/step - loss: 0.9395 - accuracy: 0.6677\n",
      "Epoch 12/60\n",
      "1017/1017 [==============================] - 275s 270ms/step - loss: 0.9147 - accuracy: 0.6799\n",
      "Epoch 13/60\n",
      "1017/1017 [==============================] - 245s 241ms/step - loss: 0.8929 - accuracy: 0.6902\n",
      "Epoch 14/60\n",
      "1017/1017 [==============================] - 276s 271ms/step - loss: 0.8796 - accuracy: 0.6910\n",
      "Epoch 15/60\n",
      "1017/1017 [==============================] - 226s 223ms/step - loss: 0.8461 - accuracy: 0.7029\n",
      "Epoch 16/60\n",
      "1017/1017 [==============================] - 236s 232ms/step - loss: 0.8301 - accuracy: 0.7113\n",
      "Epoch 17/60\n",
      "1017/1017 [==============================] - 285s 280ms/step - loss: 0.8134 - accuracy: 0.7183\n",
      "Epoch 18/60\n",
      "1017/1017 [==============================] - 231s 227ms/step - loss: 0.8034 - accuracy: 0.7206\n",
      "Epoch 19/60\n",
      "1017/1017 [==============================] - 252s 248ms/step - loss: 0.7844 - accuracy: 0.7254\n",
      "Epoch 20/60\n",
      "1017/1017 [==============================] - 255s 251ms/step - loss: 0.7703 - accuracy: 0.7330\n",
      "Epoch 21/60\n",
      "1017/1017 [==============================] - 262s 257ms/step - loss: 0.7655 - accuracy: 0.7324\n",
      "Epoch 22/60\n",
      "1017/1017 [==============================] - 245s 241ms/step - loss: 0.7541 - accuracy: 0.7362\n",
      "Epoch 23/60\n",
      "1017/1017 [==============================] - 242s 238ms/step - loss: 0.7416 - accuracy: 0.7425\n",
      "Epoch 24/60\n",
      "1017/1017 [==============================] - 244s 240ms/step - loss: 0.7288 - accuracy: 0.7463\n",
      "Epoch 25/60\n",
      "1017/1017 [==============================] - 251s 247ms/step - loss: 0.7197 - accuracy: 0.7498\n",
      "Epoch 26/60\n",
      "1017/1017 [==============================] - 229s 225ms/step - loss: 0.7194 - accuracy: 0.7504\n",
      "Epoch 27/60\n",
      "1017/1017 [==============================] - 248s 243ms/step - loss: 0.7096 - accuracy: 0.7527\n",
      "Epoch 28/60\n",
      "1017/1017 [==============================] - 247s 243ms/step - loss: 0.7041 - accuracy: 0.7563\n",
      "Epoch 29/60\n",
      "1017/1017 [==============================] - 246s 241ms/step - loss: 0.7000 - accuracy: 0.7573\n",
      "Epoch 30/60\n",
      "1017/1017 [==============================] - 241s 237ms/step - loss: 0.6875 - accuracy: 0.7601\n",
      "Epoch 31/60\n",
      "1017/1017 [==============================] - 234s 230ms/step - loss: 0.6850 - accuracy: 0.7602\n",
      "Epoch 32/60\n",
      "1017/1017 [==============================] - 222s 218ms/step - loss: 0.6784 - accuracy: 0.7674\n",
      "Epoch 33/60\n",
      "1017/1017 [==============================] - 217s 213ms/step - loss: 0.6704 - accuracy: 0.7679\n",
      "Epoch 34/60\n",
      "1017/1017 [==============================] - 219s 215ms/step - loss: 0.6600 - accuracy: 0.7700\n",
      "Epoch 35/60\n",
      "1017/1017 [==============================] - 217s 213ms/step - loss: 0.6612 - accuracy: 0.7731\n",
      "Epoch 36/60\n",
      "1017/1017 [==============================] - 220s 217ms/step - loss: 0.6519 - accuracy: 0.7730\n",
      "Epoch 37/60\n",
      "1017/1017 [==============================] - 212s 208ms/step - loss: 0.6541 - accuracy: 0.7754\n",
      "Epoch 38/60\n",
      "1017/1017 [==============================] - 214s 210ms/step - loss: 0.6370 - accuracy: 0.7797\n",
      "Epoch 39/60\n",
      "1017/1017 [==============================] - 247s 243ms/step - loss: 0.6387 - accuracy: 0.7788\n",
      "Epoch 40/60\n",
      "1017/1017 [==============================] - 272s 267ms/step - loss: 0.6335 - accuracy: 0.7818\n",
      "Epoch 41/60\n",
      "1017/1017 [==============================] - 227s 223ms/step - loss: 0.6298 - accuracy: 0.7822\n",
      "Epoch 42/60\n",
      "1017/1017 [==============================] - 246s 241ms/step - loss: 0.6207 - accuracy: 0.7847\n",
      "Epoch 43/60\n",
      "1017/1017 [==============================] - 245s 241ms/step - loss: 0.6228 - accuracy: 0.7837\n",
      "Epoch 44/60\n",
      "1017/1017 [==============================] - 249s 245ms/step - loss: 0.6145 - accuracy: 0.7867\n",
      "Epoch 45/60\n",
      "1017/1017 [==============================] - 219s 215ms/step - loss: 0.6157 - accuracy: 0.7863\n",
      "Epoch 46/60\n",
      "1017/1017 [==============================] - 231s 227ms/step - loss: 0.6093 - accuracy: 0.7884\n",
      "Epoch 47/60\n",
      "1017/1017 [==============================] - 211s 207ms/step - loss: 0.6082 - accuracy: 0.7906\n",
      "Epoch 48/60\n",
      "1017/1017 [==============================] - 233s 229ms/step - loss: 0.6061 - accuracy: 0.7912\n",
      "Epoch 49/60\n",
      "1017/1017 [==============================] - 252s 248ms/step - loss: 0.6028 - accuracy: 0.7913\n",
      "Epoch 50/60\n",
      "1017/1017 [==============================] - 235s 231ms/step - loss: 0.5988 - accuracy: 0.7929\n",
      "Epoch 51/60\n",
      "1017/1017 [==============================] - 231s 227ms/step - loss: 0.6061 - accuracy: 0.7894\n",
      "Epoch 52/60\n",
      "1017/1017 [==============================] - 238s 234ms/step - loss: 0.5894 - accuracy: 0.7947\n",
      "Epoch 53/60\n",
      "1017/1017 [==============================] - 245s 241ms/step - loss: 0.5870 - accuracy: 0.7957\n",
      "Epoch 54/60\n",
      "1017/1017 [==============================] - 220s 216ms/step - loss: 0.5898 - accuracy: 0.7969\n",
      "Epoch 55/60\n",
      "1017/1017 [==============================] - 218s 214ms/step - loss: 0.5923 - accuracy: 0.7964\n",
      "Epoch 56/60\n",
      "1017/1017 [==============================] - 232s 228ms/step - loss: 0.5794 - accuracy: 0.7965\n",
      "Epoch 57/60\n",
      "1017/1017 [==============================] - 242s 238ms/step - loss: 0.5798 - accuracy: 0.8008\n",
      "Epoch 58/60\n",
      "1017/1017 [==============================] - 238s 234ms/step - loss: 0.5844 - accuracy: 0.7977\n",
      "Epoch 59/60\n",
      "1017/1017 [==============================] - 224s 221ms/step - loss: 0.5800 - accuracy: 0.7987\n",
      "Epoch 60/60\n",
      "1017/1017 [==============================] - 246s 242ms/step - loss: 0.5783 - accuracy: 0.8011\n"
     ]
    }
   ],
   "source": [
    "#model = define_gru_model(word_index=word_index, \n",
    "#                         max_sent_len=max_sent_len,\n",
    "#                         embedding_matrix=fasttext_embedding_matrix,\n",
    "#                        )\n",
    "#model_name = 'gru_final'\n",
    "\n",
    "#model = define_cnn_model(word_index=word_index, \n",
    "#                         max_sent_len=max_sent_len,\n",
    "#                         embedding_matrix=fasttext_embedding_matrix,\n",
    "#                        )\n",
    "#model_name = 'cnn_final'\n",
    "\n",
    "model = define_cnn_gru_model(word_index=word_index, \n",
    "                             max_sent_len=max_sent_len,\n",
    "                             embedding_matrix=fasttext_embedding_matrix,\n",
    "                            )\n",
    "model_name = 'cnn_gru_final'\n",
    "\n",
    "#earlystop = EarlyStopping(monitor='val_loss', min_delta=0, patience=10, verbose=0, mode='auto')\n",
    "history = model.fit(x=x_train_all_seq, \n",
    "                    y=y_train_all_en, \n",
    "                    batch_size=batch_size, \n",
    "                    epochs=epochs, \n",
    "                    verbose=1, \n",
    "#                    #validation_data=(x_valid_seq, y_valid_en),\n",
    "#                    #callbacks=[earlystop],\n",
    "                   )\n",
    "\n",
    "#model = train_final_model(model=model, \n",
    "#                          x_train=x_train_all_seq, \n",
    "#                          y_train=y_train_all_en,\n",
    "#                          model_name=model_name,\n",
    "#                          epochs=epochs,\n",
    "#                          batch_size=batch_size,\n",
    "#                          epochs_per_step=5,\n",
    "#                         )\n",
    "\n"
   ]
  },
  {
   "cell_type": "code",
   "execution_count": 530,
   "metadata": {},
   "outputs": [
    {
     "name": "stdout",
     "output_type": "stream",
     "text": [
      "Model: \"functional_17\"\n",
      "_________________________________________________________________\n",
      "Layer (type)                 Output Shape              Param #   \n",
      "=================================================================\n",
      "input_9 (InputLayer)         [(None, 452)]             0         \n",
      "_________________________________________________________________\n",
      "embedding_59 (Embedding)     (None, 452, 300)          8100      \n",
      "_________________________________________________________________\n",
      "conv1d_44 (Conv1D)           (None, 452, 100)          120100    \n",
      "_________________________________________________________________\n",
      "max_pooling1d_44 (MaxPooling (None, 113, 100)          0         \n",
      "_________________________________________________________________\n",
      "bidirectional_8 (Bidirection (None, 113, 120)          58320     \n",
      "_________________________________________________________________\n",
      "global_max_pooling1d_8 (Glob (None, 120)               0         \n",
      "_________________________________________________________________\n",
      "dense_120 (Dense)            (None, 50)                6050      \n",
      "_________________________________________________________________\n",
      "dropout_68 (Dropout)         (None, 50)                0         \n",
      "_________________________________________________________________\n",
      "dense_121 (Dense)            (None, 12)                612       \n",
      "=================================================================\n",
      "Total params: 193,182\n",
      "Trainable params: 185,082\n",
      "Non-trainable params: 8,100\n",
      "_________________________________________________________________\n"
     ]
    }
   ],
   "source": [
    "model.summary()\n"
   ]
  },
  {
   "cell_type": "code",
   "execution_count": 532,
   "metadata": {},
   "outputs": [],
   "source": [
    "model_dict['{}_fasttext'.format(model_name)] = model\n",
    "model_dict['{}_fasttext'.format(model_name)].save('{}_fasttext_{}.h5'.format(model_name, epochs))\n"
   ]
  },
  {
   "cell_type": "code",
   "execution_count": null,
   "metadata": {},
   "outputs": [],
   "source": []
  },
  {
   "cell_type": "markdown",
   "metadata": {},
   "source": [
    "### TODO: increase the number of epochs\n"
   ]
  },
  {
   "cell_type": "code",
   "execution_count": null,
   "metadata": {},
   "outputs": [],
   "source": []
  },
  {
   "cell_type": "code",
   "execution_count": null,
   "metadata": {},
   "outputs": [],
   "source": []
  },
  {
   "cell_type": "code",
   "execution_count": null,
   "metadata": {},
   "outputs": [],
   "source": []
  },
  {
   "cell_type": "markdown",
   "metadata": {},
   "source": [
    "### Make the prediction on the test set\n"
   ]
  },
  {
   "cell_type": "code",
   "execution_count": 534,
   "metadata": {},
   "outputs": [],
   "source": [
    "model_name = 'cnn_gru_final'\n",
    "embedding_name = 'fasttext'\n",
    "epochs = 60\n",
    "\n",
    "model = load_model('{}_{}_{}.h5'.format(model_name, embedding_name, epochs))\n"
   ]
  },
  {
   "cell_type": "code",
   "execution_count": 535,
   "metadata": {},
   "outputs": [],
   "source": [
    "#predictions = model.predict_classes(x_test_seq)\n",
    "predictions = model.predict(x_test_seq)\n",
    "predictions = predictions.argmax(axis=-1)\n"
   ]
  },
  {
   "cell_type": "code",
   "execution_count": 536,
   "metadata": {},
   "outputs": [
    {
     "data": {
      "text/plain": [
       "3000"
      ]
     },
     "execution_count": 536,
     "metadata": {},
     "output_type": "execute_result"
    }
   ],
   "source": [
    "len(predictions)\n"
   ]
  },
  {
   "cell_type": "code",
   "execution_count": 537,
   "metadata": {},
   "outputs": [
    {
     "data": {
      "text/plain": [
       "array([ 6, 11,  8,  8,  4])"
      ]
     },
     "execution_count": 537,
     "metadata": {},
     "output_type": "execute_result"
    }
   ],
   "source": [
    "predictions[0:5]\n"
   ]
  },
  {
   "cell_type": "code",
   "execution_count": 538,
   "metadata": {},
   "outputs": [],
   "source": [
    "with open('ytest.txt', 'w') as f:\n",
    "    for pred in predictions:\n",
    "        f.write(\"%s\\n\" % pred)\n"
   ]
  },
  {
   "cell_type": "code",
   "execution_count": 539,
   "metadata": {},
   "outputs": [
    {
     "name": "stdout",
     "output_type": "stream",
     "text": [
      "3000\n",
      "[6, 11, 8, 8, 4]\n"
     ]
    }
   ],
   "source": [
    "# show some results in the ytest.txt\n",
    "\n",
    "y_test = []\n",
    "with open('ytest.txt') as f:\n",
    "    y_test = f.read().strip().split('\\n')\n",
    "y_test = [int(y) for y in y_test]\n",
    "print(len(y_test))\n",
    "print(y_test[0:5])\n",
    "\n",
    "\n"
   ]
  },
  {
   "cell_type": "code",
   "execution_count": null,
   "metadata": {},
   "outputs": [],
   "source": []
  },
  {
   "cell_type": "code",
   "execution_count": null,
   "metadata": {},
   "outputs": [],
   "source": []
  },
  {
   "cell_type": "markdown",
   "metadata": {},
   "source": [
    "## Conclusion\n"
   ]
  },
  {
   "cell_type": "markdown",
   "metadata": {},
   "source": [
    "Experiments show that the proposed deep learning model (CNN+GRU) achieves around 78% accuracy on the validation set. \n",
    "The validation set consists of 20% of the data randomly selected from xtrain_obfuscated.txt.\n",
    "The rest 80% of the data is used as a training set to train the deep learning model.\n",
    "Based on the experiments, I would expect the proposed approach achieves similar accuracy (around 78%) on the test set.\n",
    "\n",
    "Please note, due to the limited time available and the limited computation resources \n",
    "(the experiments were conducted on a Macbook pro 2015), \n",
    "I only trained the model with 60 epochs.\n",
    "The learning curve shows that if I increase the number of epochs, the accuracy might be higher.\n",
    "\n"
   ]
  },
  {
   "cell_type": "code",
   "execution_count": null,
   "metadata": {},
   "outputs": [],
   "source": []
  }
 ],
 "metadata": {
  "kernelspec": {
   "display_name": "Python 3",
   "language": "python",
   "name": "python3"
  },
  "toc": {
   "base_numbering": 1,
   "nav_menu": {},
   "number_sections": true,
   "sideBar": true,
   "skip_h1_title": true,
   "title_cell": "Table of Contents",
   "title_sidebar": "Contents",
   "toc_cell": true,
   "toc_position": {
    "height": "calc(100% - 180px)",
    "left": "10px",
    "top": "150px",
    "width": "228px"
   },
   "toc_section_display": true,
   "toc_window_display": true
  }
 },
 "nbformat": 4,
 "nbformat_minor": 4
}
