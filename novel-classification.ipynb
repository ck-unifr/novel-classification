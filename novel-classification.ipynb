{
 "cells": [
  {
   "cell_type": "markdown",
   "metadata": {
    "toc": true
   },
   "source": [
    "<h1>Table of Contents<span class=\"tocSkip\"></span></h1>\n",
    "<div class=\"toc\"><ul class=\"toc-item\"><li><span><a href=\"#Methodology\" data-toc-modified-id=\"Methodology-1\"><span class=\"toc-item-num\">1&nbsp;&nbsp;</span>Methodology</a></span></li><li><span><a href=\"#Train,-Test,-and-Validation-Sets\" data-toc-modified-id=\"Train,-Test,-and-Validation-Sets-2\"><span class=\"toc-item-num\">2&nbsp;&nbsp;</span>Train, Test, and Validation Sets</a></span><ul class=\"toc-item\"><li><span><a href=\"#Load-train-and-test-data\" data-toc-modified-id=\"Load-train-and-test-data-2.1\"><span class=\"toc-item-num\">2.1&nbsp;&nbsp;</span>Load train and test data</a></span></li><li><span><a href=\"#Split-train-set-into-train-and-validation-sets\" data-toc-modified-id=\"Split-train-set-into-train-and-validation-sets-2.2\"><span class=\"toc-item-num\">2.2&nbsp;&nbsp;</span>Split train set into train and validation sets</a></span></li></ul></li><li><span><a href=\"#Exploratory-Data-Analysis-(EDA)\" data-toc-modified-id=\"Exploratory-Data-Analysis-(EDA)-3\"><span class=\"toc-item-num\">3&nbsp;&nbsp;</span>Exploratory Data Analysis (EDA)</a></span><ul class=\"toc-item\"><li><span><a href=\"#Class-distribution\" data-toc-modified-id=\"Class-distribution-3.1\"><span class=\"toc-item-num\">3.1&nbsp;&nbsp;</span>Class distribution</a></span></li><li><span><a href=\"#Sentence-length-distribution\" data-toc-modified-id=\"Sentence-length-distribution-3.2\"><span class=\"toc-item-num\">3.2&nbsp;&nbsp;</span>Sentence length distribution</a></span></li><li><span><a href=\"#Character-distribution\" data-toc-modified-id=\"Character-distribution-3.3\"><span class=\"toc-item-num\">3.3&nbsp;&nbsp;</span>Character distribution</a></span></li></ul></li><li><span><a href=\"#Word-Embedding\" data-toc-modified-id=\"Word-Embedding-4\"><span class=\"toc-item-num\">4&nbsp;&nbsp;</span>Word Embedding</a></span></li><li><span><a href=\"#Features-(X)-and-Labels-(Y)\" data-toc-modified-id=\"Features-(X)-and-Labels-(Y)-5\"><span class=\"toc-item-num\">5&nbsp;&nbsp;</span>Features (X) and Labels (Y)</a></span><ul class=\"toc-item\"><li><span><a href=\"#Tokenization-and-padding\" data-toc-modified-id=\"Tokenization-and-padding-5.1\"><span class=\"toc-item-num\">5.1&nbsp;&nbsp;</span>Tokenization and padding</a></span></li><li><span><a href=\"#Creating-an-embedding-matrix\" data-toc-modified-id=\"Creating-an-embedding-matrix-5.2\"><span class=\"toc-item-num\">5.2&nbsp;&nbsp;</span>Creating an embedding matrix</a></span></li><li><span><a href=\"#Encoding-the-labels\" data-toc-modified-id=\"Encoding-the-labels-5.3\"><span class=\"toc-item-num\">5.3&nbsp;&nbsp;</span>Encoding the labels</a></span></li></ul></li><li><span><a href=\"#Model\" data-toc-modified-id=\"Model-6\"><span class=\"toc-item-num\">6&nbsp;&nbsp;</span>Model</a></span><ul class=\"toc-item\"><li><span><a href=\"#Define-the-functions-for-ploting\" data-toc-modified-id=\"Define-the-functions-for-ploting-6.1\"><span class=\"toc-item-num\">6.1&nbsp;&nbsp;</span>Define the functions for ploting</a></span></li><li><span><a href=\"#Parameters\" data-toc-modified-id=\"Parameters-6.2\"><span class=\"toc-item-num\">6.2&nbsp;&nbsp;</span>Parameters</a></span></li><li><span><a href=\"#GRU\" data-toc-modified-id=\"GRU-6.3\"><span class=\"toc-item-num\">6.3&nbsp;&nbsp;</span>GRU</a></span><ul class=\"toc-item\"><li><span><a href=\"#Define-the-model\" data-toc-modified-id=\"Define-the-model-6.3.1\"><span class=\"toc-item-num\">6.3.1&nbsp;&nbsp;</span>Define the model</a></span></li><li><span><a href=\"#Train-the-model\" data-toc-modified-id=\"Train-the-model-6.3.2\"><span class=\"toc-item-num\">6.3.2&nbsp;&nbsp;</span>Train the model</a></span><ul class=\"toc-item\"><li><span><a href=\"#Validation-error-less-than-training-error?\" data-toc-modified-id=\"Validation-error-less-than-training-error?-6.3.2.1\"><span class=\"toc-item-num\">6.3.2.1&nbsp;&nbsp;</span>Validation error less than training error?</a></span></li><li><span><a href=\"#Why-disable-dropout-during-validation-and-testing?\" data-toc-modified-id=\"Why-disable-dropout-during-validation-and-testing?-6.3.2.2\"><span class=\"toc-item-num\">6.3.2.2&nbsp;&nbsp;</span>Why disable dropout during validation and testing?</a></span></li></ul></li><li><span><a href=\"#Plot-validation-performance\" data-toc-modified-id=\"Plot-validation-performance-6.3.3\"><span class=\"toc-item-num\">6.3.3&nbsp;&nbsp;</span>Plot validation performance</a></span></li><li><span><a href=\"#Save-the-model\" data-toc-modified-id=\"Save-the-model-6.3.4\"><span class=\"toc-item-num\">6.3.4&nbsp;&nbsp;</span>Save the model</a></span></li></ul></li><li><span><a href=\"#CNN\" data-toc-modified-id=\"CNN-6.4\"><span class=\"toc-item-num\">6.4&nbsp;&nbsp;</span>CNN</a></span><ul class=\"toc-item\"><li><span><a href=\"#Define-the-model\" data-toc-modified-id=\"Define-the-model-6.4.1\"><span class=\"toc-item-num\">6.4.1&nbsp;&nbsp;</span>Define the model</a></span></li><li><span><a href=\"#Train-the-model\" data-toc-modified-id=\"Train-the-model-6.4.2\"><span class=\"toc-item-num\">6.4.2&nbsp;&nbsp;</span>Train the model</a></span></li><li><span><a href=\"#Plot-validation-performance\" data-toc-modified-id=\"Plot-validation-performance-6.4.3\"><span class=\"toc-item-num\">6.4.3&nbsp;&nbsp;</span>Plot validation performance</a></span></li><li><span><a href=\"#Save-the-model\" data-toc-modified-id=\"Save-the-model-6.4.4\"><span class=\"toc-item-num\">6.4.4&nbsp;&nbsp;</span>Save the model</a></span></li></ul></li><li><span><a href=\"#CNN-+-GRU\" data-toc-modified-id=\"CNN-+-GRU-6.5\"><span class=\"toc-item-num\">6.5&nbsp;&nbsp;</span>CNN + GRU</a></span><ul class=\"toc-item\"><li><span><a href=\"#Define-the-model\" data-toc-modified-id=\"Define-the-model-6.5.1\"><span class=\"toc-item-num\">6.5.1&nbsp;&nbsp;</span>Define the model</a></span></li><li><span><a href=\"#Train-the-model\" data-toc-modified-id=\"Train-the-model-6.5.2\"><span class=\"toc-item-num\">6.5.2&nbsp;&nbsp;</span>Train the model</a></span></li><li><span><a href=\"#Plot-validation-performance\" data-toc-modified-id=\"Plot-validation-performance-6.5.3\"><span class=\"toc-item-num\">6.5.3&nbsp;&nbsp;</span>Plot validation performance</a></span></li><li><span><a href=\"#Save-the-model\" data-toc-modified-id=\"Save-the-model-6.5.4\"><span class=\"toc-item-num\">6.5.4&nbsp;&nbsp;</span>Save the model</a></span></li></ul></li><li><span><a href=\"#Transformer-(TODO)\" data-toc-modified-id=\"Transformer-(TODO)-6.6\"><span class=\"toc-item-num\">6.6&nbsp;&nbsp;</span>Transformer (TODO)</a></span></li><li><span><a href=\"#Summary\" data-toc-modified-id=\"Summary-6.7\"><span class=\"toc-item-num\">6.7&nbsp;&nbsp;</span>Summary</a></span></li></ul></li><li><span><a href=\"#Prediction\" data-toc-modified-id=\"Prediction-7\"><span class=\"toc-item-num\">7&nbsp;&nbsp;</span>Prediction</a></span><ul class=\"toc-item\"><li><span><a href=\"#Train-the-model-on-the-whole-trainig-set\" data-toc-modified-id=\"Train-the-model-on-the-whole-trainig-set-7.1\"><span class=\"toc-item-num\">7.1&nbsp;&nbsp;</span>Train the model on the whole trainig set</a></span></li><li><span><a href=\"#Increase-the-number-of-epochs\" data-toc-modified-id=\"Increase-the-number-of-epochs-7.2\"><span class=\"toc-item-num\">7.2&nbsp;&nbsp;</span>Increase the number of epochs</a></span></li><li><span><a href=\"#Make-the-prediction-on-the-test-set\" data-toc-modified-id=\"Make-the-prediction-on-the-test-set-7.3\"><span class=\"toc-item-num\">7.3&nbsp;&nbsp;</span>Make the prediction on the test set</a></span></li></ul></li><li><span><a href=\"#Conclusion\" data-toc-modified-id=\"Conclusion-8\"><span class=\"toc-item-num\">8&nbsp;&nbsp;</span>Conclusion</a></span></li><li><span><a href=\"#Future-work\" data-toc-modified-id=\"Future-work-9\"><span class=\"toc-item-num\">9&nbsp;&nbsp;</span>Future work</a></span></li><li><span><a href=\"#Reference\" data-toc-modified-id=\"Reference-10\"><span class=\"toc-item-num\">10&nbsp;&nbsp;</span>Reference</a></span></li></ul></div>"
   ]
  },
  {
   "cell_type": "code",
   "execution_count": null,
   "metadata": {},
   "outputs": [],
   "source": []
  },
  {
   "cell_type": "markdown",
   "metadata": {},
   "source": [
    " \n",
    "Which Novel Do I Belong To?\n",
    "\n",
    "In this task, you are expected to learn a Machine Learning model that classifies a given line as belonging to one of the following 12 novels:\n",
    "\n",
    "0: alice_in_wonderland\n",
    "1: dracula\n",
    "2: dubliners\n",
    "3: great_expectations\n",
    "4: hard_times\n",
    "5: huckleberry_finn\n",
    "6: les_miserable\n",
    "7: moby_dick\n",
    "8: oliver_twist\n",
    "9: peter_pan\n",
    "10: talw_of_two_cities\n",
    "11: tom_sawyer\n",
    "\n",
    "\n",
    "Description:\n",
    "\n",
    "You are provided with a zip file (offline_challenge.zip) containing three text files - xtrain.txt, ytrain.txt, xtest.txt. Each line in xtrain.txt and xtest.txt comes from a different novel. The data has been obfuscated, however the patterns in them are preserved. The novel ids corresponding to xtrain.txt are specified in ytrain.txt. You can use these labels to train a Machine Learning model (Deep Learning preferred).\n",
    "\n",
    "With the learned model, predict the novel ids of the lines in xtest.txt (one prediction per line). As part of your submission, include\n",
    "\n",
    "a) your predictions (in the same format as ytrain.txt)\n",
    "b) Expected accuracy on the test set\n",
    "c) the source code for training and prediction (< 10MB)\n",
    "d) a brief description of your method (optional)\n"
   ]
  },
  {
   "cell_type": "code",
   "execution_count": null,
   "metadata": {},
   "outputs": [],
   "source": []
  },
  {
   "cell_type": "code",
   "execution_count": 577,
   "metadata": {},
   "outputs": [],
   "source": [
    "# Put these lines at the top of the notebook to get automatic reloading and inline plotting\n",
    "%reload_ext autoreload\n",
    "%autoreload 2\n",
    "%matplotlib inline\n"
   ]
  },
  {
   "cell_type": "code",
   "execution_count": 425,
   "metadata": {},
   "outputs": [],
   "source": [
    "import string\n",
    "\n",
    "import collections\n",
    "\n",
    "from matplotlib import pyplot\n",
    "import matplotlib.pyplot as plt\n",
    "import seaborn as sns\n",
    "%matplotlib inline\n",
    "\n",
    "import pandas as pd \n",
    "\n",
    "import numpy as np \n",
    "from numpy import genfromtxt\n",
    "from numpy.random import seed\n",
    "seed(42) # fix the random seed\n",
    "\n",
    "from sklearn.preprocessing import OneHotEncoder\n",
    "from sklearn.model_selection import train_test_split\n",
    "from sklearn import metrics\n",
    "from sklearn.metrics import confusion_matrix\n",
    "from sklearn.metrics import classification_report\n",
    "\n",
    "import keras\n",
    "from keras.models import Model, load_model, Sequential\n",
    "from keras.layers import Dense, Input, Dropout, MaxPooling1D, Conv1D, GlobalMaxPool1D, Bidirectional\n",
    "from keras.layers import LSTM, Lambda, Bidirectional, concatenate, BatchNormalization, Embedding\n",
    "from keras.layers import Reshape, RepeatVector\n",
    "from keras.layers import TimeDistributed\n",
    "from keras.optimizers import Adam\n",
    "from keras.callbacks import ModelCheckpoint, EarlyStopping\n",
    "from keras.models import load_model\n"
   ]
  },
  {
   "cell_type": "code",
   "execution_count": null,
   "metadata": {},
   "outputs": [],
   "source": []
  },
  {
   "cell_type": "markdown",
   "metadata": {},
   "source": [
    "## Methodology\n",
    "\n",
    "The novel classification task is formulated as a classification problem. \n",
    "Given a sentence x, the object is to predict its label y.\n",
    "To solve this problem, the sentences are transformed into pretrained text representations and then the text representations are fed to various deep learning architectures to classify the sentences into classes. \n",
    "The proposed solution is described as follows.\n",
    "\n",
    "1. Create a character dictionary which contains the mapping of each character in xtrain_obfuscated.txt to an integer.\n",
    " \n",
    " \n",
    "2. Transfer each sentence into a sequence of integers by using the character dictionary created in the first step.\n",
    "\n",
    "\n",
    "3. All the sentences are padded with zeros to make all the sentences have the same length which is the maximum length of the sentences.\n",
    "\n",
    "\n",
    "4. Download the pre-trained word embedding vectors of fastText and create a dictionary which contains the mapping of a character to a vector.\n",
    "\n",
    "\n",
    "5. Create a matrix of one embedding for each character by enumerating all unique character in the character dictionary created in step 1 and locating the embedding weight vector from the loaded embedding from step 4.\n",
    "\n",
    "\n",
    "6. Define a deep learning model. The input layer takes the sequence of integers (generated in step 2) as input.\n",
    "\n",
    "\n",
    "7. The initial weights of the second layer are the values of the embedding matrix which is created in step 5.\n",
    "\n",
    "\n",
    "8. The following layers of the deep learning model are composed of the combination of CNN and GRU layers.\n",
    "\n",
    "\n",
    "9. 80% of the data in xtrain_obfuscated.txt and ytrain.txt is used to train the deep learning model. 20% of the data is considered as the validation set to compute the performance of the trained model.\n",
    "\n",
    "\n",
    "10. Finally, all the data in xtrain_obfuscated.txt and ytrain.txt is used to train the deep learning model. \n",
    "\n",
    "\n",
    "11. The trained model is used to predict the class of the sentences in xtest_obfuscated.txt. \n",
    "\n",
    "\n",
    "12. Save the predictions to ytest.txt.\n",
    "\n"
   ]
  },
  {
   "cell_type": "code",
   "execution_count": null,
   "metadata": {},
   "outputs": [],
   "source": []
  },
  {
   "cell_type": "markdown",
   "metadata": {},
   "source": [
    "## Train, Test, and Validation Sets\n"
   ]
  },
  {
   "cell_type": "markdown",
   "metadata": {},
   "source": [
    "### Load train and test data \n"
   ]
  },
  {
   "cell_type": "code",
   "execution_count": 576,
   "metadata": {},
   "outputs": [],
   "source": [
    "x_train_file = '../offline_challenge/xtrain_obfuscated.txt'\n",
    "y_train_file = '../offline_challenge/ytrain.txt'\n",
    "x_test_file = '../offline_challenge/xtest_obfuscated.txt'\n"
   ]
  },
  {
   "cell_type": "code",
   "execution_count": 502,
   "metadata": {},
   "outputs": [],
   "source": [
    "\n",
    "with open(x_train_file) as f:\n",
    "    x_train_all = f.read().strip().lower().split('\\n')\n",
    "    \n",
    "with open(y_train_file) as f:\n",
    "    y_train_all = f.read().strip().split('\\n')\n",
    "y_train_all[:] = [int(y) for y in y_train_all]\n",
    "\n",
    "with open(x_test_file) as f:\n",
    "    x_test = f.read().strip().lower().split('\\n')\n",
    "       "
   ]
  },
  {
   "cell_type": "code",
   "execution_count": 507,
   "metadata": {},
   "outputs": [
    {
     "name": "stdout",
     "output_type": "stream",
     "text": [
      "32513 32513\n",
      "3000\n"
     ]
    }
   ],
   "source": [
    "print(len(y_train_all), len(y_train_all))\n",
    "print(len(x_test))\n"
   ]
  },
  {
   "cell_type": "code",
   "execution_count": null,
   "metadata": {},
   "outputs": [],
   "source": []
  },
  {
   "cell_type": "markdown",
   "metadata": {},
   "source": [
    "### Split train set into train and validation sets\n"
   ]
  },
  {
   "cell_type": "code",
   "execution_count": 508,
   "metadata": {},
   "outputs": [],
   "source": [
    "x_train, x_valid, y_train, y_valid = train_test_split(x_train_all, y_train_all, test_size=0.2, random_state=42)\n"
   ]
  },
  {
   "cell_type": "code",
   "execution_count": 509,
   "metadata": {},
   "outputs": [
    {
     "name": "stdout",
     "output_type": "stream",
     "text": [
      "6503 6503\n"
     ]
    }
   ],
   "source": [
    "print(len(x_valid), len(y_valid))\n"
   ]
  },
  {
   "cell_type": "code",
   "execution_count": null,
   "metadata": {},
   "outputs": [],
   "source": []
  },
  {
   "cell_type": "markdown",
   "metadata": {},
   "source": [
    "## Exploratory Data Analysis (EDA)\n"
   ]
  },
  {
   "cell_type": "markdown",
   "metadata": {},
   "source": [
    "### Class distribution\n"
   ]
  },
  {
   "cell_type": "code",
   "execution_count": 513,
   "metadata": {},
   "outputs": [
    {
     "data": {
      "text/plain": [
       "Counter({7: 5097,\n",
       "         3: 4023,\n",
       "         8: 3634,\n",
       "         4: 2337,\n",
       "         1: 3459,\n",
       "         11: 1408,\n",
       "         10: 3052,\n",
       "         9: 980,\n",
       "         6: 4226,\n",
       "         2: 1471,\n",
       "         5: 2283,\n",
       "         0: 543})"
      ]
     },
     "execution_count": 513,
     "metadata": {},
     "output_type": "execute_result"
    }
   ],
   "source": [
    "collections.Counter(y_train_all)\n"
   ]
  },
  {
   "cell_type": "code",
   "execution_count": 514,
   "metadata": {},
   "outputs": [
    {
     "data": {
      "image/png": "[encoded data removed]",
      "text/plain": [
       "<Figure size 432x288 with 1 Axes>"
      ]
     },
     "metadata": {
      "needs_background": "light"
     },
     "output_type": "display_data"
    }
   ],
   "source": [
    "plt.hist(y_train_all, \n",
    "         bins=12,\n",
    "        )\n",
    "\n",
    "plt.xlabel(\"Novel class\")\n",
    "plt.ylabel(\"Number of train samples\")\n",
    "plt.title(\"Novel class distribution\")\n",
    "plt.show()\n"
   ]
  },
  {
   "cell_type": "markdown",
   "metadata": {},
   "source": [
    "It shows that the data is imbalanced. Classes '0' and '10' have very few samples.\n"
   ]
  },
  {
   "cell_type": "code",
   "execution_count": null,
   "metadata": {},
   "outputs": [],
   "source": []
  },
  {
   "cell_type": "code",
   "execution_count": null,
   "metadata": {},
   "outputs": [],
   "source": []
  },
  {
   "cell_type": "markdown",
   "metadata": {},
   "source": [
    "### Sentence length distribution\n"
   ]
  },
  {
   "cell_type": "code",
   "execution_count": 515,
   "metadata": {},
   "outputs": [
    {
     "data": {
      "image/png": "[encoded data removed]",
      "text/plain": [
       "<Figure size 432x288 with 1 Axes>"
      ]
     },
     "metadata": {
      "needs_background": "light"
     },
     "output_type": "display_data"
    }
   ],
   "source": [
    "sent_len_train = [len(sent) for sent in x_train_all]\n",
    "sent_len_test = [len(sent) for sent in x_test]\n",
    "\n",
    "plt.hist(sent_len_train, \n",
    "         bins=range(min(sent_len_train), max(sent_len_train) + 1, 5),\n",
    "         alpha=0.4,\n",
    "         density=True,\n",
    "         color='green',\n",
    "        )\n",
    "\n",
    "plt.hist(sent_len_test, \n",
    "         bins=range(min(sent_len_test), max(sent_len_test) + 1, 5),\n",
    "         alpha=0.4,\n",
    "         density=True,\n",
    "         color='red',\n",
    "        )\n",
    "\n",
    "labels = ['Train',\"Test\"]\n",
    "plt.legend(labels)\n",
    "plt.xlabel(\"Length of sentence\")\n",
    "plt.ylabel(\"Percentage\")\n",
    "plt.title(\"Sentence length distribution (Train, Test)\")\n",
    "\n",
    "\n",
    "plt.show()\n"
   ]
  },
  {
   "cell_type": "markdown",
   "metadata": {},
   "source": [
    "The plot shows the distributions of sentence length in the train set and test set are similar.\n",
    "This shows that the sentences of the train and test might belong to the same distribution.\n"
   ]
  },
  {
   "cell_type": "code",
   "execution_count": null,
   "metadata": {},
   "outputs": [],
   "source": []
  },
  {
   "cell_type": "markdown",
   "metadata": {},
   "source": [
    "### Character distribution\n"
   ]
  },
  {
   "cell_type": "code",
   "execution_count": 587,
   "metadata": {},
   "outputs": [],
   "source": [
    "character_train_all = [ord(char) for char in sent for sent in x_train_all]\n",
    "character_train_all_counter = collections.Counter(character_train_all)\n"
   ]
  },
  {
   "cell_type": "code",
   "execution_count": 588,
   "metadata": {},
   "outputs": [
    {
     "data": {
      "text/plain": [
       "13850538"
      ]
     },
     "execution_count": 588,
     "metadata": {},
     "output_type": "execute_result"
    }
   ],
   "source": [
    "len(character_train_all)\n"
   ]
  },
  {
   "cell_type": "code",
   "execution_count": 589,
   "metadata": {},
   "outputs": [
    {
     "data": {
      "text/plain": [
       "Counter({117: 1788215,\n",
       "         99: 32513,\n",
       "         121: 97539,\n",
       "         112: 520208,\n",
       "         109: 1137955,\n",
       "         118: 942877,\n",
       "         108: 845338,\n",
       "         101: 1007903,\n",
       "         116: 1040416,\n",
       "         104: 1300520,\n",
       "         115: 292617,\n",
       "         107: 325130,\n",
       "         119: 1072929,\n",
       "         105: 617747,\n",
       "         97: 650260,\n",
       "         100: 260104,\n",
       "         102: 260104,\n",
       "         110: 487695,\n",
       "         120: 162565,\n",
       "         113: 390156,\n",
       "         122: 195078,\n",
       "         103: 260104,\n",
       "         114: 162565})"
      ]
     },
     "execution_count": 589,
     "metadata": {},
     "output_type": "execute_result"
    }
   ],
   "source": [
    "character_train_all_counter\n"
   ]
  },
  {
   "cell_type": "code",
   "execution_count": 584,
   "metadata": {},
   "outputs": [
    {
     "data": {
      "text/plain": [
       "23"
      ]
     },
     "execution_count": 584,
     "metadata": {},
     "output_type": "execute_result"
    }
   ],
   "source": [
    "len(character_train_all_counter)\n"
   ]
  },
  {
   "cell_type": "code",
   "execution_count": 590,
   "metadata": {},
   "outputs": [],
   "source": [
    "character_test = [ord(char) for char in sent for sent in x_test]\n",
    "character_test_counter = collections.Counter(character_test)\n"
   ]
  },
  {
   "cell_type": "code",
   "execution_count": 591,
   "metadata": {},
   "outputs": [
    {
     "data": {
      "text/plain": [
       "Counter({117: 165000,\n",
       "         99: 3000,\n",
       "         121: 9000,\n",
       "         112: 48000,\n",
       "         109: 105000,\n",
       "         118: 87000,\n",
       "         108: 78000,\n",
       "         101: 93000,\n",
       "         116: 96000,\n",
       "         104: 120000,\n",
       "         115: 27000,\n",
       "         107: 30000,\n",
       "         119: 99000,\n",
       "         105: 57000,\n",
       "         97: 60000,\n",
       "         100: 24000,\n",
       "         102: 24000,\n",
       "         110: 45000,\n",
       "         120: 15000,\n",
       "         113: 36000,\n",
       "         122: 18000,\n",
       "         103: 24000,\n",
       "         114: 15000})"
      ]
     },
     "execution_count": 591,
     "metadata": {},
     "output_type": "execute_result"
    }
   ],
   "source": [
    "character_test_counter\n"
   ]
  },
  {
   "cell_type": "code",
   "execution_count": 592,
   "metadata": {},
   "outputs": [
    {
     "data": {
      "text/plain": [
       "23"
      ]
     },
     "execution_count": 592,
     "metadata": {},
     "output_type": "execute_result"
    }
   ],
   "source": [
    "len(character_test_counter)\n"
   ]
  },
  {
   "cell_type": "code",
   "execution_count": 600,
   "metadata": {},
   "outputs": [
    {
     "data": {
      "image/png": "[encoded data removed]",
      "text/plain": [
       "<Figure size 432x288 with 1 Axes>"
      ]
     },
     "metadata": {
      "needs_background": "light"
     },
     "output_type": "display_data"
    }
   ],
   "source": [
    "plt.hist(character_train_all, \n",
    "         bins=range(min(character_train_all), max(character_train_all) + 1, 1),\n",
    "         alpha=0.4,\n",
    "         density=True,\n",
    "         color='green',\n",
    "        )\n",
    "\n",
    "plt.xlabel(\"character index\")\n",
    "plt.ylabel(\"percentage\")\n",
    "plt.title(\"character distribution (train)\")\n",
    "\n",
    "\n",
    "plt.show()\n"
   ]
  },
  {
   "cell_type": "code",
   "execution_count": 601,
   "metadata": {},
   "outputs": [
    {
     "data": {
      "image/png": "[encoded data removed]",
      "text/plain": [
       "<Figure size 432x288 with 1 Axes>"
      ]
     },
     "metadata": {
      "needs_background": "light"
     },
     "output_type": "display_data"
    }
   ],
   "source": [
    "plt.hist(character_test, \n",
    "         bins=range(min(character_test), max(character_test) + 1, 1),\n",
    "         alpha=0.4,\n",
    "         density=True,\n",
    "         color='red',\n",
    "        )\n",
    "\n",
    "plt.xlabel(\"character index\")\n",
    "plt.ylabel(\"percentage\")\n",
    "plt.title(\"character distribution (test)\")\n",
    "\n",
    "plt.show()"
   ]
  },
  {
   "cell_type": "markdown",
   "metadata": {},
   "source": [
    "The character distributions of the train and test sets are identical. \n",
    "This shows the text of train and test sets comes from the same distribution.\n"
   ]
  },
  {
   "cell_type": "code",
   "execution_count": null,
   "metadata": {},
   "outputs": [],
   "source": []
  },
  {
   "cell_type": "code",
   "execution_count": null,
   "metadata": {},
   "outputs": [],
   "source": []
  },
  {
   "cell_type": "code",
   "execution_count": null,
   "metadata": {},
   "outputs": [],
   "source": []
  },
  {
   "cell_type": "markdown",
   "metadata": {},
   "source": [
    "## Word Embedding\n",
    "\n",
    "\n",
    "The idea is to transfer each character into a vector based on the context.\n",
    "fastText is used because it is not possible to get words directly from the obfuscated text.\n",
    "\n",
    "\n",
    "**Word Embedding**\n",
    "\n",
    "\"\n",
    "A word embedding is a way of representing text where each word in the vocabulary is represented by a real valued vector in a high-dimensional space. The vectors are learned in such a way that words that have similar meanings will have similar representation in the vector space (close in the vector space). This is a more expressive representation for text than more classical methods like bag-of-words, where relationships between words or tokens are ignored, or forced in bigram and trigram approaches.\n",
    "\n",
    "The real valued vector representation for words can be learned while training the neural network. We can do this in the Keras deep learning library using the Embedding layer.\n",
    "\"\n",
    "\n",
    "\n",
    "https://machinelearningmastery.com/develop-word-embedding-model-predicting-movie-review-sentiment/\n",
    "\n",
    "\n",
    "\n",
    "\n",
    "**What is the difference between fastText and GloVe?**\n",
    "\n",
    "\"\n",
    "Key difference is Glove treats each word in corpus like an atomic entity and generates a vector for each word. \n",
    "In this sense Glove is very much like word2vec- both treat words as the smallest unit to train on.\n",
    "\n",
    "Fasttext which is essentially an extension of word2vec model, treats each word as composed of character ngrams. \n",
    "So the vector for a word is made of the sum of this character n grams. This difference enables fasttext to\n",
    "\n",
    "- Generate better word embeddings for rare words \n",
    "( even if words are rare their character n grams are still shared with other words - hence the embeddings can still be good)\n",
    "\n",
    "- Out of vocabulary words - they can construct the vector for a word from its character n grams even if word doesn't appear in training corpus. Both Glove and word2vec can't.\n",
    "\"\n",
    "\n",
    "https://www.quora.com/What-is-the-difference-between-fastText-and-GloVe\n",
    "\n",
    "\n",
    "\n",
    "\n",
    "\n"
   ]
  },
  {
   "cell_type": "code",
   "execution_count": 555,
   "metadata": {},
   "outputs": [],
   "source": [
    "def get_embedding(embedding_file):\n",
    "    \"\"\"\n",
    "    Create a dictionary contains key: word/character, value: a vector\n",
    "    \"\"\"\n",
    "    embedding_dict = {}\n",
    "    with open(embedding_file) as f:\n",
    "        for line in tqdm(f):\n",
    "            values = line.split()\n",
    "            word = values[0]\n",
    "            embedding_dict[word] = np.asarray(values[1:], dtype='float32')\n",
    "    return embedding_dict\n"
   ]
  },
  {
   "cell_type": "code",
   "execution_count": 218,
   "metadata": {},
   "outputs": [
    {
     "name": "stderr",
     "output_type": "stream",
     "text": [
      "400000it [00:35, 11409.46it/s]\n",
      "1999996it [02:52, 11590.40it/s]\n"
     ]
    }
   ],
   "source": [
    "#glove_path = '../glove.6B.300d.txt'\n",
    "#glove_path = '../glove.840B.300d.txt'\n",
    "#glove_embedding = {}\n",
    "#glove_embedding = get_embedding(glove_path)\n",
    "\n",
    "#fasttext_path = '../wiki-news-300d-1M.vec'\n",
    "fasttext_path = '../crawl-300d-2M.vec'\n",
    "fasttext_embedding = {}\n",
    "fasttext_embedding = get_embedding(fasttext_path)\n"
   ]
  },
  {
   "cell_type": "code",
   "execution_count": null,
   "metadata": {},
   "outputs": [],
   "source": []
  },
  {
   "cell_type": "markdown",
   "metadata": {},
   "source": [
    "## Features (X) and Labels (Y)\n",
    "\n"
   ]
  },
  {
   "cell_type": "markdown",
   "metadata": {},
   "source": [
    "### Tokenization and padding\n"
   ]
  },
  {
   "cell_type": "code",
   "execution_count": 516,
   "metadata": {},
   "outputs": [],
   "source": [
    "\n",
    "max_features = None\n",
    "token = text.Tokenizer(num_words=max_features, char_level=True)\n",
    "\n",
    "token.fit_on_texts(list(x_train_all) + list(x_test))\n",
    "#token.fit_on_texts(list(x_train_all))\n",
    "\n",
    "# transforms each text in texts to a sequence of integers.\n",
    "x_train_seq = token.texts_to_sequences(x_train)\n",
    "x_train_all_seq = token.texts_to_sequences(x_train_all)\n",
    "x_valid_seq = token.texts_to_sequences(x_valid)\n",
    "x_test_seq = token.texts_to_sequences(x_test)\n",
    "\n",
    "# zero pad the sequences\n",
    "# max_sent_len = 200\n",
    "max_sent_len = max([len(sent) for sent in x_train_all])\n",
    "x_train_seq = sequence.pad_sequences(x_train_seq, maxlen=max_sent_len)\n",
    "x_train_all_seq = sequence.pad_sequences(x_train_all_seq, maxlen=max_sent_len)\n",
    "x_valid_seq = sequence.pad_sequences(x_valid_seq, maxlen=max_sent_len)\n",
    "x_test_seq = sequence.pad_sequences(x_test_seq, maxlen=max_sent_len)\n",
    "\n",
    "word_index = token.word_index\n"
   ]
  },
  {
   "cell_type": "code",
   "execution_count": 517,
   "metadata": {},
   "outputs": [
    {
     "name": "stdout",
     "output_type": "stream",
     "text": [
      "26010\n",
      "32513\n",
      "6503\n",
      "3000\n",
      "452\n",
      "[ 0  0  0  0  0  0  0  0  0  0  0  0  0  0  0  0  0  0  0  0  0  0  0  0\n",
      "  0  0  0  0  0  0  0  0 15 12  4  9  5 14 12 17  1  2 13 17 15 12  8  7\n",
      "  6  5  8  7 15 12  3  4 13  4  4  9 10  3 21 10  1  2  8  7 11  3 13  4\n",
      "  1  2  9 25 13 17  8  7  4  9 10  3  1  2 10  3  1  6  4  9  3  4  1  2\n",
      "  1  6  8  7  6 16  1  2  9  7  9  7  3  4 19 20  1  2  8  7 11  3 22 21\n",
      " 12 17  1  2  1  2 16 11  1  6 13  4  8  7 12 16 15 18  8  7  6  5  1  2\n",
      "  1  6  5 14  8  7  6  5  6 16  1  2  4  9  3  4  1  2  8  7  6  5  8  7\n",
      " 19 20  1  2 11  3 21 10  3  4 11  3 19 20  1  2 13 17 13  4  8  7 11  3\n",
      " 21 10  5 14 10  3 21 10  1  2  6 16  4  9  3  4  1  6  3  4  5 14 19 20\n",
      "  1  2  8  7 11  3  1  6  1  2 13  4 15 12  6  5  5 14 19 20 10  3  1  6\n",
      "  1  2 13  4  8  7 15 11  8  7  1  2 15 12  8  7  1  6 21 10  5 14  6  5\n",
      "  1  6 13  4  3  4 15 12  1  2  6  5  8  7 11  3  1  2 15 12  8  7  4  9\n",
      "  6  5 12 16  1  6  1  2  1  6  3  4 13  4  6  5  5 14 17 18 22 21  1  2\n",
      " 16 11 13  4  6  5 13 25  1  2 13 17  6 16  4  9  3  4  1  6 11  3  6 16\n",
      "  3  4  9  7  5 14  1  2 22  5 10  3  1  2  1  6  4  9  5 14  1  6 13  4\n",
      "  4  9  3  4  1  2  1  6 13  4  6  5  3  4 22  5  1  2  8  7 11  3  1  6\n",
      "  1  2  4  9  9 17  1  2  1  2 16 11  6  5  8  7  1  6  5 14 19 20  1  2\n",
      "  6  5  8  7 15 12  4  9 12 16  1  2  8  7  6  5  8  7 19 20  1  2 13  4\n",
      "  1  6  8  7  8  7  6  5  1  6 13  4  1  2 15 12  4  9  5 14]\n",
      "{'u': 1, 'h': 2, 'm': 3, 'v': 4, 'e': 5, 'l': 6, 'w': 7, 't': 8, 'i': 9, 'p': 10, 'a': 11, 'k': 12, 'q': 13, 'n': 14, 's': 15, 'r': 16, 'g': 17, 'z': 18, 'd': 19, 'f': 20, 'y': 21, 'x': 22, 'c': 23, 'o': 24, 'j': 25, 'b': 26}\n"
     ]
    }
   ],
   "source": [
    "print(len(x_train_seq))\n",
    "print(len(x_train_all_seq))\n",
    "print(len(x_valid_seq))\n",
    "print(len(x_test_seq))\n",
    "\n",
    "print(len(x_train_seq[0]))\n",
    "print(x_train_seq[0])\n",
    "print(word_index)\n"
   ]
  },
  {
   "cell_type": "code",
   "execution_count": null,
   "metadata": {},
   "outputs": [],
   "source": []
  },
  {
   "cell_type": "markdown",
   "metadata": {},
   "source": [
    "### Creating an embedding matrix\n"
   ]
  },
  {
   "cell_type": "code",
   "execution_count": 518,
   "metadata": {},
   "outputs": [],
   "source": [
    "embedding_len=300\n"
   ]
  },
  {
   "cell_type": "code",
   "execution_count": 519,
   "metadata": {},
   "outputs": [],
   "source": [
    "# integer -> vector\n",
    "def get_embedding_matrix(embedding, \n",
    "                         word_index, \n",
    "                         embedding_len=300):\n",
    "    embedding_matrix = np.zeros((len(word_index) + 1, embedding_len))\n",
    "    for word, i in tqdm(word_index.items()):\n",
    "        embedding_vector = embedding.get(word)\n",
    "        if embedding_vector is not None:\n",
    "            embedding_matrix[i] = embedding_vector\n",
    "    return embedding_matrix\n",
    "        \n",
    "    "
   ]
  },
  {
   "cell_type": "code",
   "execution_count": 520,
   "metadata": {},
   "outputs": [
    {
     "name": "stderr",
     "output_type": "stream",
     "text": [
      "100%|██████████| 26/26 [00:00<00:00, 385.83it/s]\n"
     ]
    }
   ],
   "source": [
    "\n",
    "fasttext_embedding_matrix = get_embedding_matrix(embedding=fasttext_embedding,\n",
    "                                                 word_index=word_index,\n",
    "                                                 embedding_len=embedding_len,\n",
    "                                                )\n"
   ]
  },
  {
   "cell_type": "code",
   "execution_count": null,
   "metadata": {},
   "outputs": [],
   "source": [
    "\n"
   ]
  },
  {
   "cell_type": "markdown",
   "metadata": {},
   "source": [
    "### Encoding the labels\n"
   ]
  },
  {
   "cell_type": "code",
   "execution_count": 521,
   "metadata": {},
   "outputs": [],
   "source": [
    "y_train_en = np_utils.to_categorical((y_train))\n",
    "y_train_all_en = np_utils.to_categorical((y_train_all))\n",
    "y_valid_en = np_utils.to_categorical((y_valid))\n"
   ]
  },
  {
   "cell_type": "code",
   "execution_count": null,
   "metadata": {},
   "outputs": [],
   "source": []
  },
  {
   "cell_type": "code",
   "execution_count": null,
   "metadata": {},
   "outputs": [],
   "source": []
  },
  {
   "cell_type": "markdown",
   "metadata": {},
   "source": [
    "## Model\n",
    "\n"
   ]
  },
  {
   "cell_type": "markdown",
   "metadata": {},
   "source": [
    "### Define the functions for ploting\n"
   ]
  },
  {
   "cell_type": "code",
   "execution_count": 477,
   "metadata": {},
   "outputs": [],
   "source": [
    "\n",
    "def plot_confusion_matrix(y_test, y_pred):\n",
    "    confusion_mtx = confusion_matrix(y_test, y_pred) \n",
    "    f,ax = plt.subplots(figsize=(8, 8))\n",
    "    sns.heatmap(confusion_mtx, annot=True, linewidths=0.01, cmap=\"Greens\", linecolor=\"gray\", fmt= '.1f',ax=ax)\n",
    "    plt.xlabel(\"Predicted Label\")\n",
    "    plt.ylabel(\"True Label\")\n",
    "    plt.title(\"Confusion Matrix\")\n",
    "    plt.show()\n",
    "    return\n",
    "\n",
    "\n",
    "def plot_learning_curves(history, acc='acc', val_acc='val_acc'):\n",
    "    # plot loss\n",
    "    pyplot.subplot(211)\n",
    "    pyplot.title('Loss')\n",
    "    pyplot.plot(history.history['loss'], color='blue', label='train')\n",
    "    pyplot.plot(history.history['val_loss'], color='orange', label='test')\n",
    "\n",
    "    # plot accuracy\n",
    "    pyplot.subplot(212)\n",
    "    pyplot.title('Accuracy')\n",
    "    pyplot.plot(history.history[acc], color='blue', label='train')\n",
    "    pyplot.plot(history.history[val_acc], color='orange', label='test')\n",
    "    pyplot.legend()\n",
    "    pyplot.show()\n",
    "    \n",
    "    #filename = sys.argv[0].split('/')[-1]\n",
    "    #pyplot.savefig(filename + '_plot.png')\n",
    "    #pyplot.close()\n",
    "    #image = imread(filename + '_plot.png')\n",
    "    #pyplot.figure(figsize=(10, 25))\n",
    "    #pyplot.imshow(image)\n",
    "    return \n"
   ]
  },
  {
   "cell_type": "markdown",
   "metadata": {},
   "source": [
    "### Parameters\n"
   ]
  },
  {
   "cell_type": "code",
   "execution_count": 550,
   "metadata": {},
   "outputs": [],
   "source": [
    "n_classes = 12\n",
    "batch_size = 32\n",
    "epochs = 60\n",
    "\n",
    "# save all the models in a dictionary\n",
    "model_dict = {}\n"
   ]
  },
  {
   "cell_type": "markdown",
   "metadata": {},
   "source": [
    "### GRU\n",
    "\n",
    "\n",
    "**Reference**\n",
    "\n",
    "* How to Use Word Embedding Layers for Deep Learning with Keras\n",
    "\n",
    "https://machinelearningmastery.com/use-word-embedding-layers-deep-learning-keras/\n",
    "\n",
    "\n",
    "* A Tour of Recurrent Neural Network Algorithms for Deep Learning\n",
    "\n",
    "https://machinelearningmastery.com/recurrent-neural-network-algorithms-for-deep-learning/\n",
    "\n",
    "\n"
   ]
  },
  {
   "cell_type": "markdown",
   "metadata": {},
   "source": [
    "#### Define the model"
   ]
  },
  {
   "cell_type": "code",
   "execution_count": 553,
   "metadata": {},
   "outputs": [],
   "source": [
    "def define_gru_model(word_index, \n",
    "                     max_sent_len, \n",
    "                     embedding_matrix,\n",
    "                     embedding_size=0,\n",
    "                     n_classes=12,\n",
    "                    ):\n",
    "    \n",
    "    model = Sequential()\n",
    "    \n",
    "    if embedding_matrix is None:\n",
    "        model.add(Embedding(len(word_index) + 1, \n",
    "                            embedding_size, \n",
    "                            input_length=max_sent_len,\n",
    "                           ))\n",
    "    else:\n",
    "        model.add(Embedding(len(word_index) + 1,\n",
    "                             embedding_matrix.shape[1],\n",
    "                             weights=[embedding_matrix],\n",
    "                             input_length=max_sent_len,\n",
    "                             trainable=False))\n",
    "    \n",
    "    model.add(SpatialDropout1D(0.3))\n",
    "    model.add(GRU(100, dropout=0.3, recurrent_dropout=0.3))\n",
    "    #model.add(GRU(100, dropout=0.3, recurrent_dropout=0.3, return_sequences=True))\n",
    "    #model.add(GRU(100, dropout=0.3, recurrent_dropout=0.3))\n",
    "    #model.add(LSTM(100, dropout=0.3, recurrent_dropout=0.3))\n",
    "\n",
    "    model.add(Dense(64, activation='relu'))\n",
    "    model.add(Dropout(0.5))\n",
    "\n",
    "    model.add(Dense(n_classes))\n",
    "    model.add(Activation('softmax'))\n",
    "    model.compile(loss='categorical_crossentropy', optimizer='adam', metrics=['acc'])\n",
    "\n",
    "    return model\n"
   ]
  },
  {
   "cell_type": "markdown",
   "metadata": {},
   "source": [
    "#### Train the model\n",
    "\n",
    "\n",
    "About early stopping\n",
    "\n",
    "https://medium.com/ai%C2%B3-theory-practice-business/dropout-early-stopping-188a23beb2f9\n"
   ]
  },
  {
   "cell_type": "code",
   "execution_count": 554,
   "metadata": {},
   "outputs": [
    {
     "name": "stdout",
     "output_type": "stream",
     "text": [
      "Epoch 1/60\n",
      "813/813 [==============================] - 702s 863ms/step - loss: 2.3127 - acc: 0.1758 - val_loss: 2.2221 - val_acc: 0.1927\n",
      "Epoch 2/60\n",
      "813/813 [==============================] - 607s 746ms/step - loss: 2.2314 - acc: 0.2035 - val_loss: 2.2046 - val_acc: 0.2022\n",
      "Epoch 3/60\n",
      "813/813 [==============================] - 583s 717ms/step - loss: 2.2157 - acc: 0.2047 - val_loss: 2.2001 - val_acc: 0.2028\n",
      "Epoch 4/60\n",
      "813/813 [==============================] - 534s 657ms/step - loss: 2.2062 - acc: 0.2080 - val_loss: 2.1963 - val_acc: 0.2041\n",
      "Epoch 5/60\n",
      "813/813 [==============================] - 525s 646ms/step - loss: 2.1559 - acc: 0.2230 - val_loss: 2.0517 - val_acc: 0.2483\n",
      "Epoch 6/60\n",
      "813/813 [==============================] - 589s 724ms/step - loss: 2.0526 - acc: 0.2527 - val_loss: 2.0127 - val_acc: 0.2833\n",
      "Epoch 7/60\n",
      "813/813 [==============================] - 526s 647ms/step - loss: 1.9972 - acc: 0.2832 - val_loss: 1.9324 - val_acc: 0.3119\n",
      "Epoch 8/60\n",
      "813/813 [==============================] - 540s 664ms/step - loss: 1.9391 - acc: 0.3139 - val_loss: 1.8396 - val_acc: 0.3531\n",
      "Epoch 9/60\n",
      "813/813 [==============================] - 561s 690ms/step - loss: 1.8772 - acc: 0.3409 - val_loss: 1.7820 - val_acc: 0.3764\n",
      "Epoch 10/60\n",
      "813/813 [==============================] - 586s 721ms/step - loss: 1.8334 - acc: 0.3611 - val_loss: 1.7400 - val_acc: 0.3924\n",
      "Epoch 11/60\n",
      "813/813 [==============================] - 566s 696ms/step - loss: 1.7790 - acc: 0.3803 - val_loss: 1.6727 - val_acc: 0.4061\n",
      "Epoch 12/60\n",
      "813/813 [==============================] - 518s 637ms/step - loss: 1.6922 - acc: 0.3987 - val_loss: 1.5211 - val_acc: 0.4416\n",
      "Epoch 13/60\n",
      "813/813 [==============================] - 584s 718ms/step - loss: 1.5755 - acc: 0.4306 - val_loss: 1.4457 - val_acc: 0.4687\n",
      "Epoch 14/60\n",
      "813/813 [==============================] - 632s 777ms/step - loss: 1.5296 - acc: 0.4481 - val_loss: 1.4300 - val_acc: 0.4695\n",
      "Epoch 15/60\n",
      "813/813 [==============================] - 642s 790ms/step - loss: 1.4957 - acc: 0.4606 - val_loss: 1.4025 - val_acc: 0.4824\n",
      "Epoch 16/60\n",
      "813/813 [==============================] - 605s 744ms/step - loss: 1.4501 - acc: 0.4750 - val_loss: 1.3368 - val_acc: 0.5191\n",
      "Epoch 17/60\n",
      "813/813 [==============================] - 660s 812ms/step - loss: 1.4160 - acc: 0.4842 - val_loss: 1.3221 - val_acc: 0.5108\n",
      "Epoch 18/60\n",
      "813/813 [==============================] - 598s 736ms/step - loss: 1.3875 - acc: 0.4955 - val_loss: 1.2695 - val_acc: 0.5338\n",
      "Epoch 19/60\n",
      "813/813 [==============================] - 568s 699ms/step - loss: 1.3678 - acc: 0.5044 - val_loss: 1.2641 - val_acc: 0.5374\n",
      "Epoch 20/60\n",
      "813/813 [==============================] - 604s 742ms/step - loss: 1.3361 - acc: 0.5191 - val_loss: 1.2108 - val_acc: 0.5608\n",
      "Epoch 21/60\n",
      "813/813 [==============================] - 585s 719ms/step - loss: 1.3163 - acc: 0.5226 - val_loss: 1.1946 - val_acc: 0.5619\n",
      "Epoch 22/60\n",
      "813/813 [==============================] - 520s 640ms/step - loss: 1.2910 - acc: 0.5360 - val_loss: 1.2016 - val_acc: 0.5642\n",
      "Epoch 23/60\n",
      "813/813 [==============================] - 520s 639ms/step - loss: 1.2857 - acc: 0.5361 - val_loss: 1.1575 - val_acc: 0.5842\n",
      "Epoch 24/60\n",
      "813/813 [==============================] - 566s 696ms/step - loss: 1.2602 - acc: 0.5436 - val_loss: 1.1389 - val_acc: 0.5834\n",
      "Epoch 25/60\n",
      "813/813 [==============================] - 579s 712ms/step - loss: 1.2378 - acc: 0.5577 - val_loss: 1.1491 - val_acc: 0.5830\n",
      "Epoch 26/60\n",
      "813/813 [==============================] - 522s 642ms/step - loss: 1.2332 - acc: 0.5590 - val_loss: 1.1088 - val_acc: 0.5971\n",
      "Epoch 27/60\n",
      "813/813 [==============================] - 535s 658ms/step - loss: 1.2156 - acc: 0.5642 - val_loss: 1.1096 - val_acc: 0.6017\n",
      "Epoch 28/60\n",
      "813/813 [==============================] - 531s 653ms/step - loss: 1.2061 - acc: 0.5702 - val_loss: 1.0882 - val_acc: 0.5994\n",
      "Epoch 29/60\n",
      "813/813 [==============================] - 530s 652ms/step - loss: 1.1935 - acc: 0.5750 - val_loss: 1.0862 - val_acc: 0.6079\n",
      "Epoch 30/60\n",
      "813/813 [==============================] - 530s 652ms/step - loss: 1.1879 - acc: 0.5727 - val_loss: 1.0513 - val_acc: 0.6280\n",
      "Epoch 31/60\n",
      "813/813 [==============================] - 533s 655ms/step - loss: 1.1684 - acc: 0.5830 - val_loss: 1.0597 - val_acc: 0.6174\n",
      "Epoch 32/60\n",
      "813/813 [==============================] - 516s 635ms/step - loss: 1.1608 - acc: 0.5871 - val_loss: 1.0392 - val_acc: 0.6363\n",
      "Epoch 33/60\n",
      "813/813 [==============================] - 506s 622ms/step - loss: 1.1505 - acc: 0.5935 - val_loss: 1.0171 - val_acc: 0.6337\n",
      "Epoch 34/60\n",
      "813/813 [==============================] - 508s 625ms/step - loss: 1.1369 - acc: 0.5959 - val_loss: 1.0122 - val_acc: 0.6457\n",
      "Epoch 35/60\n",
      "813/813 [==============================] - 511s 629ms/step - loss: 1.1268 - acc: 0.6021 - val_loss: 1.0024 - val_acc: 0.6423\n",
      "Epoch 36/60\n",
      "813/813 [==============================] - 504s 619ms/step - loss: 1.1257 - acc: 0.6027 - val_loss: 0.9955 - val_acc: 0.6414\n",
      "Epoch 37/60\n",
      "813/813 [==============================] - 514s 632ms/step - loss: 1.1105 - acc: 0.6126 - val_loss: 1.0142 - val_acc: 0.6399\n",
      "Epoch 38/60\n",
      "813/813 [==============================] - 508s 625ms/step - loss: 1.1062 - acc: 0.6095 - val_loss: 0.9969 - val_acc: 0.6457\n",
      "Epoch 39/60\n",
      "813/813 [==============================] - 512s 630ms/step - loss: 1.0953 - acc: 0.6138 - val_loss: 0.9915 - val_acc: 0.6409\n",
      "Epoch 40/60\n",
      "813/813 [==============================] - 506s 623ms/step - loss: 1.0965 - acc: 0.6116 - val_loss: 0.9981 - val_acc: 0.6405\n",
      "Epoch 41/60\n",
      "813/813 [==============================] - 506s 623ms/step - loss: 1.0875 - acc: 0.6154 - val_loss: 0.9843 - val_acc: 0.6451\n",
      "Epoch 42/60\n",
      "813/813 [==============================] - 512s 630ms/step - loss: 1.0759 - acc: 0.6177 - val_loss: 0.9574 - val_acc: 0.6591\n",
      "Epoch 43/60\n",
      "813/813 [==============================] - 507s 624ms/step - loss: 1.0789 - acc: 0.6200 - val_loss: 0.9645 - val_acc: 0.6514\n",
      "Epoch 44/60\n",
      "813/813 [==============================] - 514s 632ms/step - loss: 1.0739 - acc: 0.6221 - val_loss: 0.9611 - val_acc: 0.6600\n",
      "Epoch 45/60\n",
      "813/813 [==============================] - 505s 622ms/step - loss: 1.0622 - acc: 0.6268 - val_loss: 0.9549 - val_acc: 0.6691\n",
      "Epoch 46/60\n",
      "813/813 [==============================] - 514s 632ms/step - loss: 1.0579 - acc: 0.6250 - val_loss: 0.9453 - val_acc: 0.6606\n",
      "Epoch 47/60\n",
      "813/813 [==============================] - 507s 624ms/step - loss: 1.0557 - acc: 0.6281 - val_loss: 0.9404 - val_acc: 0.6634\n",
      "Epoch 48/60\n",
      "813/813 [==============================] - 508s 625ms/step - loss: 1.0437 - acc: 0.6278 - val_loss: 0.9485 - val_acc: 0.6591\n",
      "Epoch 49/60\n",
      "813/813 [==============================] - 515s 633ms/step - loss: 1.0452 - acc: 0.6332 - val_loss: 0.9409 - val_acc: 0.6631\n",
      "Epoch 50/60\n",
      "813/813 [==============================] - 509s 626ms/step - loss: 1.0299 - acc: 0.6370 - val_loss: 0.9479 - val_acc: 0.6603\n",
      "Epoch 51/60\n",
      "813/813 [==============================] - 510s 628ms/step - loss: 1.0325 - acc: 0.6386 - val_loss: 0.9450 - val_acc: 0.6677\n",
      "Epoch 52/60\n",
      "813/813 [==============================] - 507s 623ms/step - loss: 1.0295 - acc: 0.6378 - val_loss: 0.9361 - val_acc: 0.6686\n",
      "Epoch 53/60\n",
      "813/813 [==============================] - 508s 625ms/step - loss: 1.0322 - acc: 0.6381 - val_loss: 0.9195 - val_acc: 0.6711\n",
      "Epoch 54/60\n",
      "813/813 [==============================] - 511s 629ms/step - loss: 1.0210 - acc: 0.6433 - val_loss: 0.9293 - val_acc: 0.6689\n",
      "Epoch 55/60\n",
      "813/813 [==============================] - 508s 624ms/step - loss: 1.0124 - acc: 0.6447 - val_loss: 0.9182 - val_acc: 0.6765\n",
      "Epoch 56/60\n",
      "813/813 [==============================] - 513s 631ms/step - loss: 1.0078 - acc: 0.6427 - val_loss: 0.9316 - val_acc: 0.6711\n",
      "Epoch 57/60\n",
      "813/813 [==============================] - 511s 628ms/step - loss: 1.0081 - acc: 0.6446 - val_loss: 0.9021 - val_acc: 0.6792\n",
      "Epoch 58/60\n",
      "813/813 [==============================] - 509s 626ms/step - loss: 1.0053 - acc: 0.6444 - val_loss: 0.9111 - val_acc: 0.6765\n",
      "Epoch 59/60\n",
      "813/813 [==============================] - 505s 622ms/step - loss: 1.0028 - acc: 0.6452 - val_loss: 0.8922 - val_acc: 0.6868\n",
      "Epoch 60/60\n",
      "813/813 [==============================] - 513s 631ms/step - loss: 0.9981 - acc: 0.6519 - val_loss: 0.9087 - val_acc: 0.6834\n"
     ]
    }
   ],
   "source": [
    "\n",
    "model = define_gru_model(word_index=word_index, \n",
    "                         max_sent_len=max_sent_len, \n",
    "                         embedding_matrix=fasttext_embedding_matrix,\n",
    "                        )\n",
    "\n",
    "#earlystop = EarlyStopping(monitor='val_loss', min_delta=0, patience=3, verbose=0, mode='auto')\n",
    "\n",
    "history = model.fit(x=x_train_seq, \n",
    "                    y=y_train_en, \n",
    "                    batch_size=batch_size, \n",
    "                    epochs=epochs, \n",
    "                    verbose=1, \n",
    "                    validation_data=(x_valid_seq, y_valid_en),\n",
    "                    #callbacks=[earlystop],\n",
    "                   )\n",
    "\n"
   ]
  },
  {
   "cell_type": "code",
   "execution_count": 556,
   "metadata": {},
   "outputs": [
    {
     "data": {
      "image/png": "[encoded data removed]",
      "text/plain": [
       "<Figure size 432x288 with 2 Axes>"
      ]
     },
     "metadata": {
      "needs_background": "light"
     },
     "output_type": "display_data"
    }
   ],
   "source": [
    "plot_learning_curves(history)\n"
   ]
  },
  {
   "cell_type": "markdown",
   "metadata": {},
   "source": [
    "##### Validation error less than training error?\n",
    "\n",
    "https://stats.stackexchange.com/questions/187335/validation-error-less-than-training-error\n",
    "\n",
    "\n",
    "\"\n",
    "Generally speaking though, training error will almost always underestimate your validation error. However it is possible for the validation error to be less than the training. You can think of it two ways:\n",
    "\n",
    "- Your training set had many 'hard' cases to learn\n",
    "- Your validation set had mostly 'easy' cases to predict\n",
    "\"\n",
    "\n",
    "\"\n",
    "One possibility: If you are using dropout regularization layer in your network, it is reasonable that the validation error is smaller than training error. Because usually dropout is activated when training but deactivated when evaluating on the validation set. You get a more smooth (usually means better) function in the latter case.\n",
    "\"\n",
    "\n",
    "\"\n",
    "FAQ on Keras' documentation:\n",
    "\n",
    "Why is the training loss much higher than the testing loss?\n",
    "\n",
    "A Keras model has two modes: training and testing. Regularization mechanisms, such as Dropout and L1/L2 weight regularization, are turned off at testing time.\n",
    "\n",
    "Besides, the training loss is the average of the losses over each batch of training data. Because your model is changing over time, the loss over the first batches of an epoch is generally higher than over the last batches. On the other hand, the testing loss for an epoch is computed using the model as it is at the end of the epoch, resulting in a lower loss.\n",
    "\"\n",
    "\n"
   ]
  },
  {
   "cell_type": "markdown",
   "metadata": {},
   "source": [
    "##### Why disable dropout during validation and testing?\n",
    "\n",
    "https://stackoverflow.com/questions/44223585/why-disable-dropout-during-validation-and-testing/44229870#:~:text=Dropout%20is%20a%20random%20process,a%20layer%20with%20chance%20p.&text=However%2C%20there%20are%20two%20main,every%20(sequences%20of)%20activation.\n",
    "\n",
    "\"\n",
    "Dropout is a random process of disabling neurons in a layer with chance p. This will make certain neurons feel they are 'wrong' in each iteration - basically, you are making neurons feel 'wrong' about their output so that they rely less on the outputs of the nodes in the previous layer. This is a method of regularization and reduces overfitting.\n",
    "\n",
    "However, there are two main reasons you should not use dropout to test data:\n",
    "\n",
    "- Dropout makes neurons output 'wrong' values on purpose\n",
    "\n",
    "- Because you disable neurons randomly, your network will have different outputs every (sequences of) activation. \n",
    "This undermines consistency.\n",
    "\"\n"
   ]
  },
  {
   "cell_type": "code",
   "execution_count": null,
   "metadata": {},
   "outputs": [],
   "source": []
  },
  {
   "cell_type": "code",
   "execution_count": 557,
   "metadata": {},
   "outputs": [],
   "source": [
    "model_dict['gru_fasttext'] = model\n"
   ]
  },
  {
   "cell_type": "code",
   "execution_count": null,
   "metadata": {},
   "outputs": [],
   "source": []
  },
  {
   "cell_type": "code",
   "execution_count": 419,
   "metadata": {},
   "outputs": [
    {
     "data": {
      "image/png": "[encoded data removed]",
      "text/plain": [
       "<Figure size 432x288 with 1 Axes>"
      ]
     },
     "metadata": {
      "needs_background": "light"
     },
     "output_type": "display_data"
    }
   ],
   "source": [
    "plt.hist(y_valid, \n",
    "         bins=12,\n",
    "        )\n",
    "\n",
    "plt.xlabel(\"Novel class\")\n",
    "plt.ylabel(\"Number of validation samples\")\n",
    "plt.title(\"Novel class distribution\")\n",
    "plt.show()\n"
   ]
  },
  {
   "cell_type": "code",
   "execution_count": null,
   "metadata": {},
   "outputs": [],
   "source": []
  },
  {
   "cell_type": "markdown",
   "metadata": {},
   "source": [
    "#### Plot validation performance\n"
   ]
  },
  {
   "cell_type": "code",
   "execution_count": 558,
   "metadata": {},
   "outputs": [],
   "source": [
    "y_pred_val = model.predict_classes(x_valid_seq)\n"
   ]
  },
  {
   "cell_type": "code",
   "execution_count": 559,
   "metadata": {},
   "outputs": [
    {
     "data": {
      "image/png": "[encoded data removed]",
      "text/plain": [
       "<Figure size 576x576 with 2 Axes>"
      ]
     },
     "metadata": {
      "needs_background": "light"
     },
     "output_type": "display_data"
    }
   ],
   "source": [
    "plot_confusion_matrix(y_valid, y_pred_val)\n"
   ]
  },
  {
   "cell_type": "code",
   "execution_count": 560,
   "metadata": {},
   "outputs": [
    {
     "name": "stdout",
     "output_type": "stream",
     "text": [
      "              precision    recall  f1-score   support\n",
      "\n",
      "           0       0.83      0.70      0.76        98\n",
      "           1       0.78      0.55      0.65       678\n",
      "           2       0.85      0.45      0.59       282\n",
      "           3       0.57      0.79      0.66       819\n",
      "           4       0.89      0.68      0.77       460\n",
      "           5       0.94      0.80      0.86       469\n",
      "           6       0.64      0.72      0.68       841\n",
      "           7       0.72      0.81      0.76       965\n",
      "           8       0.78      0.84      0.81       742\n",
      "           9       0.89      0.17      0.29       187\n",
      "          10       0.41      0.51      0.46       658\n",
      "          11       0.71      0.50      0.59       304\n",
      "\n",
      "    accuracy                           0.68      6503\n",
      "   macro avg       0.75      0.63      0.66      6503\n",
      "weighted avg       0.71      0.68      0.68      6503\n",
      "\n"
     ]
    }
   ],
   "source": [
    "print(classification_report(y_valid, y_pred_val))\n"
   ]
  },
  {
   "cell_type": "code",
   "execution_count": null,
   "metadata": {},
   "outputs": [],
   "source": []
  },
  {
   "cell_type": "code",
   "execution_count": null,
   "metadata": {},
   "outputs": [],
   "source": []
  },
  {
   "cell_type": "markdown",
   "metadata": {},
   "source": [
    "#### Save the model\n"
   ]
  },
  {
   "cell_type": "code",
   "execution_count": 342,
   "metadata": {},
   "outputs": [],
   "source": [
    "model_dict['gru_fasttext'].save('gru_fasttext_{}.h5'.format(epochs))\n"
   ]
  },
  {
   "cell_type": "code",
   "execution_count": null,
   "metadata": {},
   "outputs": [],
   "source": []
  },
  {
   "cell_type": "markdown",
   "metadata": {},
   "source": [
    "### CNN\n",
    "\n",
    "\n",
    "**Reference**\n",
    "\n",
    "* How to Develop a Multichannel CNN Model for Text Classification\n",
    "\n",
    "\n",
    "https://machinelearningmastery.com/develop-n-gram-multichannel-convolutional-neural-network-sentiment-analysis/\n",
    "\n",
    "https://www.kaggle.com/kmader/character-level-cnn-classification-with-dilations\n",
    "\n",
    "https://machinelearningmastery.com/best-practices-document-classification-deep-learning/\n",
    "\n"
   ]
  },
  {
   "attachments": {
    "Depiction-of-the-multiple-channel-convolutional-neural-network-for-text.png": {
     "image/png": "[encoded data removed]"
    }
   },
   "cell_type": "markdown",
   "metadata": {},
   "source": [
    "![Depiction-of-the-multiple-channel-convolutional-neural-network-for-text.png](attachment:Depiction-of-the-multiple-channel-convolutional-neural-network-for-text.png)\n"
   ]
  },
  {
   "cell_type": "markdown",
   "metadata": {},
   "source": [
    "Depiction of the multiple-channel convolutional neural network for text.\n",
    "Taken from “Convolutional Neural Networks for Sentence Classification.”\n",
    "\n",
    "\n",
    "\n",
    "\"\n",
    "A standard model for document classification is to use an Embedding layer as input, followed by a one-dimensional convolutional neural network, pooling layer, and then a prediction output layer.\n",
    "\n",
    "The kernel size in the convolutional layer defines the number of words to consider as the convolution is passed across the input text document, providing a grouping parameter.\n",
    "\"\n",
    "\n",
    "https://machinelearningmastery.com/develop-n-gram-multichannel-convolutional-neural-network-sentiment-analysis/\n",
    "\n",
    "\n"
   ]
  },
  {
   "cell_type": "code",
   "execution_count": null,
   "metadata": {},
   "outputs": [],
   "source": []
  },
  {
   "cell_type": "markdown",
   "metadata": {},
   "source": [
    "#### Define the model\n"
   ]
  },
  {
   "cell_type": "code",
   "execution_count": 541,
   "metadata": {},
   "outputs": [],
   "source": [
    "def define_cnn_model(word_index, \n",
    "                     max_sent_len,\n",
    "                     embedding_matrix,\n",
    "                     embedding_size=0,\n",
    "                     n_classes=12,\n",
    "                    ):\n",
    "    model = Sequential()\n",
    "    \n",
    "    if embedding_matrix is None:\n",
    "        model.add(Embedding(len(word_index) + 1, \n",
    "                            embedding_size, \n",
    "                            input_length=max_sent_len,\n",
    "                           ))\n",
    "    else:\n",
    "        model.add(Embedding(len(word_index) + 1,\n",
    "                             embedding_matrix.shape[1],\n",
    "                             weights=[embedding_matrix],\n",
    "                             input_length=max_sent_len,\n",
    "                             trainable=False))\n",
    "    model.add(Dropout(0.3))\n",
    "\n",
    "    # add a Convolution1D, which will learn filters\n",
    "    # word group filters of size filter_length:\n",
    "    model.add(Conv1D(64,\n",
    "                     5,\n",
    "                     activation='relu'))\n",
    "    model.add(MaxPooling1D(5))\n",
    "    model.add(BatchNormalization())\n",
    "    model.add(Conv1D(128,\n",
    "                     5,\n",
    "                     activation='relu'))\n",
    "    model.add(MaxPooling1D(5))\n",
    "    model.add(BatchNormalization())\n",
    "    #model.add(Conv1D(256,\n",
    "    #                 5,\n",
    "    #                 activation='relu'))\n",
    "    #model.add(BatchNormalization())\n",
    "    #model.add(MaxPooling1D(3))\n",
    "    #model.add(BatchNormalization())\n",
    "    model.add(Flatten())\n",
    "    model.add(Dense(64, activation='relu'))\n",
    "    model.add(Dropout(0.5))\n",
    "\n",
    "    model.add(Dense(n_classes, activation='softmax'))\n",
    "\n",
    "    model.compile(loss='categorical_crossentropy',\n",
    "                  optimizer='adam',\n",
    "                  metrics=['acc'])\n",
    "    \n",
    "    return model\n",
    "    \n",
    "    "
   ]
  },
  {
   "cell_type": "code",
   "execution_count": null,
   "metadata": {},
   "outputs": [],
   "source": []
  },
  {
   "cell_type": "markdown",
   "metadata": {},
   "source": [
    "* TODO: \n",
    "\n",
    "multi-channel convolutional neural network\n",
    "\n",
    "https://machinelearningmastery.com/develop-n-gram-multichannel-convolutional-neural-network-sentiment-analysis/\n",
    "\n",
    "\"\n",
    "A multi-channel convolutional neural network for document classification involves using multiple versions of the standard model with different sized kernels. This allows the document to be processed at different resolutions or different n-grams (groups of words) at a time, whilst the model learns how to best integrate these interpretations.\n",
    "\"\n",
    "\n",
    "def define_model(length, vocab_size):\n",
    "\t# channel 1\n",
    "\tinputs1 = Input(shape=(length,))\n",
    "\tembedding1 = Embedding(vocab_size, 100)(inputs1)\n",
    "\tconv1 = Conv1D(filters=32, kernel_size=4, activation='relu')(embedding1)\n",
    "\tdrop1 = Dropout(0.5)(conv1)\n",
    "\tpool1 = MaxPooling1D(pool_size=2)(drop1)\n",
    "\tflat1 = Flatten()(pool1)\n",
    "\t# channel 2\n",
    "\tinputs2 = Input(shape=(length,))\n",
    "\tembedding2 = Embedding(vocab_size, 100)(inputs2)\n",
    "\tconv2 = Conv1D(filters=32, kernel_size=6, activation='relu')(embedding2)\n",
    "\tdrop2 = Dropout(0.5)(conv2)\n",
    "\tpool2 = MaxPooling1D(pool_size=2)(drop2)\n",
    "\tflat2 = Flatten()(pool2)\n",
    "\t# channel 3\n",
    "\tinputs3 = Input(shape=(length,))\n",
    "\tembedding3 = Embedding(vocab_size, 100)(inputs3)\n",
    "\tconv3 = Conv1D(filters=32, kernel_size=8, activation='relu')(embedding3)\n",
    "\tdrop3 = Dropout(0.5)(conv3)\n",
    "\tpool3 = MaxPooling1D(pool_size=2)(drop3)\n",
    "\tflat3 = Flatten()(pool3)\n",
    "\t# merge\n",
    "\tmerged = concatenate([flat1, flat2, flat3])\n",
    "\t# interpretation\n",
    "\tdense1 = Dense(10, activation='relu')(merged)\n",
    "\toutputs = Dense(1, activation='sigmoid')(dense1)\n",
    "\tmodel = Model(inputs=[inputs1, inputs2, inputs3], outputs=outputs)\n",
    "\t# compile\n",
    "\tmodel.compile(loss='binary_crossentropy', optimizer='adam', metrics=['accuracy'])\n",
    "\t# summarize\n",
    "\tprint(model.summary())\n",
    "\tplot_model(model, show_shapes=True, to_file='multichannel.png')\n",
    "\treturn model\n",
    "    "
   ]
  },
  {
   "cell_type": "code",
   "execution_count": null,
   "metadata": {},
   "outputs": [],
   "source": []
  },
  {
   "cell_type": "markdown",
   "metadata": {},
   "source": [
    "#### Train the model\n"
   ]
  },
  {
   "cell_type": "code",
   "execution_count": 542,
   "metadata": {},
   "outputs": [
    {
     "name": "stdout",
     "output_type": "stream",
     "text": [
      "Epoch 1/60\n",
      "813/813 [==============================] - 97s 120ms/step - loss: 2.3381 - acc: 0.1732 - val_loss: 2.2006 - val_acc: 0.1916\n",
      "Epoch 2/60\n",
      "813/813 [==============================] - 101s 124ms/step - loss: 2.1300 - acc: 0.2396 - val_loss: 2.3044 - val_acc: 0.2288\n",
      "Epoch 3/60\n",
      "813/813 [==============================] - 85s 104ms/step - loss: 1.9358 - acc: 0.3209 - val_loss: 1.7205 - val_acc: 0.3961\n",
      "Epoch 4/60\n",
      "813/813 [==============================] - 76s 93ms/step - loss: 1.7608 - acc: 0.3875 - val_loss: 1.8351 - val_acc: 0.3794\n",
      "Epoch 5/60\n",
      "813/813 [==============================] - 71s 88ms/step - loss: 1.6070 - acc: 0.4396 - val_loss: 3.4314 - val_acc: 0.3109\n",
      "Epoch 6/60\n",
      "813/813 [==============================] - 70s 86ms/step - loss: 1.5019 - acc: 0.4745 - val_loss: 1.7424 - val_acc: 0.4237\n",
      "Epoch 7/60\n",
      "813/813 [==============================] - 70s 86ms/step - loss: 1.4224 - acc: 0.5026 - val_loss: 1.8095 - val_acc: 0.4283\n",
      "Epoch 8/60\n",
      "813/813 [==============================] - 69s 85ms/step - loss: 1.3354 - acc: 0.5346 - val_loss: 1.6642 - val_acc: 0.4338\n",
      "Epoch 9/60\n",
      "813/813 [==============================] - 69s 85ms/step - loss: 1.2620 - acc: 0.5628 - val_loss: 1.4286 - val_acc: 0.5061\n",
      "Epoch 10/60\n",
      "813/813 [==============================] - 71s 88ms/step - loss: 1.2026 - acc: 0.5792 - val_loss: 1.4534 - val_acc: 0.5256\n",
      "Epoch 11/60\n",
      "813/813 [==============================] - 73s 90ms/step - loss: 1.1262 - acc: 0.6070 - val_loss: 1.5149 - val_acc: 0.5135\n",
      "Epoch 12/60\n",
      "813/813 [==============================] - 98s 121ms/step - loss: 1.0658 - acc: 0.6278 - val_loss: 1.3155 - val_acc: 0.5544\n",
      "Epoch 13/60\n",
      "813/813 [==============================] - 100s 124ms/step - loss: 1.0153 - acc: 0.6421 - val_loss: 1.3965 - val_acc: 0.5462\n",
      "Epoch 14/60\n",
      "813/813 [==============================] - 94s 115ms/step - loss: 0.9653 - acc: 0.6607 - val_loss: 1.4420 - val_acc: 0.5456\n",
      "Epoch 15/60\n",
      "813/813 [==============================] - 86s 105ms/step - loss: 0.9329 - acc: 0.6733 - val_loss: 1.3847 - val_acc: 0.5711\n",
      "Epoch 16/60\n",
      "813/813 [==============================] - 87s 107ms/step - loss: 0.8898 - acc: 0.6890 - val_loss: 1.3376 - val_acc: 0.5885\n",
      "Epoch 17/60\n",
      "813/813 [==============================] - 81s 99ms/step - loss: 0.8509 - acc: 0.6989 - val_loss: 1.3377 - val_acc: 0.5971\n",
      "Epoch 18/60\n",
      "813/813 [==============================] - 90s 110ms/step - loss: 0.8090 - acc: 0.7168 - val_loss: 1.3607 - val_acc: 0.5819\n",
      "Epoch 19/60\n",
      "813/813 [==============================] - 81s 100ms/step - loss: 0.7790 - acc: 0.7255 - val_loss: 1.4903 - val_acc: 0.5799\n",
      "Epoch 20/60\n",
      "813/813 [==============================] - 88s 108ms/step - loss: 0.7598 - acc: 0.7277 - val_loss: 1.4960 - val_acc: 0.5842\n",
      "Epoch 21/60\n",
      "813/813 [==============================] - 88s 108ms/step - loss: 0.7297 - acc: 0.7411 - val_loss: 1.3015 - val_acc: 0.6102\n",
      "Epoch 22/60\n",
      "813/813 [==============================] - 86s 106ms/step - loss: 0.7029 - acc: 0.7530 - val_loss: 1.4300 - val_acc: 0.5863\n",
      "Epoch 23/60\n",
      "813/813 [==============================] - 89s 109ms/step - loss: 0.6858 - acc: 0.7584 - val_loss: 1.4942 - val_acc: 0.5850\n",
      "Epoch 24/60\n",
      "813/813 [==============================] - 108s 133ms/step - loss: 0.6592 - acc: 0.7663 - val_loss: 1.7847 - val_acc: 0.5556\n",
      "Epoch 25/60\n",
      "813/813 [==============================] - 98s 120ms/step - loss: 0.6438 - acc: 0.7727 - val_loss: 1.3172 - val_acc: 0.6073\n",
      "Epoch 26/60\n",
      "813/813 [==============================] - 84s 104ms/step - loss: 0.6330 - acc: 0.7795 - val_loss: 1.6692 - val_acc: 0.5842\n",
      "Epoch 27/60\n",
      "813/813 [==============================] - 86s 106ms/step - loss: 0.6062 - acc: 0.7845 - val_loss: 1.5259 - val_acc: 0.5925\n",
      "Epoch 28/60\n",
      "813/813 [==============================] - 86s 106ms/step - loss: 0.5928 - acc: 0.7870 - val_loss: 2.2724 - val_acc: 0.5468\n",
      "Epoch 29/60\n",
      "813/813 [==============================] - 91s 112ms/step - loss: 0.5808 - acc: 0.7953 - val_loss: 1.5965 - val_acc: 0.5825\n",
      "Epoch 30/60\n",
      "813/813 [==============================] - 87s 107ms/step - loss: 0.5560 - acc: 0.8022 - val_loss: 1.6511 - val_acc: 0.5942\n",
      "Epoch 31/60\n",
      "813/813 [==============================] - 84s 103ms/step - loss: 0.5573 - acc: 0.8027 - val_loss: 1.7164 - val_acc: 0.5983\n",
      "Epoch 32/60\n",
      "813/813 [==============================] - 79s 98ms/step - loss: 0.5386 - acc: 0.8080 - val_loss: 1.8590 - val_acc: 0.5899\n",
      "Epoch 33/60\n",
      "813/813 [==============================] - 82s 101ms/step - loss: 0.5316 - acc: 0.8136 - val_loss: 1.6102 - val_acc: 0.6071\n",
      "Epoch 34/60\n",
      "813/813 [==============================] - 99s 122ms/step - loss: 0.5223 - acc: 0.8162 - val_loss: 1.5101 - val_acc: 0.6070\n",
      "Epoch 35/60\n",
      "813/813 [==============================] - 87s 107ms/step - loss: 0.5122 - acc: 0.8176 - val_loss: 1.8599 - val_acc: 0.5970\n",
      "Epoch 36/60\n",
      "813/813 [==============================] - 88s 109ms/step - loss: 0.4945 - acc: 0.8246 - val_loss: 2.0120 - val_acc: 0.5916\n",
      "Epoch 37/60\n",
      "813/813 [==============================] - 86s 106ms/step - loss: 0.5011 - acc: 0.8232 - val_loss: 2.0292 - val_acc: 0.5879\n",
      "Epoch 38/60\n",
      "813/813 [==============================] - 85s 105ms/step - loss: 0.4845 - acc: 0.8274 - val_loss: 2.0253 - val_acc: 0.5768\n",
      "Epoch 39/60\n",
      "813/813 [==============================] - 81s 99ms/step - loss: 0.4726 - acc: 0.8337 - val_loss: 1.6576 - val_acc: 0.6042\n",
      "Epoch 40/60\n",
      "813/813 [==============================] - 79s 98ms/step - loss: 0.4765 - acc: 0.8312 - val_loss: 1.9674 - val_acc: 0.5968\n",
      "Epoch 41/60\n",
      "813/813 [==============================] - 86s 106ms/step - loss: 0.4700 - acc: 0.8335 - val_loss: 1.8117 - val_acc: 0.5977\n",
      "Epoch 42/60\n",
      "813/813 [==============================] - 88s 109ms/step - loss: 0.4462 - acc: 0.8419 - val_loss: 1.6892 - val_acc: 0.6103\n",
      "Epoch 43/60\n",
      "813/813 [==============================] - 84s 104ms/step - loss: 0.4491 - acc: 0.8428 - val_loss: 2.0340 - val_acc: 0.5541\n",
      "Epoch 44/60\n",
      "813/813 [==============================] - 79s 98ms/step - loss: 0.4502 - acc: 0.8420 - val_loss: 1.5950 - val_acc: 0.6186\n",
      "Epoch 45/60\n",
      "813/813 [==============================] - 70s 86ms/step - loss: 0.4420 - acc: 0.8468 - val_loss: 1.7125 - val_acc: 0.6093\n",
      "Epoch 46/60\n",
      "813/813 [==============================] - 71s 87ms/step - loss: 0.4270 - acc: 0.8501 - val_loss: 1.7317 - val_acc: 0.6140\n",
      "Epoch 47/60\n",
      "813/813 [==============================] - 70s 86ms/step - loss: 0.4100 - acc: 0.8522 - val_loss: 1.8543 - val_acc: 0.6076\n",
      "Epoch 48/60\n",
      "813/813 [==============================] - 81s 99ms/step - loss: 0.4174 - acc: 0.8542 - val_loss: 1.7441 - val_acc: 0.6099\n",
      "Epoch 49/60\n",
      "813/813 [==============================] - 73s 90ms/step - loss: 0.3963 - acc: 0.8577 - val_loss: 1.8299 - val_acc: 0.6185\n",
      "Epoch 50/60\n",
      "813/813 [==============================] - 69s 85ms/step - loss: 0.4037 - acc: 0.8578 - val_loss: 2.2898 - val_acc: 0.5796\n",
      "Epoch 51/60\n",
      "813/813 [==============================] - 72s 89ms/step - loss: 0.3929 - acc: 0.8624 - val_loss: 1.7935 - val_acc: 0.6102\n",
      "Epoch 52/60\n",
      "813/813 [==============================] - 76s 93ms/step - loss: 0.3833 - acc: 0.8649 - val_loss: 1.8561 - val_acc: 0.6054\n",
      "Epoch 53/60\n",
      "813/813 [==============================] - 108s 133ms/step - loss: 0.3895 - acc: 0.8630 - val_loss: 2.0772 - val_acc: 0.6037\n",
      "Epoch 54/60\n",
      "813/813 [==============================] - 92s 113ms/step - loss: 0.3872 - acc: 0.8651 - val_loss: 2.1866 - val_acc: 0.5936\n",
      "Epoch 55/60\n",
      "813/813 [==============================] - 87s 106ms/step - loss: 0.3916 - acc: 0.8629 - val_loss: 1.8708 - val_acc: 0.6143\n",
      "Epoch 56/60\n",
      "813/813 [==============================] - 78s 95ms/step - loss: 0.3804 - acc: 0.8662 - val_loss: 1.8660 - val_acc: 0.6165\n",
      "Epoch 57/60\n",
      "813/813 [==============================] - 85s 105ms/step - loss: 0.3560 - acc: 0.8751 - val_loss: 1.8372 - val_acc: 0.6251\n",
      "Epoch 58/60\n",
      "813/813 [==============================] - 101s 125ms/step - loss: 0.3702 - acc: 0.8721 - val_loss: 1.7965 - val_acc: 0.6133\n",
      "Epoch 59/60\n",
      "813/813 [==============================] - 126s 155ms/step - loss: 0.3757 - acc: 0.8693 - val_loss: 1.8793 - val_acc: 0.6114\n",
      "Epoch 60/60\n",
      "813/813 [==============================] - 127s 156ms/step - loss: 0.3556 - acc: 0.8766 - val_loss: 1.8658 - val_acc: 0.6136\n"
     ]
    }
   ],
   "source": [
    "\n",
    "model = define_cnn_model(word_index=word_index, \n",
    "                         max_sent_len=max_sent_len,\n",
    "                         embedding_matrix=fasttext_embedding_matrix,\n",
    "                        )\n",
    "\n",
    "#earlystop = EarlyStopping(monitor='val_loss', min_delta=0, patience=3, verbose=0, mode='auto')\n",
    "history = model.fit(x=x_train_seq, \n",
    "                    y=y_train_en, \n",
    "                    batch_size=batch_size, \n",
    "                    epochs=epochs, \n",
    "                    verbose=1, \n",
    "                    validation_data=(x_valid_seq, y_valid_en),\n",
    "                    #callbacks=[earlystop],\n",
    "                   )\n",
    "\n",
    "\n"
   ]
  },
  {
   "cell_type": "code",
   "execution_count": 543,
   "metadata": {},
   "outputs": [
    {
     "name": "stdout",
     "output_type": "stream",
     "text": [
      "Model: \"sequential_52\"\n",
      "_________________________________________________________________\n",
      "Layer (type)                 Output Shape              Param #   \n",
      "=================================================================\n",
      "embedding_60 (Embedding)     (None, 452, 300)          8100      \n",
      "_________________________________________________________________\n",
      "dropout_69 (Dropout)         (None, 452, 300)          0         \n",
      "_________________________________________________________________\n",
      "conv1d_45 (Conv1D)           (None, 448, 64)           96064     \n",
      "_________________________________________________________________\n",
      "max_pooling1d_45 (MaxPooling (None, 89, 64)            0         \n",
      "_________________________________________________________________\n",
      "batch_normalization_31 (Batc (None, 89, 64)            256       \n",
      "_________________________________________________________________\n",
      "conv1d_46 (Conv1D)           (None, 85, 128)           41088     \n",
      "_________________________________________________________________\n",
      "max_pooling1d_46 (MaxPooling (None, 17, 128)           0         \n",
      "_________________________________________________________________\n",
      "batch_normalization_32 (Batc (None, 17, 128)           512       \n",
      "_________________________________________________________________\n",
      "flatten_13 (Flatten)         (None, 2176)              0         \n",
      "_________________________________________________________________\n",
      "dense_122 (Dense)            (None, 64)                139328    \n",
      "_________________________________________________________________\n",
      "dropout_70 (Dropout)         (None, 64)                0         \n",
      "_________________________________________________________________\n",
      "dense_123 (Dense)            (None, 12)                780       \n",
      "=================================================================\n",
      "Total params: 286,128\n",
      "Trainable params: 277,644\n",
      "Non-trainable params: 8,484\n",
      "_________________________________________________________________\n"
     ]
    }
   ],
   "source": [
    "model.summary()\n"
   ]
  },
  {
   "cell_type": "code",
   "execution_count": 544,
   "metadata": {},
   "outputs": [
    {
     "data": {
      "image/png": "[encoded data removed]",
      "text/plain": [
       "<Figure size 432x288 with 2 Axes>"
      ]
     },
     "metadata": {
      "needs_background": "light"
     },
     "output_type": "display_data"
    }
   ],
   "source": [
    "plot_learning_curves(history)\n"
   ]
  },
  {
   "cell_type": "code",
   "execution_count": 545,
   "metadata": {},
   "outputs": [],
   "source": [
    "model_dict['cnn_fasttext'] = model\n"
   ]
  },
  {
   "cell_type": "code",
   "execution_count": null,
   "metadata": {},
   "outputs": [],
   "source": []
  },
  {
   "cell_type": "markdown",
   "metadata": {},
   "source": [
    "#### Plot validation performance\n"
   ]
  },
  {
   "cell_type": "code",
   "execution_count": 546,
   "metadata": {},
   "outputs": [],
   "source": [
    "y_pred_val = model.predict_classes(x_valid_seq)\n"
   ]
  },
  {
   "cell_type": "code",
   "execution_count": 547,
   "metadata": {},
   "outputs": [
    {
     "data": {
      "image/png": "[encoded data removed]",
      "text/plain": [
       "<Figure size 576x576 with 2 Axes>"
      ]
     },
     "metadata": {
      "needs_background": "light"
     },
     "output_type": "display_data"
    }
   ],
   "source": [
    "plot_confusion_matrix(y_valid, y_pred_val)\n"
   ]
  },
  {
   "cell_type": "code",
   "execution_count": 548,
   "metadata": {},
   "outputs": [
    {
     "name": "stdout",
     "output_type": "stream",
     "text": [
      "              precision    recall  f1-score   support\n",
      "\n",
      "           0       0.66      0.56      0.61        98\n",
      "           1       0.56      0.62      0.59       678\n",
      "           2       0.39      0.55      0.45       282\n",
      "           3       0.61      0.59      0.60       819\n",
      "           4       0.77      0.64      0.70       460\n",
      "           5       0.76      0.90      0.82       469\n",
      "           6       0.59      0.67      0.63       841\n",
      "           7       0.72      0.69      0.71       965\n",
      "           8       0.84      0.69      0.76       742\n",
      "           9       0.27      0.36      0.31       187\n",
      "          10       0.46      0.37      0.41       658\n",
      "          11       0.37      0.35      0.36       304\n",
      "\n",
      "    accuracy                           0.61      6503\n",
      "   macro avg       0.58      0.58      0.58      6503\n",
      "weighted avg       0.62      0.61      0.61      6503\n",
      "\n"
     ]
    }
   ],
   "source": [
    "print(classification_report(y_valid, y_pred_val))\n"
   ]
  },
  {
   "cell_type": "code",
   "execution_count": null,
   "metadata": {},
   "outputs": [],
   "source": []
  },
  {
   "cell_type": "markdown",
   "metadata": {},
   "source": [
    "#### Save the model\n"
   ]
  },
  {
   "cell_type": "code",
   "execution_count": 549,
   "metadata": {},
   "outputs": [],
   "source": [
    "model_dict['cnn_fasttext'].save('cnn_fasttext_{}.h5'.format(epochs))\n"
   ]
  },
  {
   "cell_type": "code",
   "execution_count": null,
   "metadata": {},
   "outputs": [],
   "source": []
  },
  {
   "cell_type": "markdown",
   "metadata": {},
   "source": [
    "### CNN + GRU\n",
    "\n",
    "\n",
    "**Reference**\n",
    "\n",
    "* Tackling Toxic Problem with Char-Gram+CNN+LSTM\n",
    "\n",
    "https://www.kaggle.com/sbongo/tackling-toxic-problem-with-char-gram-cnn-lstm\n"
   ]
  },
  {
   "cell_type": "markdown",
   "metadata": {},
   "source": [
    "#### Define the model\n"
   ]
  },
  {
   "cell_type": "code",
   "execution_count": 561,
   "metadata": {},
   "outputs": [],
   "source": [
    "def define_cnn_gru_model(word_index, \n",
    "                         max_sent_len,\n",
    "                         embedding_matrix,\n",
    "                         embedding_size=0,\n",
    "                         n_classes=12,\n",
    "                         ):\n",
    "    \n",
    "    inp = Input(shape=(max_sent_len, ))\n",
    "    \n",
    "    if embedding_matrix is None:\n",
    "        x = Embedding(len(word_index)+1, embedding_size)(inp)\n",
    "        \n",
    "    else:\n",
    "        x = Embedding(len(word_index) + 1,\n",
    "                      embedding_matrix.shape[1],\n",
    "                      weights=[embedding_matrix],\n",
    "                      input_length=max_sent_len,\n",
    "                      trainable=False)(inp)\n",
    "        \n",
    "    x = Conv1D(filters=100, kernel_size=4, padding='same', activation='relu')(x)\n",
    "    x = MaxPooling1D(pool_size=4)(x)\n",
    "    x = Bidirectional(GRU(60, return_sequences=True, name='lstm_layer', dropout=0.2, recurrent_dropout=0.2))(x)\n",
    "    x = GlobalMaxPool1D()(x)\n",
    "    x = Dense(50, activation=\"relu\")(x)\n",
    "    x = Dropout(0.2)(x)\n",
    "    x = Dense(n_classes, activation=\"sigmoid\")(x)\n",
    "    \n",
    "    model = Model(inputs=inp, outputs=x)\n",
    "    model.compile(loss='categorical_crossentropy',\n",
    "                  optimizer='adam',\n",
    "                  metrics=['accuracy'],\n",
    "                 )\n",
    "    \n",
    "    return model\n",
    "    "
   ]
  },
  {
   "cell_type": "code",
   "execution_count": null,
   "metadata": {},
   "outputs": [],
   "source": []
  },
  {
   "cell_type": "markdown",
   "metadata": {},
   "source": [
    "#### Train the model\n"
   ]
  },
  {
   "cell_type": "code",
   "execution_count": 562,
   "metadata": {},
   "outputs": [
    {
     "name": "stdout",
     "output_type": "stream",
     "text": [
      "Epoch 1/60\n",
      "813/813 [==============================] - 197s 242ms/step - loss: 2.3428 - accuracy: 0.1575 - val_loss: 2.3021 - val_accuracy: 0.1608\n",
      "Epoch 2/60\n",
      "813/813 [==============================] - 179s 221ms/step - loss: 1.9772 - accuracy: 0.2835 - val_loss: 1.5645 - val_accuracy: 0.4070\n",
      "Epoch 3/60\n",
      "813/813 [==============================] - 180s 222ms/step - loss: 1.5350 - accuracy: 0.4333 - val_loss: 1.4064 - val_accuracy: 0.4833\n",
      "Epoch 4/60\n",
      "813/813 [==============================] - 181s 222ms/step - loss: 1.4334 - accuracy: 0.4849 - val_loss: 1.3327 - val_accuracy: 0.5142\n",
      "Epoch 5/60\n",
      "813/813 [==============================] - 178s 219ms/step - loss: 1.3506 - accuracy: 0.5124 - val_loss: 1.2525 - val_accuracy: 0.5436\n",
      "Epoch 6/60\n",
      "813/813 [==============================] - 179s 221ms/step - loss: 1.2734 - accuracy: 0.5439 - val_loss: 1.2027 - val_accuracy: 0.5634\n",
      "Epoch 7/60\n",
      "813/813 [==============================] - 181s 223ms/step - loss: 1.2132 - accuracy: 0.5669 - val_loss: 1.1293 - val_accuracy: 0.5919\n",
      "Epoch 8/60\n",
      "813/813 [==============================] - 180s 222ms/step - loss: 1.1575 - accuracy: 0.5902 - val_loss: 1.0749 - val_accuracy: 0.6096\n",
      "Epoch 9/60\n",
      "813/813 [==============================] - 182s 224ms/step - loss: 1.1080 - accuracy: 0.6072 - val_loss: 1.0315 - val_accuracy: 0.6240\n",
      "Epoch 10/60\n",
      "813/813 [==============================] - 180s 221ms/step - loss: 1.0631 - accuracy: 0.6248 - val_loss: 0.9899 - val_accuracy: 0.6465\n",
      "Epoch 11/60\n",
      "813/813 [==============================] - 180s 221ms/step - loss: 1.0145 - accuracy: 0.6378 - val_loss: 0.9952 - val_accuracy: 0.6466\n",
      "Epoch 12/60\n",
      "813/813 [==============================] - 181s 222ms/step - loss: 0.9903 - accuracy: 0.6501 - val_loss: 0.9129 - val_accuracy: 0.6662\n",
      "Epoch 13/60\n",
      "813/813 [==============================] - 180s 221ms/step - loss: 0.9602 - accuracy: 0.6590 - val_loss: 0.8988 - val_accuracy: 0.6722\n",
      "Epoch 14/60\n",
      "813/813 [==============================] - 181s 222ms/step - loss: 0.9353 - accuracy: 0.6705 - val_loss: 0.8687 - val_accuracy: 0.6841\n",
      "Epoch 15/60\n",
      "813/813 [==============================] - 181s 223ms/step - loss: 0.9123 - accuracy: 0.6760 - val_loss: 0.8550 - val_accuracy: 0.6915\n",
      "Epoch 16/60\n",
      "813/813 [==============================] - 179s 220ms/step - loss: 0.8946 - accuracy: 0.6845 - val_loss: 0.8578 - val_accuracy: 0.6952\n",
      "Epoch 17/60\n",
      "813/813 [==============================] - 179s 220ms/step - loss: 0.8723 - accuracy: 0.6947 - val_loss: 0.8441 - val_accuracy: 0.7011\n",
      "Epoch 18/60\n",
      "813/813 [==============================] - 179s 221ms/step - loss: 0.8553 - accuracy: 0.6970 - val_loss: 0.7963 - val_accuracy: 0.7129\n",
      "Epoch 19/60\n",
      "813/813 [==============================] - 180s 221ms/step - loss: 0.8362 - accuracy: 0.7102 - val_loss: 0.8008 - val_accuracy: 0.7183\n",
      "Epoch 20/60\n",
      "813/813 [==============================] - 181s 223ms/step - loss: 0.8299 - accuracy: 0.7087 - val_loss: 0.7759 - val_accuracy: 0.7260\n",
      "Epoch 21/60\n",
      "813/813 [==============================] - 182s 223ms/step - loss: 0.8084 - accuracy: 0.7177 - val_loss: 0.7729 - val_accuracy: 0.7286\n",
      "Epoch 22/60\n",
      "813/813 [==============================] - 185s 227ms/step - loss: 0.7981 - accuracy: 0.7215 - val_loss: 0.7571 - val_accuracy: 0.7326\n",
      "Epoch 23/60\n",
      "813/813 [==============================] - 178s 218ms/step - loss: 0.7905 - accuracy: 0.7256 - val_loss: 0.7534 - val_accuracy: 0.7346\n",
      "Epoch 24/60\n",
      "813/813 [==============================] - 180s 222ms/step - loss: 0.7745 - accuracy: 0.7294 - val_loss: 0.7517 - val_accuracy: 0.7361\n",
      "Epoch 25/60\n",
      "813/813 [==============================] - 177s 218ms/step - loss: 0.7597 - accuracy: 0.7317 - val_loss: 0.7486 - val_accuracy: 0.7360\n",
      "Epoch 26/60\n",
      "813/813 [==============================] - 179s 220ms/step - loss: 0.7573 - accuracy: 0.7328 - val_loss: 0.7277 - val_accuracy: 0.7432\n",
      "Epoch 27/60\n",
      "813/813 [==============================] - 180s 221ms/step - loss: 0.7490 - accuracy: 0.7392 - val_loss: 0.7285 - val_accuracy: 0.7418\n",
      "Epoch 28/60\n",
      "813/813 [==============================] - 177s 218ms/step - loss: 0.7394 - accuracy: 0.7399 - val_loss: 0.7293 - val_accuracy: 0.7423\n",
      "Epoch 29/60\n",
      "813/813 [==============================] - 177s 218ms/step - loss: 0.7345 - accuracy: 0.7438 - val_loss: 0.7149 - val_accuracy: 0.7513\n",
      "Epoch 30/60\n",
      "813/813 [==============================] - 178s 219ms/step - loss: 0.7281 - accuracy: 0.7486 - val_loss: 0.7102 - val_accuracy: 0.7547\n",
      "Epoch 31/60\n",
      "813/813 [==============================] - 179s 220ms/step - loss: 0.7210 - accuracy: 0.7471 - val_loss: 0.6986 - val_accuracy: 0.7578\n",
      "Epoch 32/60\n",
      "813/813 [==============================] - 177s 218ms/step - loss: 0.7100 - accuracy: 0.7489 - val_loss: 0.6998 - val_accuracy: 0.7581\n",
      "Epoch 33/60\n",
      "813/813 [==============================] - 177s 218ms/step - loss: 0.7048 - accuracy: 0.7532 - val_loss: 0.6848 - val_accuracy: 0.7595\n",
      "Epoch 34/60\n",
      "813/813 [==============================] - 177s 217ms/step - loss: 0.7002 - accuracy: 0.7544 - val_loss: 0.6904 - val_accuracy: 0.7590\n",
      "Epoch 35/60\n",
      "813/813 [==============================] - 176s 217ms/step - loss: 0.6980 - accuracy: 0.7566 - val_loss: 0.6832 - val_accuracy: 0.7606\n",
      "Epoch 36/60\n",
      "813/813 [==============================] - 176s 217ms/step - loss: 0.6890 - accuracy: 0.7574 - val_loss: 0.6758 - val_accuracy: 0.7667\n",
      "Epoch 37/60\n",
      "813/813 [==============================] - 183s 226ms/step - loss: 0.6854 - accuracy: 0.7602 - val_loss: 0.6809 - val_accuracy: 0.7621\n",
      "Epoch 38/60\n",
      "813/813 [==============================] - 177s 217ms/step - loss: 0.6782 - accuracy: 0.7626 - val_loss: 0.6972 - val_accuracy: 0.7603\n",
      "Epoch 39/60\n",
      "813/813 [==============================] - 177s 217ms/step - loss: 0.6745 - accuracy: 0.7635 - val_loss: 0.6675 - val_accuracy: 0.7650\n",
      "Epoch 40/60\n",
      "813/813 [==============================] - 177s 217ms/step - loss: 0.6717 - accuracy: 0.7638 - val_loss: 0.6660 - val_accuracy: 0.7680\n",
      "Epoch 41/60\n",
      "813/813 [==============================] - 177s 218ms/step - loss: 0.6767 - accuracy: 0.7645 - val_loss: 0.6721 - val_accuracy: 0.7656\n",
      "Epoch 42/60\n",
      "813/813 [==============================] - 176s 216ms/step - loss: 0.6627 - accuracy: 0.7681 - val_loss: 0.6755 - val_accuracy: 0.7670\n",
      "Epoch 43/60\n",
      "813/813 [==============================] - 178s 218ms/step - loss: 0.6573 - accuracy: 0.7700 - val_loss: 0.6738 - val_accuracy: 0.7640\n",
      "Epoch 44/60\n",
      "813/813 [==============================] - 179s 220ms/step - loss: 0.6530 - accuracy: 0.7725 - val_loss: 0.6691 - val_accuracy: 0.7726\n",
      "Epoch 45/60\n",
      "813/813 [==============================] - 177s 218ms/step - loss: 0.6543 - accuracy: 0.7727 - val_loss: 0.6640 - val_accuracy: 0.7698\n",
      "Epoch 46/60\n",
      "813/813 [==============================] - 178s 218ms/step - loss: 0.6529 - accuracy: 0.7719 - val_loss: 0.6609 - val_accuracy: 0.7690\n",
      "Epoch 47/60\n",
      "813/813 [==============================] - 177s 217ms/step - loss: 0.6458 - accuracy: 0.7735 - val_loss: 0.6585 - val_accuracy: 0.7676\n",
      "Epoch 48/60\n",
      "813/813 [==============================] - 177s 218ms/step - loss: 0.6467 - accuracy: 0.7737 - val_loss: 0.6543 - val_accuracy: 0.7736\n",
      "Epoch 49/60\n",
      "813/813 [==============================] - 175s 216ms/step - loss: 0.6369 - accuracy: 0.7772 - val_loss: 0.6442 - val_accuracy: 0.7733\n",
      "Epoch 50/60\n",
      "813/813 [==============================] - 177s 218ms/step - loss: 0.6366 - accuracy: 0.7784 - val_loss: 0.6590 - val_accuracy: 0.7684\n",
      "Epoch 51/60\n",
      "813/813 [==============================] - 176s 217ms/step - loss: 0.6356 - accuracy: 0.7789 - val_loss: 0.6415 - val_accuracy: 0.7740\n",
      "Epoch 52/60\n",
      "813/813 [==============================] - 177s 218ms/step - loss: 0.6317 - accuracy: 0.7762 - val_loss: 0.6472 - val_accuracy: 0.7749\n",
      "Epoch 53/60\n",
      "813/813 [==============================] - 176s 216ms/step - loss: 0.6328 - accuracy: 0.7801 - val_loss: 0.6440 - val_accuracy: 0.7738\n",
      "Epoch 54/60\n",
      "813/813 [==============================] - 177s 218ms/step - loss: 0.6237 - accuracy: 0.7813 - val_loss: 0.6377 - val_accuracy: 0.7789\n",
      "Epoch 55/60\n",
      "813/813 [==============================] - 177s 218ms/step - loss: 0.6242 - accuracy: 0.7805 - val_loss: 0.6483 - val_accuracy: 0.7776\n",
      "Epoch 56/60\n",
      "813/813 [==============================] - 176s 217ms/step - loss: 0.6199 - accuracy: 0.7835 - val_loss: 0.6527 - val_accuracy: 0.7723\n"
     ]
    },
    {
     "name": "stdout",
     "output_type": "stream",
     "text": [
      "Epoch 57/60\n",
      "813/813 [==============================] - 178s 219ms/step - loss: 0.6182 - accuracy: 0.7837 - val_loss: 0.6578 - val_accuracy: 0.7704\n",
      "Epoch 58/60\n",
      "813/813 [==============================] - 179s 220ms/step - loss: 0.6137 - accuracy: 0.7844 - val_loss: 0.6412 - val_accuracy: 0.7796\n",
      "Epoch 59/60\n",
      "813/813 [==============================] - 208s 256ms/step - loss: 0.6095 - accuracy: 0.7864 - val_loss: 0.6394 - val_accuracy: 0.7827\n",
      "Epoch 60/60\n",
      "813/813 [==============================] - 209s 256ms/step - loss: 0.6139 - accuracy: 0.7856 - val_loss: 0.6563 - val_accuracy: 0.7753\n"
     ]
    }
   ],
   "source": [
    "model = define_cnn_gru_model(word_index=word_index, \n",
    "                             max_sent_len=max_sent_len,\n",
    "                             embedding_matrix=fasttext_embedding_matrix,\n",
    "                            )\n",
    "\n",
    "#earlystop = EarlyStopping(monitor='val_loss', min_delta=0, patience=3, verbose=0, mode='auto')\n",
    "history = model.fit(x=x_train_seq, \n",
    "                    y=y_train_en, \n",
    "                    batch_size=batch_size, \n",
    "                    epochs=epochs, \n",
    "                    verbose=1, \n",
    "                    validation_data=(x_valid_seq, y_valid_en),\n",
    "                    #callbacks=[earlystop],\n",
    "                   )\n",
    "\n"
   ]
  },
  {
   "cell_type": "code",
   "execution_count": 563,
   "metadata": {},
   "outputs": [
    {
     "data": {
      "image/png": "[encoded data removed]",
      "text/plain": [
       "<Figure size 432x288 with 2 Axes>"
      ]
     },
     "metadata": {
      "needs_background": "light"
     },
     "output_type": "display_data"
    }
   ],
   "source": [
    "plot_learning_curves(history, acc='accuracy', val_acc='val_accuracy')\n",
    "\n",
    "model_dict['cnn_gru_fasttext'] = model\n"
   ]
  },
  {
   "cell_type": "code",
   "execution_count": 564,
   "metadata": {},
   "outputs": [
    {
     "name": "stdout",
     "output_type": "stream",
     "text": [
      "Model: \"functional_19\"\n",
      "_________________________________________________________________\n",
      "Layer (type)                 Output Shape              Param #   \n",
      "=================================================================\n",
      "input_10 (InputLayer)        [(None, 452)]             0         \n",
      "_________________________________________________________________\n",
      "embedding_63 (Embedding)     (None, 452, 300)          8100      \n",
      "_________________________________________________________________\n",
      "conv1d_47 (Conv1D)           (None, 452, 100)          120100    \n",
      "_________________________________________________________________\n",
      "max_pooling1d_47 (MaxPooling (None, 113, 100)          0         \n",
      "_________________________________________________________________\n",
      "bidirectional_9 (Bidirection (None, 113, 120)          58320     \n",
      "_________________________________________________________________\n",
      "global_max_pooling1d_9 (Glob (None, 120)               0         \n",
      "_________________________________________________________________\n",
      "dense_128 (Dense)            (None, 50)                6050      \n",
      "_________________________________________________________________\n",
      "dropout_73 (Dropout)         (None, 50)                0         \n",
      "_________________________________________________________________\n",
      "dense_129 (Dense)            (None, 12)                612       \n",
      "=================================================================\n",
      "Total params: 193,182\n",
      "Trainable params: 185,082\n",
      "Non-trainable params: 8,100\n",
      "_________________________________________________________________\n"
     ]
    }
   ],
   "source": [
    "model.summary()\n"
   ]
  },
  {
   "cell_type": "code",
   "execution_count": null,
   "metadata": {},
   "outputs": [],
   "source": []
  },
  {
   "cell_type": "code",
   "execution_count": null,
   "metadata": {},
   "outputs": [],
   "source": []
  },
  {
   "cell_type": "markdown",
   "metadata": {},
   "source": [
    "#### Plot validation performance\n"
   ]
  },
  {
   "cell_type": "code",
   "execution_count": 565,
   "metadata": {},
   "outputs": [],
   "source": [
    "y_pred_val = model.predict(x_valid_seq)\n",
    "y_pred_val = y_pred_val.argmax(axis=-1)\n"
   ]
  },
  {
   "cell_type": "code",
   "execution_count": 566,
   "metadata": {},
   "outputs": [
    {
     "data": {
      "image/png": "[encoded data removed]",
      "text/plain": [
       "<Figure size 576x576 with 2 Axes>"
      ]
     },
     "metadata": {
      "needs_background": "light"
     },
     "output_type": "display_data"
    }
   ],
   "source": [
    "plot_confusion_matrix(y_valid, y_pred_val)\n"
   ]
  },
  {
   "cell_type": "code",
   "execution_count": 567,
   "metadata": {},
   "outputs": [
    {
     "name": "stdout",
     "output_type": "stream",
     "text": [
      "              precision    recall  f1-score   support\n",
      "\n",
      "           0       0.85      0.83      0.84        98\n",
      "           1       0.84      0.67      0.74       678\n",
      "           2       0.75      0.71      0.72       282\n",
      "           3       0.72      0.78      0.75       819\n",
      "           4       0.86      0.82      0.84       460\n",
      "           5       0.96      0.84      0.89       469\n",
      "           6       0.75      0.78      0.76       841\n",
      "           7       0.72      0.89      0.80       965\n",
      "           8       0.87      0.85      0.86       742\n",
      "           9       0.90      0.57      0.70       187\n",
      "          10       0.65      0.69      0.67       658\n",
      "          11       0.75      0.64      0.69       304\n",
      "\n",
      "    accuracy                           0.78      6503\n",
      "   macro avg       0.80      0.75      0.77      6503\n",
      "weighted avg       0.78      0.78      0.78      6503\n",
      "\n"
     ]
    }
   ],
   "source": [
    "print(classification_report(y_valid, y_pred_val))\n"
   ]
  },
  {
   "cell_type": "code",
   "execution_count": null,
   "metadata": {},
   "outputs": [],
   "source": []
  },
  {
   "cell_type": "markdown",
   "metadata": {},
   "source": [
    "#### Save the model\n"
   ]
  },
  {
   "cell_type": "code",
   "execution_count": 568,
   "metadata": {},
   "outputs": [],
   "source": [
    "model_dict['cnn_gru_fasttext'].save('cnn_gru_fasttext_{}.h5'.format(epochs))\n"
   ]
  },
  {
   "cell_type": "code",
   "execution_count": null,
   "metadata": {},
   "outputs": [],
   "source": []
  },
  {
   "cell_type": "code",
   "execution_count": null,
   "metadata": {},
   "outputs": [],
   "source": []
  },
  {
   "cell_type": "markdown",
   "metadata": {},
   "source": [
    "### Transformer (TODO)\n",
    "\n",
    "**Reference**\n",
    "\n",
    "* Text classification with transformers in Tensorflow 2: BERT, XLNet\n",
    "\n",
    "https://atheros.ai/blog/text-classification-with-transformers-in-tensorflow-2\n"
   ]
  },
  {
   "cell_type": "code",
   "execution_count": null,
   "metadata": {},
   "outputs": [],
   "source": []
  },
  {
   "cell_type": "code",
   "execution_count": null,
   "metadata": {},
   "outputs": [],
   "source": []
  },
  {
   "cell_type": "markdown",
   "metadata": {},
   "source": [
    "### Summary\n"
   ]
  },
  {
   "cell_type": "markdown",
   "metadata": {},
   "source": [
    "Experiments show that the CNN+GRU architecture outperforms the other architectures.\n",
    "Due to the limited time available and the limited computation resources \n",
    "(the experiments were conducted on a Macbook pro 2015), \n",
    "I only trained the model with 60 epochs.\n",
    "The learning curve shows that if I increase the number of epochs, the accuracy might be higher.\n",
    "\n"
   ]
  },
  {
   "cell_type": "code",
   "execution_count": null,
   "metadata": {},
   "outputs": [],
   "source": []
  },
  {
   "cell_type": "markdown",
   "metadata": {},
   "source": [
    "## Prediction\n"
   ]
  },
  {
   "cell_type": "markdown",
   "metadata": {},
   "source": [
    "### Train the model on the whole trainig set\n",
    "\n",
    "TODO: Train the model with checkpoints\n",
    "\n",
    "- How to Check-Point Deep Learning Models in Keras\n",
    "\n",
    "https://machinelearningmastery.com/check-point-deep-learning-models-keras/\n",
    "\n",
    "https://stackoverflow.com/questions/45393429/keras-how-to-save-model-and-continue-training\n",
    "\n"
   ]
  },
  {
   "cell_type": "code",
   "execution_count": 528,
   "metadata": {},
   "outputs": [],
   "source": [
    "epochs = 60\n"
   ]
  },
  {
   "cell_type": "code",
   "execution_count": 527,
   "metadata": {},
   "outputs": [],
   "source": [
    "# TODO: debug this function\n",
    "def train_final_model(model, \n",
    "                      x_train, \n",
    "                      y_train,\n",
    "                      model_name,\n",
    "                      epochs,\n",
    "                      batch_size,\n",
    "                      epochs_per_step = 5,\n",
    "                     ):\n",
    "    \"\"\"\n",
    "    train a model with checkpoints\n",
    "    \"\"\"\n",
    "    for n_steps in range(epochs // epochs_per_step):\n",
    "        print('{}/{}'.format(str(n_steps + 1), str(epochs // epochs_per_step)))\n",
    "\n",
    "        filepath = '{}_{}.h5'.format(model_name, str((n_steps + 1) * epochs_per_step))\n",
    "        checkpoint = ModelCheckpoint(filepath=filepath,\n",
    "                                     #save_weights_only=True,\n",
    "                                     monitor='loss',\n",
    "                                     mode='max',\n",
    "                                     save_best_only=True,\n",
    "                                    )\n",
    "        callbacks_list = [checkpoint]\n",
    "\n",
    "        # load the previous model\n",
    "        if n_steps > 0:\n",
    "            prev_filepath = '{}_{}.h5'.format(model_name, str(n_steps * epochs_per_step))\n",
    "            model = load_model(prev_filepath)\n",
    "\n",
    "        history = model.fit(x=x_train, \n",
    "                            y=y_train, \n",
    "                            batch_size=batch_size, \n",
    "                            epochs=epochs_per_step, \n",
    "                            verbose=1,\n",
    "                            callbacks=callbacks_list,\n",
    "                            #validation_data=(x_valid_seq, y_valid_en),\n",
    "                            #callbacks=[earlystop],\n",
    "                           )\n",
    "        #assert_allclose(model.predict(x_train_all_seq[:100]),\n",
    "        #                new_model.predict(x_train_all_seq[:100]),\n",
    "        #                1e-5)\n",
    "\n",
    "        #plot_learning_curves(history)\n",
    "    return model\n",
    "    \n",
    "    "
   ]
  },
  {
   "cell_type": "code",
   "execution_count": 529,
   "metadata": {},
   "outputs": [
    {
     "name": "stdout",
     "output_type": "stream",
     "text": [
      "Epoch 1/60\n",
      "1017/1017 [==============================] - 255s 251ms/step - loss: 2.3012 - accuracy: 0.1731\n",
      "Epoch 2/60\n",
      "1017/1017 [==============================] - 245s 241ms/step - loss: 1.9207 - accuracy: 0.3068\n",
      "Epoch 3/60\n",
      "1017/1017 [==============================] - 244s 240ms/step - loss: 1.6890 - accuracy: 0.3839\n",
      "Epoch 4/60\n",
      "1017/1017 [==============================] - 243s 239ms/step - loss: 1.3852 - accuracy: 0.4858\n",
      "Epoch 5/60\n",
      "1017/1017 [==============================] - 247s 243ms/step - loss: 1.2698 - accuracy: 0.5367\n",
      "Epoch 6/60\n",
      "1017/1017 [==============================] - 281s 276ms/step - loss: 1.1807 - accuracy: 0.5745\n",
      "Epoch 7/60\n",
      "1017/1017 [==============================] - 224s 220ms/step - loss: 1.1084 - accuracy: 0.6038\n",
      "Epoch 8/60\n",
      "1017/1017 [==============================] - 246s 242ms/step - loss: 1.0632 - accuracy: 0.6197\n",
      "Epoch 9/60\n",
      "1017/1017 [==============================] - 241s 237ms/step - loss: 1.0100 - accuracy: 0.6415\n",
      "Epoch 10/60\n",
      "1017/1017 [==============================] - 249s 245ms/step - loss: 0.9721 - accuracy: 0.6561\n",
      "Epoch 11/60\n",
      "1017/1017 [==============================] - 264s 260ms/step - loss: 0.9395 - accuracy: 0.6677\n",
      "Epoch 12/60\n",
      "1017/1017 [==============================] - 275s 270ms/step - loss: 0.9147 - accuracy: 0.6799\n",
      "Epoch 13/60\n",
      "1017/1017 [==============================] - 245s 241ms/step - loss: 0.8929 - accuracy: 0.6902\n",
      "Epoch 14/60\n",
      "1017/1017 [==============================] - 276s 271ms/step - loss: 0.8796 - accuracy: 0.6910\n",
      "Epoch 15/60\n",
      "1017/1017 [==============================] - 226s 223ms/step - loss: 0.8461 - accuracy: 0.7029\n",
      "Epoch 16/60\n",
      "1017/1017 [==============================] - 236s 232ms/step - loss: 0.8301 - accuracy: 0.7113\n",
      "Epoch 17/60\n",
      "1017/1017 [==============================] - 285s 280ms/step - loss: 0.8134 - accuracy: 0.7183\n",
      "Epoch 18/60\n",
      "1017/1017 [==============================] - 231s 227ms/step - loss: 0.8034 - accuracy: 0.7206\n",
      "Epoch 19/60\n",
      "1017/1017 [==============================] - 252s 248ms/step - loss: 0.7844 - accuracy: 0.7254\n",
      "Epoch 20/60\n",
      "1017/1017 [==============================] - 255s 251ms/step - loss: 0.7703 - accuracy: 0.7330\n",
      "Epoch 21/60\n",
      "1017/1017 [==============================] - 262s 257ms/step - loss: 0.7655 - accuracy: 0.7324\n",
      "Epoch 22/60\n",
      "1017/1017 [==============================] - 245s 241ms/step - loss: 0.7541 - accuracy: 0.7362\n",
      "Epoch 23/60\n",
      "1017/1017 [==============================] - 242s 238ms/step - loss: 0.7416 - accuracy: 0.7425\n",
      "Epoch 24/60\n",
      "1017/1017 [==============================] - 244s 240ms/step - loss: 0.7288 - accuracy: 0.7463\n",
      "Epoch 25/60\n",
      "1017/1017 [==============================] - 251s 247ms/step - loss: 0.7197 - accuracy: 0.7498\n",
      "Epoch 26/60\n",
      "1017/1017 [==============================] - 229s 225ms/step - loss: 0.7194 - accuracy: 0.7504\n",
      "Epoch 27/60\n",
      "1017/1017 [==============================] - 248s 243ms/step - loss: 0.7096 - accuracy: 0.7527\n",
      "Epoch 28/60\n",
      "1017/1017 [==============================] - 247s 243ms/step - loss: 0.7041 - accuracy: 0.7563\n",
      "Epoch 29/60\n",
      "1017/1017 [==============================] - 246s 241ms/step - loss: 0.7000 - accuracy: 0.7573\n",
      "Epoch 30/60\n",
      "1017/1017 [==============================] - 241s 237ms/step - loss: 0.6875 - accuracy: 0.7601\n",
      "Epoch 31/60\n",
      "1017/1017 [==============================] - 234s 230ms/step - loss: 0.6850 - accuracy: 0.7602\n",
      "Epoch 32/60\n",
      "1017/1017 [==============================] - 222s 218ms/step - loss: 0.6784 - accuracy: 0.7674\n",
      "Epoch 33/60\n",
      "1017/1017 [==============================] - 217s 213ms/step - loss: 0.6704 - accuracy: 0.7679\n",
      "Epoch 34/60\n",
      "1017/1017 [==============================] - 219s 215ms/step - loss: 0.6600 - accuracy: 0.7700\n",
      "Epoch 35/60\n",
      "1017/1017 [==============================] - 217s 213ms/step - loss: 0.6612 - accuracy: 0.7731\n",
      "Epoch 36/60\n",
      "1017/1017 [==============================] - 220s 217ms/step - loss: 0.6519 - accuracy: 0.7730\n",
      "Epoch 37/60\n",
      "1017/1017 [==============================] - 212s 208ms/step - loss: 0.6541 - accuracy: 0.7754\n",
      "Epoch 38/60\n",
      "1017/1017 [==============================] - 214s 210ms/step - loss: 0.6370 - accuracy: 0.7797\n",
      "Epoch 39/60\n",
      "1017/1017 [==============================] - 247s 243ms/step - loss: 0.6387 - accuracy: 0.7788\n",
      "Epoch 40/60\n",
      "1017/1017 [==============================] - 272s 267ms/step - loss: 0.6335 - accuracy: 0.7818\n",
      "Epoch 41/60\n",
      "1017/1017 [==============================] - 227s 223ms/step - loss: 0.6298 - accuracy: 0.7822\n",
      "Epoch 42/60\n",
      "1017/1017 [==============================] - 246s 241ms/step - loss: 0.6207 - accuracy: 0.7847\n",
      "Epoch 43/60\n",
      "1017/1017 [==============================] - 245s 241ms/step - loss: 0.6228 - accuracy: 0.7837\n",
      "Epoch 44/60\n",
      "1017/1017 [==============================] - 249s 245ms/step - loss: 0.6145 - accuracy: 0.7867\n",
      "Epoch 45/60\n",
      "1017/1017 [==============================] - 219s 215ms/step - loss: 0.6157 - accuracy: 0.7863\n",
      "Epoch 46/60\n",
      "1017/1017 [==============================] - 231s 227ms/step - loss: 0.6093 - accuracy: 0.7884\n",
      "Epoch 47/60\n",
      "1017/1017 [==============================] - 211s 207ms/step - loss: 0.6082 - accuracy: 0.7906\n",
      "Epoch 48/60\n",
      "1017/1017 [==============================] - 233s 229ms/step - loss: 0.6061 - accuracy: 0.7912\n",
      "Epoch 49/60\n",
      "1017/1017 [==============================] - 252s 248ms/step - loss: 0.6028 - accuracy: 0.7913\n",
      "Epoch 50/60\n",
      "1017/1017 [==============================] - 235s 231ms/step - loss: 0.5988 - accuracy: 0.7929\n",
      "Epoch 51/60\n",
      "1017/1017 [==============================] - 231s 227ms/step - loss: 0.6061 - accuracy: 0.7894\n",
      "Epoch 52/60\n",
      "1017/1017 [==============================] - 238s 234ms/step - loss: 0.5894 - accuracy: 0.7947\n",
      "Epoch 53/60\n",
      "1017/1017 [==============================] - 245s 241ms/step - loss: 0.5870 - accuracy: 0.7957\n",
      "Epoch 54/60\n",
      "1017/1017 [==============================] - 220s 216ms/step - loss: 0.5898 - accuracy: 0.7969\n",
      "Epoch 55/60\n",
      "1017/1017 [==============================] - 218s 214ms/step - loss: 0.5923 - accuracy: 0.7964\n",
      "Epoch 56/60\n",
      "1017/1017 [==============================] - 232s 228ms/step - loss: 0.5794 - accuracy: 0.7965\n",
      "Epoch 57/60\n",
      "1017/1017 [==============================] - 242s 238ms/step - loss: 0.5798 - accuracy: 0.8008\n",
      "Epoch 58/60\n",
      "1017/1017 [==============================] - 238s 234ms/step - loss: 0.5844 - accuracy: 0.7977\n",
      "Epoch 59/60\n",
      "1017/1017 [==============================] - 224s 221ms/step - loss: 0.5800 - accuracy: 0.7987\n",
      "Epoch 60/60\n",
      "1017/1017 [==============================] - 246s 242ms/step - loss: 0.5783 - accuracy: 0.8011\n"
     ]
    }
   ],
   "source": [
    "#model = define_gru_model(word_index=word_index, \n",
    "#                         max_sent_len=max_sent_len,\n",
    "#                         embedding_matrix=fasttext_embedding_matrix,\n",
    "#                        )\n",
    "#model_name = 'gru_final'\n",
    "\n",
    "#model = define_cnn_model(word_index=word_index, \n",
    "#                         max_sent_len=max_sent_len,\n",
    "#                         embedding_matrix=fasttext_embedding_matrix,\n",
    "#                        )\n",
    "#model_name = 'cnn_final'\n",
    "\n",
    "model = define_cnn_gru_model(word_index=word_index, \n",
    "                             max_sent_len=max_sent_len,\n",
    "                             embedding_matrix=fasttext_embedding_matrix,\n",
    "                            )\n",
    "model_name = 'cnn_gru_final'\n",
    "\n",
    "#earlystop = EarlyStopping(monitor='val_loss', min_delta=0, patience=10, verbose=0, mode='auto')\n",
    "history = model.fit(x=x_train_all_seq, \n",
    "                    y=y_train_all_en, \n",
    "                    batch_size=batch_size, \n",
    "                    epochs=epochs, \n",
    "                    verbose=1, \n",
    "#                    #validation_data=(x_valid_seq, y_valid_en),\n",
    "#                    #callbacks=[earlystop],\n",
    "                   )\n",
    "\n",
    "#model = train_final_model(model=model, \n",
    "#                          x_train=x_train_all_seq, \n",
    "#                          y_train=y_train_all_en,\n",
    "#                          model_name=model_name,\n",
    "#                          epochs=epochs,\n",
    "#                          batch_size=batch_size,\n",
    "#                          epochs_per_step=5,\n",
    "#                         )\n",
    "\n"
   ]
  },
  {
   "cell_type": "code",
   "execution_count": 530,
   "metadata": {},
   "outputs": [
    {
     "name": "stdout",
     "output_type": "stream",
     "text": [
      "Model: \"functional_17\"\n",
      "_________________________________________________________________\n",
      "Layer (type)                 Output Shape              Param #   \n",
      "=================================================================\n",
      "input_9 (InputLayer)         [(None, 452)]             0         \n",
      "_________________________________________________________________\n",
      "embedding_59 (Embedding)     (None, 452, 300)          8100      \n",
      "_________________________________________________________________\n",
      "conv1d_44 (Conv1D)           (None, 452, 100)          120100    \n",
      "_________________________________________________________________\n",
      "max_pooling1d_44 (MaxPooling (None, 113, 100)          0         \n",
      "_________________________________________________________________\n",
      "bidirectional_8 (Bidirection (None, 113, 120)          58320     \n",
      "_________________________________________________________________\n",
      "global_max_pooling1d_8 (Glob (None, 120)               0         \n",
      "_________________________________________________________________\n",
      "dense_120 (Dense)            (None, 50)                6050      \n",
      "_________________________________________________________________\n",
      "dropout_68 (Dropout)         (None, 50)                0         \n",
      "_________________________________________________________________\n",
      "dense_121 (Dense)            (None, 12)                612       \n",
      "=================================================================\n",
      "Total params: 193,182\n",
      "Trainable params: 185,082\n",
      "Non-trainable params: 8,100\n",
      "_________________________________________________________________\n"
     ]
    }
   ],
   "source": [
    "model.summary()\n"
   ]
  },
  {
   "cell_type": "code",
   "execution_count": 532,
   "metadata": {},
   "outputs": [],
   "source": [
    "model_dict['{}_fasttext'.format(model_name)] = model\n",
    "model_dict['{}_fasttext'.format(model_name)].save('{}_fasttext_{}.h5'.format(model_name, epochs))\n"
   ]
  },
  {
   "cell_type": "code",
   "execution_count": null,
   "metadata": {},
   "outputs": [],
   "source": []
  },
  {
   "cell_type": "markdown",
   "metadata": {},
   "source": [
    "### Increase the number of epochs\n"
   ]
  },
  {
   "cell_type": "code",
   "execution_count": 602,
   "metadata": {},
   "outputs": [],
   "source": [
    "epochs = 80\n"
   ]
  },
  {
   "cell_type": "code",
   "execution_count": 603,
   "metadata": {},
   "outputs": [
    {
     "name": "stdout",
     "output_type": "stream",
     "text": [
      "Epoch 1/80\n",
      "1017/1017 [==============================] - 270s 265ms/step - loss: 2.3032 - accuracy: 0.1687\n",
      "Epoch 2/80\n",
      "1017/1017 [==============================] - 221s 217ms/step - loss: 1.7840 - accuracy: 0.3227\n",
      "Epoch 3/80\n",
      "1017/1017 [==============================] - 214s 210ms/step - loss: 1.4864 - accuracy: 0.4553\n",
      "Epoch 4/80\n",
      "1017/1017 [==============================] - 255s 250ms/step - loss: 1.3547 - accuracy: 0.5040\n",
      "Epoch 5/80\n",
      "1017/1017 [==============================] - 231s 227ms/step - loss: 1.2749 - accuracy: 0.5334\n",
      "Epoch 6/80\n",
      "1017/1017 [==============================] - 227s 223ms/step - loss: 1.2045 - accuracy: 0.5621\n",
      "Epoch 7/80\n",
      "1017/1017 [==============================] - 295s 290ms/step - loss: 1.1447 - accuracy: 0.5859\n",
      "Epoch 8/80\n",
      "1017/1017 [==============================] - 267s 263ms/step - loss: 1.0896 - accuracy: 0.6060\n",
      "Epoch 9/80\n",
      "1017/1017 [==============================] - 273s 268ms/step - loss: 1.0362 - accuracy: 0.6268\n",
      "Epoch 10/80\n",
      "1017/1017 [==============================] - 233s 229ms/step - loss: 0.9961 - accuracy: 0.6444\n",
      "Epoch 11/80\n",
      "1017/1017 [==============================] - 242s 238ms/step - loss: 0.9618 - accuracy: 0.6578\n",
      "Epoch 12/80\n",
      "1017/1017 [==============================] - 256s 252ms/step - loss: 0.9398 - accuracy: 0.6656\n",
      "Epoch 13/80\n",
      "1017/1017 [==============================] - 276s 272ms/step - loss: 0.9129 - accuracy: 0.6757\n",
      "Epoch 14/80\n",
      "1017/1017 [==============================] - 272s 268ms/step - loss: 0.8996 - accuracy: 0.6808\n",
      "Epoch 15/80\n",
      "1017/1017 [==============================] - 300s 295ms/step - loss: 0.8835 - accuracy: 0.6888\n",
      "Epoch 16/80\n",
      "1017/1017 [==============================] - 325s 319ms/step - loss: 0.8631 - accuracy: 0.6945\n",
      "Epoch 17/80\n",
      "1017/1017 [==============================] - 266s 262ms/step - loss: 0.8486 - accuracy: 0.7018\n",
      "Epoch 18/80\n",
      "1017/1017 [==============================] - 267s 262ms/step - loss: 0.8333 - accuracy: 0.7063\n",
      "Epoch 19/80\n",
      "1017/1017 [==============================] - 336s 331ms/step - loss: 0.8267 - accuracy: 0.7113\n",
      "Epoch 20/80\n",
      "1017/1017 [==============================] - 324s 319ms/step - loss: 0.8175 - accuracy: 0.7142\n",
      "Epoch 21/80\n",
      "1017/1017 [==============================] - 279s 274ms/step - loss: 0.8016 - accuracy: 0.7149\n",
      "Epoch 22/80\n",
      "1017/1017 [==============================] - 263s 259ms/step - loss: 0.7930 - accuracy: 0.7206\n",
      "Epoch 23/80\n",
      "1017/1017 [==============================] - 273s 269ms/step - loss: 0.7823 - accuracy: 0.7227\n",
      "Epoch 24/80\n",
      "1017/1017 [==============================] - 316s 311ms/step - loss: 0.7723 - accuracy: 0.7289\n",
      "Epoch 25/80\n",
      "1017/1017 [==============================] - 317s 312ms/step - loss: 0.7685 - accuracy: 0.7326\n",
      "Epoch 26/80\n",
      "1017/1017 [==============================] - 268s 263ms/step - loss: 0.7628 - accuracy: 0.7319\n",
      "Epoch 27/80\n",
      "1017/1017 [==============================] - 288s 283ms/step - loss: 0.7501 - accuracy: 0.7364\n",
      "Epoch 28/80\n",
      "1017/1017 [==============================] - 269s 264ms/step - loss: 0.7498 - accuracy: 0.7377\n",
      "Epoch 29/80\n",
      "1017/1017 [==============================] - 242s 238ms/step - loss: 0.7389 - accuracy: 0.7393\n",
      "Epoch 30/80\n",
      "1017/1017 [==============================] - 257s 252ms/step - loss: 0.7309 - accuracy: 0.7427\n",
      "Epoch 31/80\n",
      "1017/1017 [==============================] - 263s 258ms/step - loss: 0.7313 - accuracy: 0.7450\n",
      "Epoch 32/80\n",
      "1017/1017 [==============================] - 258s 254ms/step - loss: 0.7214 - accuracy: 0.7469\n",
      "Epoch 33/80\n",
      "1017/1017 [==============================] - 261s 257ms/step - loss: 0.7195 - accuracy: 0.7485\n",
      "Epoch 34/80\n",
      "1017/1017 [==============================] - 254s 250ms/step - loss: 0.7129 - accuracy: 0.7523\n",
      "Epoch 35/80\n",
      "1017/1017 [==============================] - 252s 248ms/step - loss: 0.7103 - accuracy: 0.7515\n",
      "Epoch 36/80\n",
      "1017/1017 [==============================] - 241s 237ms/step - loss: 0.7026 - accuracy: 0.7527\n",
      "Epoch 37/80\n",
      "1017/1017 [==============================] - 238s 234ms/step - loss: 0.6983 - accuracy: 0.7558\n",
      "Epoch 38/80\n",
      "1017/1017 [==============================] - 241s 237ms/step - loss: 0.6921 - accuracy: 0.7594\n",
      "Epoch 39/80\n",
      "1017/1017 [==============================] - 236s 232ms/step - loss: 0.6840 - accuracy: 0.7607\n",
      "Epoch 40/80\n",
      "1017/1017 [==============================] - 247s 243ms/step - loss: 0.6842 - accuracy: 0.7598\n",
      "Epoch 41/80\n",
      "1017/1017 [==============================] - 241s 236ms/step - loss: 0.6783 - accuracy: 0.7621\n",
      "Epoch 42/80\n",
      "1017/1017 [==============================] - 239s 235ms/step - loss: 0.6724 - accuracy: 0.7626\n",
      "Epoch 43/80\n",
      "1017/1017 [==============================] - 238s 234ms/step - loss: 0.6721 - accuracy: 0.7641\n",
      "Epoch 44/80\n",
      "1017/1017 [==============================] - 237s 233ms/step - loss: 0.6666 - accuracy: 0.7673\n",
      "Epoch 45/80\n",
      "1017/1017 [==============================] - 235s 231ms/step - loss: 0.6630 - accuracy: 0.7700\n",
      "Epoch 46/80\n",
      "1017/1017 [==============================] - 234s 230ms/step - loss: 0.6551 - accuracy: 0.7711\n",
      "Epoch 47/80\n",
      "1017/1017 [==============================] - 258s 253ms/step - loss: 0.6565 - accuracy: 0.7702\n",
      "Epoch 48/80\n",
      "1017/1017 [==============================] - 316s 310ms/step - loss: 0.6550 - accuracy: 0.7704\n",
      "Epoch 49/80\n",
      "1017/1017 [==============================] - 284s 279ms/step - loss: 0.6498 - accuracy: 0.7735\n",
      "Epoch 50/80\n",
      "1017/1017 [==============================] - 264s 260ms/step - loss: 0.6476 - accuracy: 0.7726\n",
      "Epoch 51/80\n",
      "1017/1017 [==============================] - 258s 253ms/step - loss: 0.6452 - accuracy: 0.7769\n",
      "Epoch 52/80\n",
      "1017/1017 [==============================] - 264s 259ms/step - loss: 0.6438 - accuracy: 0.7779\n",
      "Epoch 53/80\n",
      "1017/1017 [==============================] - 268s 263ms/step - loss: 0.6331 - accuracy: 0.7791\n",
      "Epoch 54/80\n",
      "1017/1017 [==============================] - 268s 263ms/step - loss: 0.6389 - accuracy: 0.7752\n",
      "Epoch 55/80\n",
      "1017/1017 [==============================] - 274s 270ms/step - loss: 0.6293 - accuracy: 0.7811\n",
      "Epoch 56/80\n",
      "1017/1017 [==============================] - 259s 255ms/step - loss: 0.6371 - accuracy: 0.7774\n",
      "Epoch 57/80\n",
      "1017/1017 [==============================] - 248s 244ms/step - loss: 0.6277 - accuracy: 0.7815\n",
      "Epoch 58/80\n",
      "1017/1017 [==============================] - 269s 265ms/step - loss: 0.6225 - accuracy: 0.7809\n",
      "Epoch 59/80\n",
      "1017/1017 [==============================] - 297s 292ms/step - loss: 0.6252 - accuracy: 0.7819\n",
      "Epoch 60/80\n",
      "1017/1017 [==============================] - 273s 269ms/step - loss: 0.6156 - accuracy: 0.7861\n",
      "Epoch 61/80\n",
      "1017/1017 [==============================] - 259s 255ms/step - loss: 0.6235 - accuracy: 0.7821\n",
      "Epoch 62/80\n",
      "1017/1017 [==============================] - 278s 273ms/step - loss: 0.6179 - accuracy: 0.7852\n",
      "Epoch 63/80\n",
      "1017/1017 [==============================] - 285s 280ms/step - loss: 0.6128 - accuracy: 0.7852\n",
      "Epoch 64/80\n",
      "1017/1017 [==============================] - 279s 274ms/step - loss: 0.6115 - accuracy: 0.7866\n",
      "Epoch 65/80\n",
      "1017/1017 [==============================] - 275s 270ms/step - loss: 0.6098 - accuracy: 0.7864\n",
      "Epoch 66/80\n",
      "1017/1017 [==============================] - 281s 277ms/step - loss: 0.6136 - accuracy: 0.7852\n",
      "Epoch 67/80\n",
      "1017/1017 [==============================] - 295s 291ms/step - loss: 0.6098 - accuracy: 0.7848\n",
      "Epoch 68/80\n",
      "1017/1017 [==============================] - 266s 262ms/step - loss: 0.6024 - accuracy: 0.7876\n",
      "Epoch 69/80\n",
      "1017/1017 [==============================] - 254s 249ms/step - loss: 0.6137 - accuracy: 0.7853\n",
      "Epoch 70/80\n",
      "1017/1017 [==============================] - 256s 252ms/step - loss: 0.6003 - accuracy: 0.7921\n",
      "Epoch 71/80\n",
      "1017/1017 [==============================] - 266s 261ms/step - loss: 0.6042 - accuracy: 0.7880\n",
      "Epoch 72/80\n",
      "1017/1017 [==============================] - 313s 308ms/step - loss: 0.6029 - accuracy: 0.7884\n",
      "Epoch 73/80\n",
      "1017/1017 [==============================] - 276s 271ms/step - loss: 0.6003 - accuracy: 0.7879\n",
      "Epoch 74/80\n",
      "1017/1017 [==============================] - 321s 316ms/step - loss: 0.5975 - accuracy: 0.7926\n",
      "Epoch 75/80\n",
      "1017/1017 [==============================] - 320s 315ms/step - loss: 0.5907 - accuracy: 0.7957\n",
      "Epoch 76/80\n",
      "1017/1017 [==============================] - 280s 275ms/step - loss: 0.5933 - accuracy: 0.7920\n",
      "Epoch 77/80\n",
      "1017/1017 [==============================] - 300s 295ms/step - loss: 0.5943 - accuracy: 0.7941\n",
      "Epoch 78/80\n",
      "1017/1017 [==============================] - 291s 286ms/step - loss: 0.5921 - accuracy: 0.7945\n",
      "Epoch 79/80\n",
      "1017/1017 [==============================] - 275s 271ms/step - loss: 0.5848 - accuracy: 0.7959\n",
      "Epoch 80/80\n",
      "1017/1017 [==============================] - 292s 287ms/step - loss: 0.5906 - accuracy: 0.7947\n"
     ]
    }
   ],
   "source": [
    "model = define_cnn_gru_model(word_index=word_index, \n",
    "                             max_sent_len=max_sent_len,\n",
    "                             embedding_matrix=fasttext_embedding_matrix,\n",
    "                            )\n",
    "model_name = 'cnn_gru_final'\n",
    "\n",
    "#earlystop = EarlyStopping(monitor='val_loss', min_delta=0, patience=10, verbose=0, mode='auto')\n",
    "history = model.fit(x=x_train_all_seq, \n",
    "                    y=y_train_all_en, \n",
    "                    batch_size=batch_size, \n",
    "                    epochs=epochs, \n",
    "                    verbose=1, \n",
    "#                    #validation_data=(x_valid_seq, y_valid_en),\n",
    "#                    #callbacks=[earlystop],\n",
    "                   )\n"
   ]
  },
  {
   "cell_type": "code",
   "execution_count": 604,
   "metadata": {},
   "outputs": [],
   "source": [
    "model_dict['{}_fasttext_{}'.format(model_name, epochs)] = model\n",
    "model_dict['{}_fasttext_{}'.format(model_name, epochs)].save('{}_fasttext_{}.h5'.format(model_name, epochs))\n"
   ]
  },
  {
   "cell_type": "code",
   "execution_count": 605,
   "metadata": {},
   "outputs": [
    {
     "name": "stdout",
     "output_type": "stream",
     "text": [
      "Model: \"functional_21\"\n",
      "_________________________________________________________________\n",
      "Layer (type)                 Output Shape              Param #   \n",
      "=================================================================\n",
      "input_11 (InputLayer)        [(None, 452)]             0         \n",
      "_________________________________________________________________\n",
      "embedding_64 (Embedding)     (None, 452, 300)          8100      \n",
      "_________________________________________________________________\n",
      "conv1d_48 (Conv1D)           (None, 452, 100)          120100    \n",
      "_________________________________________________________________\n",
      "max_pooling1d_48 (MaxPooling (None, 113, 100)          0         \n",
      "_________________________________________________________________\n",
      "bidirectional_10 (Bidirectio (None, 113, 120)          58320     \n",
      "_________________________________________________________________\n",
      "global_max_pooling1d_10 (Glo (None, 120)               0         \n",
      "_________________________________________________________________\n",
      "dense_130 (Dense)            (None, 50)                6050      \n",
      "_________________________________________________________________\n",
      "dropout_74 (Dropout)         (None, 50)                0         \n",
      "_________________________________________________________________\n",
      "dense_131 (Dense)            (None, 12)                612       \n",
      "=================================================================\n",
      "Total params: 193,182\n",
      "Trainable params: 185,082\n",
      "Non-trainable params: 8,100\n",
      "_________________________________________________________________\n"
     ]
    }
   ],
   "source": [
    "model_dict['{}_fasttext_{}'.format(model_name, epochs)].summary()\n"
   ]
  },
  {
   "cell_type": "code",
   "execution_count": null,
   "metadata": {},
   "outputs": [],
   "source": []
  },
  {
   "cell_type": "markdown",
   "metadata": {},
   "source": [
    "### Make the prediction on the test set\n"
   ]
  },
  {
   "cell_type": "code",
   "execution_count": 606,
   "metadata": {},
   "outputs": [],
   "source": [
    "model_name = 'cnn_gru_final'\n",
    "embedding_name = 'fasttext'\n",
    "#epochs = 60\n",
    "epochs = 80\n",
    "#epochs = 100\n",
    "\n",
    "model = load_model('{}_{}_{}.h5'.format(model_name, embedding_name, epochs))\n"
   ]
  },
  {
   "cell_type": "code",
   "execution_count": 607,
   "metadata": {},
   "outputs": [],
   "source": [
    "#predictions = model.predict_classes(x_test_seq)\n",
    "predictions = model.predict(x_test_seq)\n",
    "predictions = predictions.argmax(axis=-1)\n"
   ]
  },
  {
   "cell_type": "code",
   "execution_count": 608,
   "metadata": {},
   "outputs": [
    {
     "data": {
      "text/plain": [
       "3000"
      ]
     },
     "execution_count": 608,
     "metadata": {},
     "output_type": "execute_result"
    }
   ],
   "source": [
    "len(predictions)\n"
   ]
  },
  {
   "cell_type": "code",
   "execution_count": 609,
   "metadata": {},
   "outputs": [
    {
     "data": {
      "text/plain": [
       "array([ 6, 11,  8,  8,  4])"
      ]
     },
     "execution_count": 609,
     "metadata": {},
     "output_type": "execute_result"
    }
   ],
   "source": [
    "predictions[0:5]\n"
   ]
  },
  {
   "cell_type": "code",
   "execution_count": 610,
   "metadata": {},
   "outputs": [],
   "source": [
    "with open('ytest.txt', 'w') as f:\n",
    "    for pred in predictions:\n",
    "        f.write(\"%s\\n\" % pred)\n"
   ]
  },
  {
   "cell_type": "code",
   "execution_count": 611,
   "metadata": {},
   "outputs": [
    {
     "name": "stdout",
     "output_type": "stream",
     "text": [
      "3000\n",
      "[6, 11, 8, 8, 4]\n"
     ]
    }
   ],
   "source": [
    "# show some results in the ytest.txt\n",
    "\n",
    "y_test = []\n",
    "with open('ytest.txt') as f:\n",
    "    y_test = f.read().strip().split('\\n')\n",
    "y_test = [int(y) for y in y_test]\n",
    "print(len(y_test))\n",
    "print(y_test[0:5])\n",
    "\n",
    "\n"
   ]
  },
  {
   "cell_type": "code",
   "execution_count": null,
   "metadata": {},
   "outputs": [],
   "source": []
  },
  {
   "cell_type": "code",
   "execution_count": null,
   "metadata": {},
   "outputs": [],
   "source": []
  },
  {
   "cell_type": "markdown",
   "metadata": {},
   "source": [
    "## Conclusion\n"
   ]
  },
  {
   "cell_type": "markdown",
   "metadata": {},
   "source": [
    "Experiments show that the proposed approach (fastText + CNN + GRU) achieves around 78% accuracy on the validation set. \n",
    "The validation set consists of 20% of the data randomly selected from xtrain_obfuscated.txt.\n",
    "The rest 80% of the data is used as a training set to train the deep learning model.\n",
    "\n",
    "Based on the assumption that the sentences of train and test sets belong to the same distribution and the results of the experiments, \n",
    "I would expect the proposed approach achieves similar accuracy (around 78%) on the test set.\n",
    "\n",
    "Please note, due to the limited time available and the limited computation resources \n",
    "(the experiments were conducted on a Macbook pro 2015), \n",
    "I only trained the model with 80 epochs.\n",
    "The learning curve shows that if I increase the number of epochs, the accuracy might be higher.\n",
    "\n"
   ]
  },
  {
   "cell_type": "markdown",
   "metadata": {},
   "source": [
    "## Future work\n"
   ]
  },
  {
   "cell_type": "markdown",
   "metadata": {},
   "source": [
    "- Error analysis\n",
    "- Hyperparameter tuning\n",
    "- Find the patterns in the obfuscated text\n",
    "- Investigate other feature engineering approach for the obfuscated text\n",
    "- Using transformers\n",
    "- Balance data so that each class has the same amount of samples\n",
    "\n"
   ]
  },
  {
   "cell_type": "code",
   "execution_count": null,
   "metadata": {},
   "outputs": [],
   "source": []
  },
  {
   "cell_type": "markdown",
   "metadata": {},
   "source": [
    "## Reference\n",
    "\n"
   ]
  },
  {
   "cell_type": "markdown",
   "metadata": {},
   "source": [
    "* Deep Convolutional Neural Network for Sentiment Analysis (Text Classification)\n",
    "\n",
    "https://machinelearningmastery.com/develop-word-embedding-model-predicting-movie-review-sentiment/\n",
    "\n",
    "\n",
    "* Practical Text Classification With Python and Keras\n",
    "\n",
    "https://realpython.com/python-keras-text-classification/\n",
    "\n",
    "\n",
    "* What Are Word Embeddings for Text?\n",
    "\n",
    "https://machinelearningmastery.com/what-are-word-embeddings/\n",
    "\n",
    "\n",
    "* GloVe and fastText — Two Popular Word Vector Models in NLP\n",
    "\n",
    "https://dzone.com/articles/glove-and-fasttext-two-popular-word-vector-models\n",
    "\n",
    "\n",
    "* Using pre-trained word embeddings\n",
    "\n",
    "https://keras.io/examples/nlp/pretrained_word_embeddings/\n",
    "\n",
    "\n",
    "* How to Use Word Embedding Layers for Deep Learning with Keras\n",
    "\n",
    "https://machinelearningmastery.com/use-word-embedding-layers-deep-learning-keras/\n",
    "\n",
    "\n",
    "* A Tour of Recurrent Neural Network Algorithms for Deep Learning\n",
    "\n",
    "https://machinelearningmastery.com/recurrent-neural-network-algorithms-for-deep-learning/\n",
    "\n",
    "\n",
    "* How to Develop a Multichannel CNN Model for Text Classification\n",
    "\n",
    "https://machinelearningmastery.com/develop-n-gram-multichannel-convolutional-neural-network-sentiment-analysis/\n",
    "\n",
    "\n",
    "* Tackling Toxic Problem with Char-Gram+CNN+LSTM\n",
    "\n",
    "https://www.kaggle.com/sbongo/tackling-toxic-problem-with-char-gram-cnn-lstm\n",
    "\n",
    "\n",
    "* Best Practices for Text Classification with Deep Learning\n",
    "\n",
    "https://machinelearningmastery.com/best-practices-document-classification-deep-learning/\n",
    "\n",
    "\n",
    "* A Tour of Recurrent Neural Network Algorithms for Deep Learning\n",
    "\n",
    "https://machinelearningmastery.com/recurrent-neural-network-algorithms-for-deep-learning/\n",
    "\n",
    "\n",
    "* How to Check-Point Deep Learning Models in Keras\n",
    "\n",
    "https://machinelearningmastery.com/check-point-deep-learning-models-keras/\n",
    "\n",
    "\n",
    "* Advanced Keras — Accurately Resuming a Training Process\n",
    "\n",
    "https://towardsdatascience.com/resuming-a-training-process-with-keras-3e93152ee11a\n",
    "\n",
    "\n",
    "* Text classification with transformers in Tensorflow 2: BERT, XLNet\n",
    "\n",
    "https://atheros.ai/blog/text-classification-with-transformers-in-tensorflow-2\n",
    "\n",
    "\n"
   ]
  },
  {
   "cell_type": "code",
   "execution_count": null,
   "metadata": {},
   "outputs": [],
   "source": []
  },
  {
   "cell_type": "code",
   "execution_count": null,
   "metadata": {},
   "outputs": [],
   "source": []
  }
 ],
 "metadata": {
  "kernelspec": {
   "display_name": "Python 3",
   "language": "python",
   "name": "python3"
  },
  "language_info": {
   "codemirror_mode": {
    "name": "ipython",
    "version": 3
   },
   "file_extension": ".py",
   "mimetype": "text/x-python",
   "name": "python",
   "nbconvert_exporter": "python",
   "pygments_lexer": "ipython3",
   "version": "3.7.6"
  },
  "toc": {
   "base_numbering": 1,
   "nav_menu": {},
   "number_sections": true,
   "sideBar": true,
   "skip_h1_title": true,
   "title_cell": "Table of Contents",
   "title_sidebar": "Contents",
   "toc_cell": true,
   "toc_position": {
    "height": "calc(100% - 180px)",
    "left": "10px",
    "top": "150px",
    "width": "228px"
   },
   "toc_section_display": true,
   "toc_window_display": true
  }
 },
 "nbformat": 4,
 "nbformat_minor": 4
}
