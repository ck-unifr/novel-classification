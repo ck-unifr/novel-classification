{
 "cells": [
  {
   "cell_type": "markdown",
   "metadata": {
    "toc": true
   },
   "source": [
    "<h1>Table of Contents<span class=\"tocSkip\"></span></h1>\n",
    "<div class=\"toc\"><ul class=\"toc-item\"><li><span><a href=\"#Prepare-train,-test,-and-validation-sets\" data-toc-modified-id=\"Prepare-train,-test,-and-validation-sets-1\"><span class=\"toc-item-num\">1&nbsp;&nbsp;</span>Prepare train, test, and validation sets</a></span><ul class=\"toc-item\"><li><span><a href=\"#Exploratory-data-analysis-(EDA)\" data-toc-modified-id=\"Exploratory-data-analysis-(EDA)-1.1\"><span class=\"toc-item-num\">1.1&nbsp;&nbsp;</span>Exploratory data analysis (EDA)</a></span></li></ul></li><li><span><a href=\"#Load-embedding\" data-toc-modified-id=\"Load-embedding-2\"><span class=\"toc-item-num\">2&nbsp;&nbsp;</span>Load embedding</a></span></li><li><span><a href=\"#Prepare-features-(X)-and-labels-(Y)\" data-toc-modified-id=\"Prepare-features-(X)-and-labels-(Y)-3\"><span class=\"toc-item-num\">3&nbsp;&nbsp;</span>Prepare features (X) and labels (Y)</a></span><ul class=\"toc-item\"><li><span><a href=\"#Tokenization-and-padding\" data-toc-modified-id=\"Tokenization-and-padding-3.1\"><span class=\"toc-item-num\">3.1&nbsp;&nbsp;</span>Tokenization and padding</a></span></li><li><span><a href=\"#Creating-an-embedding-matrix\" data-toc-modified-id=\"Creating-an-embedding-matrix-3.2\"><span class=\"toc-item-num\">3.2&nbsp;&nbsp;</span>Creating an embedding matrix</a></span></li><li><span><a href=\"#Encoding-the-labels\" data-toc-modified-id=\"Encoding-the-labels-3.3\"><span class=\"toc-item-num\">3.3&nbsp;&nbsp;</span>Encoding the labels</a></span></li></ul></li><li><span><a href=\"#Model-Evaluation\" data-toc-modified-id=\"Model-Evaluation-4\"><span class=\"toc-item-num\">4&nbsp;&nbsp;</span>Model Evaluation</a></span><ul class=\"toc-item\"><li><span><a href=\"#Parameters\" data-toc-modified-id=\"Parameters-4.1\"><span class=\"toc-item-num\">4.1&nbsp;&nbsp;</span>Parameters</a></span></li><li><span><a href=\"#GRU\" data-toc-modified-id=\"GRU-4.2\"><span class=\"toc-item-num\">4.2&nbsp;&nbsp;</span>GRU</a></span><ul class=\"toc-item\"><li><span><a href=\"#Define-the-model\" data-toc-modified-id=\"Define-the-model-4.2.1\"><span class=\"toc-item-num\">4.2.1&nbsp;&nbsp;</span>Define the model</a></span></li><li><span><a href=\"#Train-the-model\" data-toc-modified-id=\"Train-the-model-4.2.2\"><span class=\"toc-item-num\">4.2.2&nbsp;&nbsp;</span>Train the model</a></span></li><li><span><a href=\"#Save-the-model\" data-toc-modified-id=\"Save-the-model-4.2.3\"><span class=\"toc-item-num\">4.2.3&nbsp;&nbsp;</span>Save the model</a></span></li></ul></li><li><span><a href=\"#Character-level-CNN\" data-toc-modified-id=\"Character-level-CNN-4.3\"><span class=\"toc-item-num\">4.3&nbsp;&nbsp;</span>Character-level CNN</a></span><ul class=\"toc-item\"><li><span><a href=\"#Define-the-model\" data-toc-modified-id=\"Define-the-model-4.3.1\"><span class=\"toc-item-num\">4.3.1&nbsp;&nbsp;</span>Define the model</a></span></li><li><span><a href=\"#Train-the-model\" data-toc-modified-id=\"Train-the-model-4.3.2\"><span class=\"toc-item-num\">4.3.2&nbsp;&nbsp;</span>Train the model</a></span></li><li><span><a href=\"#Save-the-model\" data-toc-modified-id=\"Save-the-model-4.3.3\"><span class=\"toc-item-num\">4.3.3&nbsp;&nbsp;</span>Save the model</a></span></li></ul></li><li><span><a href=\"#Transformer-(TODO)\" data-toc-modified-id=\"Transformer-(TODO)-4.4\"><span class=\"toc-item-num\">4.4&nbsp;&nbsp;</span>Transformer (TODO)</a></span></li></ul></li><li><span><a href=\"#Make-the-prediction-on-the-test-set\" data-toc-modified-id=\"Make-the-prediction-on-the-test-set-5\"><span class=\"toc-item-num\">5&nbsp;&nbsp;</span>Make the prediction on the test set</a></span><ul class=\"toc-item\"><li><span><a href=\"#Train-the-model-on-whole-trainig-set\" data-toc-modified-id=\"Train-the-model-on-whole-trainig-set-5.1\"><span class=\"toc-item-num\">5.1&nbsp;&nbsp;</span>Train the model on whole trainig set</a></span></li><li><span><a href=\"#Make-the-prediction-on-the-test-set\" data-toc-modified-id=\"Make-the-prediction-on-the-test-set-5.2\"><span class=\"toc-item-num\">5.2&nbsp;&nbsp;</span>Make the prediction on the test set</a></span></li></ul></li></ul></div>"
   ]
  },
  {
   "cell_type": "code",
   "execution_count": null,
   "metadata": {},
   "outputs": [],
   "source": []
  },
  {
   "cell_type": "markdown",
   "metadata": {},
   "source": [
    " \n",
    "Which Novel Do I Belong To?\n",
    "\n",
    "In this task, you are expected to learn a Machine Learning model that classifies a given line as belonging to one of the following 12 novels:\n",
    "\n",
    "0: alice_in_wonderland\n",
    "1: dracula\n",
    "2: dubliners\n",
    "3: great_expectations\n",
    "4: hard_times\n",
    "5: huckleberry_finn\n",
    "6: les_miserable\n",
    "7: moby_dick\n",
    "8: oliver_twist\n",
    "9: peter_pan\n",
    "10: talw_of_two_cities\n",
    "11: tom_sawyer\n",
    "\n",
    "\n",
    "Description:\n",
    "\n",
    "You are provided with a zip file (offline_challenge.zip) containing three text files - xtrain.txt, ytrain.txt, xtest.txt. Each line in xtrain.txt and xtest.txt comes from a different novel. The data has been obfuscated, however the patterns in them are preserved. The novel ids corresponding to xtrain.txt are specified in ytrain.txt. You can use these labels to train a Machine Learning model (Deep Learning preferred).\n",
    "\n",
    "With the learned model, predict the novel ids of the lines in xtest.txt (one prediction per line). As part of your submission, include\n",
    "\n",
    "a) your predictions (in the same format as ytrain.txt)\n",
    "b) Expected accuracy on the test set\n",
    "c) the source code for training and prediction (< 10MB)\n",
    "d) a brief description of your method (optional)\n"
   ]
  },
  {
   "cell_type": "code",
   "execution_count": null,
   "metadata": {},
   "outputs": [],
   "source": []
  },
  {
   "cell_type": "code",
   "execution_count": 236,
   "metadata": {},
   "outputs": [],
   "source": [
    "from matplotlib import pyplot\n",
    "\n",
    "\n",
    "import numpy as np # linear algebra\n",
    "from numpy import genfromtxt\n",
    "import pandas as pd # data processing, CSV file I/O (e.g. pd.read_csv)\n",
    "\n",
    "from sklearn.model_selection import train_test_split\n",
    "from sklearn import metrics\n",
    "from sklearn.metrics import classification_report\n",
    "from sklearn.preprocessing import OneHotEncoder\n",
    "\n",
    "import keras\n",
    "from keras.models import Model, load_model, Sequential\n",
    "from keras.layers import Dense, Input, Dropout, MaxPooling1D, Conv1D, GlobalMaxPool1D, Bidirectional\n",
    "from keras.layers import LSTM, Lambda, Bidirectional, concatenate, BatchNormalization, Embedding\n",
    "from keras.layers import Reshape, RepeatVector\n",
    "from keras.layers import TimeDistributed\n",
    "from keras.optimizers import Adam\n",
    "from keras.callbacks import ModelCheckpoint,EarlyStopping\n",
    "import tensorflow as tf\n",
    "import keras.backend as K\n",
    "from keras.models import load_model\n",
    "\n",
    "import IPython\n",
    "from IPython.display import SVG\n",
    "from keras.utils.vis_utils import model_to_dot\n",
    "\n",
    "\n"
   ]
  },
  {
   "cell_type": "code",
   "execution_count": 2,
   "metadata": {},
   "outputs": [],
   "source": [
    "path = '../offline_challenge/'\n",
    "\n",
    "x_train_file = path + 'xtrain_obfuscated.txt'\n",
    "y_train_file = path + 'ytrain.txt'\n",
    "x_test_file = path + 'xtest_obfuscated.txt'\n"
   ]
  },
  {
   "cell_type": "code",
   "execution_count": 53,
   "metadata": {},
   "outputs": [],
   "source": [
    "with open(x_train_file) as f:\n",
    "    xtrain_obfuscated = f.read().strip().lower().split('\\n')\n",
    "    \n",
    "with open(y_train_file) as f:\n",
    "    ytrain = f.read().strip().split('\\n')\n",
    "for i in range(len(ytrain)):\n",
    "    ytrain[i] = int(ytrain[i])\n",
    "\n",
    "with open(x_test_file) as f:\n",
    "    xtest_obfuscated = f.read().strip().lower().split('\\n')\n",
    "    \n",
    "    "
   ]
  },
  {
   "cell_type": "code",
   "execution_count": 54,
   "metadata": {},
   "outputs": [
    {
     "data": {
      "image/png": "[encoded data removed]",
      "text/plain": [
       "<Figure size 432x288 with 1 Axes>"
      ]
     },
     "metadata": {
      "needs_background": "light"
     },
     "output_type": "display_data"
    },
    {
     "data": {
      "text/plain": [
       "\"\\nThe data set appears to be imbalanced as class '0' is represented by very few data points as compared\\nto class 7 or class 6\\n\\n\""
      ]
     },
     "execution_count": 54,
     "metadata": {},
     "output_type": "execute_result"
    }
   ],
   "source": [
    "import matplotlib.pyplot as plt\n",
    "import seaborn as sns\n",
    "%matplotlib inline\n",
    "\n",
    "plt.hist(ytrain, bins=range(min(ytrain), max(ytrain) + 1, 1),\n",
    "              alpha=1, color=\"blue\")\n",
    "plt.xlabel(\"novel\")\n",
    "plt.ylabel(\"quantity\")\n",
    "plt.title(\"comparing number of train data in each class\")\n",
    "plt.show()\n",
    "'''\n",
    "The data set appears to be imbalanced as class '0' is represented by very few data points as compared\n",
    "to class 7 or class 6\n",
    "\n",
    "'''\n",
    "\n"
   ]
  },
  {
   "cell_type": "code",
   "execution_count": 57,
   "metadata": {},
   "outputs": [
    {
     "data": {
      "image/png": "[encoded data removed]",
      "text/plain": [
       "<Figure size 432x288 with 1 Axes>"
      ]
     },
     "metadata": {
      "needs_background": "light"
     },
     "output_type": "display_data"
    }
   ],
   "source": [
    "# Length of train and test data distribution\n",
    "\n",
    "sentence_lengths_train = [ len(sent) for sent in xtrain_obfuscated]\n",
    "sentence_lengths_test = [ len(sent) for sent in xtest_obfuscated]\n",
    "\n",
    "plt.hist(sentence_lengths_train, bins=range(min(sentence_lengths_train), max(sentence_lengths_train) + 1, 10), \n",
    "              alpha=0.4, color=\"blue\", density=True)\n",
    "plt.hist(sentence_lengths_test, bins=range(min(sentence_lengths_test), max(sentence_lengths_test) + 1, 10),\n",
    "              alpha=0.4, color=\"red\", density=True)\n",
    "labels = ['Train',\"Test\"]\n",
    "plt.legend(labels)\n",
    "plt.xlabel(\"length of sentence\")\n",
    "plt.ylabel(\"proportion\")\n",
    "plt.title(\"comparing number of characters per sentence distribution in Train and Test\")\n",
    "plt.show()\n"
   ]
  },
  {
   "cell_type": "code",
   "execution_count": 75,
   "metadata": {},
   "outputs": [],
   "source": [
    "with open(x_train_file) as f:\n",
    "    x_train = f.read().split('\\n')\n",
    "x_train = x_train[:-1]\n",
    "\n",
    "with open(y_train_file) as f:\n",
    "    y_train = f.read().split('\\n')\n",
    "y_train = [int(y) for y in y_train if y.isdigit()] \n"
   ]
  },
  {
   "cell_type": "code",
   "execution_count": 79,
   "metadata": {},
   "outputs": [],
   "source": [
    "max_char = 26\n",
    "max_sent_len = 0\n",
    "for sent in x_train:\n",
    "    max_sent_len = max(max_sent_len, len(sent))\n",
    "\n",
    "\n"
   ]
  },
  {
   "cell_type": "code",
   "execution_count": 93,
   "metadata": {},
   "outputs": [],
   "source": [
    "y_train = np.asarray(y_train)\n",
    "y_train = y_train.reshape(-1,1)\n"
   ]
  },
  {
   "cell_type": "code",
   "execution_count": 94,
   "metadata": {},
   "outputs": [],
   "source": [
    "#One hot encoding for labels\n",
    "y_train = OneHotEncoder(sparse=False).fit_transform(y_train)\n",
    "\n"
   ]
  },
  {
   "cell_type": "code",
   "execution_count": null,
   "metadata": {},
   "outputs": [],
   "source": [
    "# One hot feature generation\n",
    "# MaxLen = 452. \n",
    "# Other sentences are 0 padded\n",
    "x_train_onehot = []\n",
    "\n",
    "for i in range(len(x_train)):\n",
    "    temp = np.zeros((max_sent_len, max_char))\n",
    "    for j in range(len(x_train[i])):\n",
    "        temp[j][ord(x_train[i][j]) - ord('a')] = 1\n",
    "    x_train_onehot.append(temp)\n",
    "    \n",
    "x_train_onehot = np.asarray(x_train_onehot)\n",
    "\n",
    "x_train_onehot = x_train_onehot.reshape((x_train_onehot.shape[0], \n",
    "                                         x_train_onehot.shape[1], \n",
    "                                         x_train_onehot.shape[2], \n",
    "                                         1))\n",
    "\n"
   ]
  },
  {
   "cell_type": "code",
   "execution_count": 96,
   "metadata": {},
   "outputs": [
    {
     "data": {
      "text/plain": [
       "97"
      ]
     },
     "execution_count": 96,
     "metadata": {},
     "output_type": "execute_result"
    }
   ],
   "source": []
  },
  {
   "cell_type": "code",
   "execution_count": null,
   "metadata": {},
   "outputs": [],
   "source": []
  },
  {
   "cell_type": "code",
   "execution_count": null,
   "metadata": {},
   "outputs": [],
   "source": []
  },
  {
   "cell_type": "markdown",
   "metadata": {},
   "source": [
    "## Prepare train, test, and validation sets\n"
   ]
  },
  {
   "cell_type": "code",
   "execution_count": 154,
   "metadata": {},
   "outputs": [],
   "source": [
    "with open(x_train_file) as f:\n",
    "    x_train_all = f.read().strip().lower().split('\\n')\n",
    "    \n",
    "with open(y_train_file) as f:\n",
    "    y_train = f.read().strip().split('\\n')\n",
    "for i in range(len(ytrain)):\n",
    "    y_train[i] = int(ytrain[i])\n",
    "\n",
    "with open(x_test_file) as f:\n",
    "    x_test = f.read().strip().lower().split('\\n')\n",
    "    \n",
    "    "
   ]
  },
  {
   "cell_type": "code",
   "execution_count": null,
   "metadata": {},
   "outputs": [],
   "source": []
  },
  {
   "cell_type": "code",
   "execution_count": null,
   "metadata": {},
   "outputs": [],
   "source": []
  },
  {
   "cell_type": "code",
   "execution_count": null,
   "metadata": {},
   "outputs": [],
   "source": []
  },
  {
   "cell_type": "markdown",
   "metadata": {},
   "source": [
    "### Exploratory data analysis (EDA)\n"
   ]
  },
  {
   "cell_type": "code",
   "execution_count": null,
   "metadata": {},
   "outputs": [],
   "source": []
  },
  {
   "cell_type": "code",
   "execution_count": 155,
   "metadata": {},
   "outputs": [],
   "source": [
    "x_train, x_valid, y_train, y_valid = train_test_split(x_train_all, y_train, test_size=0.2, random_state=42)\n"
   ]
  },
  {
   "cell_type": "code",
   "execution_count": null,
   "metadata": {},
   "outputs": [],
   "source": []
  },
  {
   "cell_type": "markdown",
   "metadata": {},
   "source": [
    "## Load embedding\n",
    "\n",
    "https://blog.keras.io/using-pre-trained-word-embeddings-in-a-keras-model.html\n",
    "\n",
    "\n",
    "- Fast text\n"
   ]
  },
  {
   "cell_type": "code",
   "execution_count": 217,
   "metadata": {},
   "outputs": [],
   "source": [
    "def get_embedding(embedding_file):\n",
    "    embedding_dict = {}\n",
    "    with open(embedding_file) as f:\n",
    "        for line in tqdm(f):\n",
    "            values = line.split()\n",
    "            word = values[0]\n",
    "            embedding_dict[word] = np.asarray(values[1:], dtype='float32')\n",
    "    return embedding_dict\n",
    "\n"
   ]
  },
  {
   "cell_type": "code",
   "execution_count": 218,
   "metadata": {},
   "outputs": [
    {
     "name": "stderr",
     "output_type": "stream",
     "text": [
      "400000it [00:35, 11409.46it/s]\n",
      "1999996it [02:52, 11590.40it/s]\n"
     ]
    }
   ],
   "source": [
    "#glove_path = '../glove.6B.300d.txt'\n",
    "#glove_path = '../glove.840B.300d.txt'\n",
    "#glove_embedding = {}\n",
    "#glove_embedding = get_embedding(glove_path)\n",
    "\n",
    "#fasttext_path = '../wiki-news-300d-1M.vec'\n",
    "fasttext_path = '../crawl-300d-2M.vec'\n",
    "fasttext_embedding = {}\n",
    "fasttext_embedding = get_embedding(fasttext_path)\n"
   ]
  },
  {
   "cell_type": "code",
   "execution_count": null,
   "metadata": {},
   "outputs": [],
   "source": []
  },
  {
   "cell_type": "code",
   "execution_count": null,
   "metadata": {},
   "outputs": [],
   "source": []
  },
  {
   "cell_type": "markdown",
   "metadata": {},
   "source": [
    "## Prepare features (X) and labels (Y)\n",
    "\n"
   ]
  },
  {
   "cell_type": "markdown",
   "metadata": {},
   "source": [
    "### Tokenization and padding\n"
   ]
  },
  {
   "cell_type": "code",
   "execution_count": 219,
   "metadata": {},
   "outputs": [],
   "source": [
    "\n",
    "max_features = None\n",
    "token = text.Tokenizer(num_words=max_features, char_level=True)\n",
    "\n",
    "token.fit_on_texts(list(x_train_all) + list(x_test))\n",
    "x_train_seq = token.texts_to_sequences(x_train)\n",
    "x_train_all_seq = token.texts_to_sequences(x_train_all)\n",
    "x_valid_seq = token.texts_to_sequences(x_valid)\n",
    "x_test_seq = token.texts_to_sequences(x_test)\n",
    "\n",
    "# zero pad the sequences\n",
    "#max_sent_len = 200\n",
    "max_sent_len = max([len(sent) for sent in x_train_all])\n",
    "x_train_seq = sequence.pad_sequences(x_train_seq, maxlen=max_sent_len)\n",
    "x_train_all_seq = sequence.pad_sequences(x_train_all_seq, maxlen=max_sent_len)\n",
    "x_valid_seq = sequence.pad_sequences(x_valid_seq, maxlen=max_sent_len)\n",
    "x_test_seq = sequence.pad_sequences(x_test_seq, maxlen=max_sent_len)\n",
    "\n",
    "word_index = token.word_index\n"
   ]
  },
  {
   "cell_type": "code",
   "execution_count": 220,
   "metadata": {},
   "outputs": [
    {
     "name": "stdout",
     "output_type": "stream",
     "text": [
      "26010\n",
      "6503\n",
      "3000\n",
      "452\n",
      "[ 0  0  0  0  0  0  0  0  0  0  0  0  0  0  0  0  0  0  0  0  0  0  0  0\n",
      "  0  0  0  0  0  0  0  0 15 12  4  9  5 14 12 17  1  2 13 17 15 12  8  7\n",
      "  6  5  8  7 15 12  3  4 13  4  4  9 10  3 21 10  1  2  8  7 11  3 13  4\n",
      "  1  2  9 25 13 17  8  7  4  9 10  3  1  2 10  3  1  6  4  9  3  4  1  2\n",
      "  1  6  8  7  6 16  1  2  9  7  9  7  3  4 19 20  1  2  8  7 11  3 22 21\n",
      " 12 17  1  2  1  2 16 11  1  6 13  4  8  7 12 16 15 18  8  7  6  5  1  2\n",
      "  1  6  5 14  8  7  6  5  6 16  1  2  4  9  3  4  1  2  8  7  6  5  8  7\n",
      " 19 20  1  2 11  3 21 10  3  4 11  3 19 20  1  2 13 17 13  4  8  7 11  3\n",
      " 21 10  5 14 10  3 21 10  1  2  6 16  4  9  3  4  1  6  3  4  5 14 19 20\n",
      "  1  2  8  7 11  3  1  6  1  2 13  4 15 12  6  5  5 14 19 20 10  3  1  6\n",
      "  1  2 13  4  8  7 15 11  8  7  1  2 15 12  8  7  1  6 21 10  5 14  6  5\n",
      "  1  6 13  4  3  4 15 12  1  2  6  5  8  7 11  3  1  2 15 12  8  7  4  9\n",
      "  6  5 12 16  1  6  1  2  1  6  3  4 13  4  6  5  5 14 17 18 22 21  1  2\n",
      " 16 11 13  4  6  5 13 25  1  2 13 17  6 16  4  9  3  4  1  6 11  3  6 16\n",
      "  3  4  9  7  5 14  1  2 22  5 10  3  1  2  1  6  4  9  5 14  1  6 13  4\n",
      "  4  9  3  4  1  2  1  6 13  4  6  5  3  4 22  5  1  2  8  7 11  3  1  6\n",
      "  1  2  4  9  9 17  1  2  1  2 16 11  6  5  8  7  1  6  5 14 19 20  1  2\n",
      "  6  5  8  7 15 12  4  9 12 16  1  2  8  7  6  5  8  7 19 20  1  2 13  4\n",
      "  1  6  8  7  8  7  6  5  1  6 13  4  1  2 15 12  4  9  5 14]\n",
      "{'u': 1, 'h': 2, 'm': 3, 'v': 4, 'e': 5, 'l': 6, 'w': 7, 't': 8, 'i': 9, 'p': 10, 'a': 11, 'k': 12, 'q': 13, 'n': 14, 's': 15, 'r': 16, 'g': 17, 'z': 18, 'd': 19, 'f': 20, 'y': 21, 'x': 22, 'c': 23, 'o': 24, 'j': 25, 'b': 26}\n"
     ]
    }
   ],
   "source": [
    "print(len(x_train_seq))\n",
    "print(len(x_valid_seq))\n",
    "print(len(x_test_seq))\n",
    "\n",
    "print(len(x_train_seq[0]))\n",
    "\n",
    "print(x_train_seq[0])\n",
    "print(word_index)\n"
   ]
  },
  {
   "cell_type": "code",
   "execution_count": null,
   "metadata": {},
   "outputs": [],
   "source": []
  },
  {
   "cell_type": "markdown",
   "metadata": {},
   "source": [
    "### Creating an embedding matrix\n"
   ]
  },
  {
   "cell_type": "code",
   "execution_count": 221,
   "metadata": {},
   "outputs": [],
   "source": [
    "embedding_len=300\n"
   ]
  },
  {
   "cell_type": "code",
   "execution_count": 222,
   "metadata": {},
   "outputs": [],
   "source": [
    "# embedding matrix\n",
    "def get_embedding_matrix(embedding, \n",
    "                         word_index, \n",
    "                         embedding_len=300):\n",
    "    embedding_matrix = np.zeros((len(word_index) + 1, embedding_len))\n",
    "    for word, i in tqdm(word_index.items()):\n",
    "        embedding_vector = embedding.get(word)\n",
    "        if embedding_vector is not None:\n",
    "            embedding_matrix[i] = embedding_vector\n",
    "    return embedding_matrix\n",
    "        \n",
    "    "
   ]
  },
  {
   "cell_type": "code",
   "execution_count": 223,
   "metadata": {},
   "outputs": [
    {
     "name": "stderr",
     "output_type": "stream",
     "text": [
      "100%|██████████| 26/26 [00:00<00:00, 11339.49it/s]\n"
     ]
    }
   ],
   "source": [
    "\n",
    "fasttext_embedding_matrix = get_embedding_matrix(embedding=fasttext_embedding,\n",
    "                                                 word_index=word_index,\n",
    "                                                 embedding_len=embedding_len,\n",
    "                                                )\n"
   ]
  },
  {
   "cell_type": "code",
   "execution_count": 224,
   "metadata": {},
   "outputs": [
    {
     "name": "stderr",
     "output_type": "stream",
     "text": [
      "100%|██████████| 26/26 [00:00<00:00, 1621.88it/s]\n"
     ]
    }
   ],
   "source": [
    "glove_embedding_matrix = get_embedding_matrix(embedding=glove_embedding,\n",
    "                                              word_index=word_index,\n",
    "                                              embedding_len=embedding_len,\n",
    "                                             )\n"
   ]
  },
  {
   "cell_type": "markdown",
   "metadata": {},
   "source": [
    "### Encoding the labels\n"
   ]
  },
  {
   "cell_type": "code",
   "execution_count": 225,
   "metadata": {},
   "outputs": [],
   "source": [
    "\n",
    "y_train_en = np_utils.to_categorical((y_train))\n",
    "y_train_all_en = np_utils.to_categorical((y_train_all))\n",
    "y_valid_en = np_utils.to_categorical((y_valid))\n",
    "\n"
   ]
  },
  {
   "cell_type": "code",
   "execution_count": null,
   "metadata": {},
   "outputs": [],
   "source": []
  },
  {
   "cell_type": "code",
   "execution_count": 230,
   "metadata": {},
   "outputs": [],
   "source": [
    "def plot_confusion_matrix(y_test, y_pred):\n",
    "    confusion_mtx = confusion_matrix(y_test, y_pred) \n",
    "    f,ax = plt.subplots(figsize=(8, 8))\n",
    "    sns.heatmap(confusion_mtx, annot=True, linewidths=0.01, cmap=\"Greens\", linecolor=\"gray\", fmt= '.1f',ax=ax)\n",
    "    plt.xlabel(\"Predicted Label\")\n",
    "    plt.ylabel(\"True Label\")\n",
    "    plt.title(\"Confusion Matrix\")\n",
    "    plt.show()\n",
    "    return\n",
    "\n",
    "def plot_learning_curves(history):\n",
    "    # plot loss\n",
    "    pyplot.subplot(211)\n",
    "    pyplot.title('Loss')\n",
    "    pyplot.plot(history.history['loss'], color='blue', label='train')\n",
    "    pyplot.plot(history.history['val_loss'], color='orange', label='test')\n",
    "\n",
    "    # plot accuracy\n",
    "    pyplot.subplot(212)\n",
    "    pyplot.title('Accuracy')\n",
    "    pyplot.plot(history.history['acc'], color='blue', label='train')\n",
    "    pyplot.plot(history.history['val_acc'], color='orange', label='test')\n",
    "    pyplot.show()\n",
    "    \n",
    "    # save plot to file\n",
    "    #filename = sys.argv[0].split('/')[-1]\n",
    "    #pyplot.savefig(filename + '_plot.png')\n",
    "    #pyplot.close()\n",
    "    #image = imread(filename + '_plot.png')\n",
    "    #pyplot.figure(figsize=(10, 25))\n",
    "    #pyplot.imshow(image)\n",
    "    return \n"
   ]
  },
  {
   "cell_type": "code",
   "execution_count": null,
   "metadata": {},
   "outputs": [],
   "source": []
  },
  {
   "cell_type": "markdown",
   "metadata": {},
   "source": [
    "## Model Evaluation\n",
    "\n"
   ]
  },
  {
   "cell_type": "markdown",
   "metadata": {},
   "source": [
    "### Parameters\n"
   ]
  },
  {
   "cell_type": "code",
   "execution_count": 232,
   "metadata": {},
   "outputs": [],
   "source": [
    "n_classes = 12\n",
    "batch_size = 32\n",
    "epochs = 100\n",
    "\n",
    "model_dict = {}\n"
   ]
  },
  {
   "cell_type": "markdown",
   "metadata": {},
   "source": [
    "### GRU\n",
    "\n",
    "- Fast text\n"
   ]
  },
  {
   "cell_type": "markdown",
   "metadata": {},
   "source": [
    "#### Define the model"
   ]
  },
  {
   "cell_type": "code",
   "execution_count": 273,
   "metadata": {},
   "outputs": [],
   "source": [
    "def define_gru_model(word_index, \n",
    "                     max_sent_len, \n",
    "                     embedding_matrix,\n",
    "                    ):\n",
    "    \n",
    "    model = Sequential()\n",
    "    model.add(Embedding(len(word_index) + 1,\n",
    "                         embedding_matrix.shape[1],\n",
    "                         weights=[embedding_matrix],\n",
    "                         input_length=max_sent_len,\n",
    "                         trainable=False))\n",
    "    model.add(SpatialDropout1D(0.3))\n",
    "    model.add(GRU(100, dropout=0.3, recurrent_dropout=0.3))\n",
    "    #model.add(GRU(100, dropout=0.3, recurrent_dropout=0.3, return_sequences=True))\n",
    "    #model.add(GRU(100, dropout=0.3, recurrent_dropout=0.3))\n",
    "    #model.add(LSTM(100, dropout=0.3, recurrent_dropout=0.3))\n",
    "\n",
    "    model.add(Dense(128, activation='relu'))\n",
    "    model.add(Dropout(0.5))\n",
    "\n",
    "    model.add(Dense(n_classes))\n",
    "    model.add(Activation('softmax'))\n",
    "    model.compile(loss='categorical_crossentropy', optimizer='adam', metrics=['acc'])\n",
    "\n",
    "    return model\n"
   ]
  },
  {
   "cell_type": "markdown",
   "metadata": {},
   "source": [
    "#### Train the model\n"
   ]
  },
  {
   "cell_type": "code",
   "execution_count": null,
   "metadata": {},
   "outputs": [
    {
     "name": "stdout",
     "output_type": "stream",
     "text": [
      "Epoch 1/100\n",
      "790/813 [============================>.] - ETA: 14s - loss: 2.2890 - acc: 0.1820"
     ]
    }
   ],
   "source": [
    "\n",
    "model = define_gru_model(word_index=word_index, \n",
    "                         max_sent_len=max_sent_len, \n",
    "                         embedding_matrix=fasttext_embedding_matrix,\n",
    "                        )\n",
    "\n",
    "# Fit the model with early stopping callback\n",
    "#earlystop = EarlyStopping(monitor='val_loss', min_delta=0, patience=3, verbose=0, mode='auto')\n",
    "\n",
    "history = model.fit(x=x_train_seq, \n",
    "                    y=y_train_en, \n",
    "                    batch_size=batch_size, \n",
    "                    epochs=epochs, \n",
    "                    verbose=1, \n",
    "                    validation_data=(x_valid_seq, y_valid_en),\n",
    "                    #callbacks=[earlystop],\n",
    "                   )\n",
    "\n",
    "plot_learning_curves(history)\n",
    "\n",
    "model_dict['gru_fasttext'] = model\n"
   ]
  },
  {
   "cell_type": "markdown",
   "metadata": {},
   "source": [
    "#### Save the model\n"
   ]
  },
  {
   "cell_type": "code",
   "execution_count": null,
   "metadata": {},
   "outputs": [],
   "source": [
    "model_dict['gru_fasttext'].save('gru_fasttext_{}.h5'.format(epochs))\n"
   ]
  },
  {
   "cell_type": "code",
   "execution_count": null,
   "metadata": {},
   "outputs": [],
   "source": []
  },
  {
   "cell_type": "markdown",
   "metadata": {},
   "source": [
    "### Character-level CNN\n",
    "\n",
    "- Fast text\n",
    "\n",
    "https://www.kaggle.com/kmader/character-level-cnn-classification-with-dilations\n",
    "\n",
    "https://machinelearningmastery.com/best-practices-document-classification-deep-learning/\n",
    "\n",
    "* Don’t Use Dropout in Convolutional Networks\n",
    "\n",
    "https://www.kdnuggets.com/2018/09/dropout-convolutional-networks.html\n"
   ]
  },
  {
   "cell_type": "markdown",
   "metadata": {},
   "source": [
    "#### Define the model\n"
   ]
  },
  {
   "cell_type": "code",
   "execution_count": null,
   "metadata": {},
   "outputs": [],
   "source": [
    "def define_cnn_model(word_index, \n",
    "                     max_sent_len,\n",
    "                     embedding_matrix,\n",
    "                    ):\n",
    "    model = Sequential()\n",
    "\n",
    "    model.add(Embedding(len(word_index) + 1,\n",
    "                         embedding_matrix.shape[1],\n",
    "                         weights=[embedding_matrix],\n",
    "                         input_length=max_sent_len,\n",
    "                         trainable=False)\n",
    "    model.add(Dropout(0.3))\n",
    "\n",
    "    # add a Convolution1D, which will learn filters\n",
    "    # word group filters of size filter_length:\n",
    "    model.add(Conv1D(128,\n",
    "                     5,\n",
    "                     activation='relu'))\n",
    "    model.add(BatchNormalization())\n",
    "    model.add(MaxPooling1D(5))\n",
    "    model.add(Conv1D(128,\n",
    "                     5,\n",
    "                     activation='relu'))\n",
    "    model.add(MaxPooling1D(5))\n",
    "    model.add(BatchNormalization())\n",
    "    model.add(Conv1D(128,\n",
    "                     5,\n",
    "                     activation='relu'))\n",
    "    model.add(BatchNormalization())\n",
    "    model.add(MaxPooling1D(3))\n",
    "    model.add(BatchNormalization())\n",
    "    model.add(Flatten())\n",
    "    model.add(Dense(128, activation='relu'))\n",
    "    model.add(Dropout(0.5))\n",
    "\n",
    "    model.add(Dense(n_classes, activation='softmax'))\n",
    "\n",
    "    model.compile(loss='categorical_crossentropy',\n",
    "                  optimizer='adam',\n",
    "                  metrics=['acc'])\n",
    "    \n",
    "    return model\n",
    "    \n",
    "    "
   ]
  },
  {
   "cell_type": "code",
   "execution_count": null,
   "metadata": {},
   "outputs": [],
   "source": []
  },
  {
   "cell_type": "markdown",
   "metadata": {},
   "source": [
    "#### Train the model\n"
   ]
  },
  {
   "cell_type": "code",
   "execution_count": 234,
   "metadata": {},
   "outputs": [
    {
     "name": "stdout",
     "output_type": "stream",
     "text": [
      "Epoch 1/100\n",
      "813/813 [==============================] - 112s 137ms/step - loss: 2.2859 - acc: 0.1927 - val_loss: 2.1573 - val_acc: 0.2064\n",
      "Epoch 2/100\n",
      "813/813 [==============================] - 110s 135ms/step - loss: 2.0270 - acc: 0.2713 - val_loss: 2.2138 - val_acc: 0.2313\n",
      "Epoch 3/100\n",
      "813/813 [==============================] - 114s 140ms/step - loss: 1.7362 - acc: 0.3904 - val_loss: 1.7269 - val_acc: 0.3874\n",
      "Epoch 4/100\n",
      "813/813 [==============================] - 116s 142ms/step - loss: 1.5079 - acc: 0.4792 - val_loss: 2.3386 - val_acc: 0.3480\n",
      "Epoch 5/100\n",
      "813/813 [==============================] - 108s 133ms/step - loss: 1.3610 - acc: 0.5320 - val_loss: 1.3003 - val_acc: 0.5308\n",
      "Epoch 6/100\n",
      "813/813 [==============================] - 106s 130ms/step - loss: 1.2522 - acc: 0.5696 - val_loss: 1.6830 - val_acc: 0.4822\n",
      "Epoch 7/100\n",
      "813/813 [==============================] - 105s 130ms/step - loss: 1.1643 - acc: 0.5992 - val_loss: 1.7114 - val_acc: 0.4730\n",
      "Epoch 8/100\n",
      "813/813 [==============================] - 105s 129ms/step - loss: 1.0774 - acc: 0.6291 - val_loss: 2.3615 - val_acc: 0.4030\n",
      "Epoch 9/100\n",
      "813/813 [==============================] - 104s 128ms/step - loss: 0.9903 - acc: 0.6602 - val_loss: 1.8906 - val_acc: 0.4772\n",
      "Epoch 10/100\n",
      "813/813 [==============================] - 105s 129ms/step - loss: 0.9284 - acc: 0.6829 - val_loss: 1.2281 - val_acc: 0.5863\n",
      "Epoch 11/100\n",
      "813/813 [==============================] - 106s 131ms/step - loss: 0.8736 - acc: 0.7020 - val_loss: 1.7809 - val_acc: 0.5125\n",
      "Epoch 12/100\n",
      "813/813 [==============================] - 106s 131ms/step - loss: 0.7859 - acc: 0.7317 - val_loss: 1.4131 - val_acc: 0.5933\n",
      "Epoch 13/100\n",
      "813/813 [==============================] - 104s 128ms/step - loss: 0.7259 - acc: 0.7552 - val_loss: 1.2320 - val_acc: 0.6242\n",
      "Epoch 14/100\n",
      "813/813 [==============================] - 101s 124ms/step - loss: 0.6669 - acc: 0.7727 - val_loss: 1.4786 - val_acc: 0.5988\n",
      "Epoch 15/100\n",
      "813/813 [==============================] - 103s 127ms/step - loss: 0.6136 - acc: 0.7887 - val_loss: 1.7066 - val_acc: 0.5911\n",
      "Epoch 16/100\n",
      "813/813 [==============================] - 107s 131ms/step - loss: 0.5651 - acc: 0.8073 - val_loss: 2.4923 - val_acc: 0.4968\n",
      "Epoch 17/100\n",
      "813/813 [==============================] - 112s 137ms/step - loss: 0.5211 - acc: 0.8251 - val_loss: 2.3218 - val_acc: 0.5121\n",
      "Epoch 18/100\n",
      "813/813 [==============================] - 113s 139ms/step - loss: 0.4750 - acc: 0.8380 - val_loss: 1.8431 - val_acc: 0.5811\n",
      "Epoch 19/100\n",
      "813/813 [==============================] - 111s 137ms/step - loss: 0.4446 - acc: 0.8507 - val_loss: 1.9810 - val_acc: 0.6200\n",
      "Epoch 20/100\n",
      "813/813 [==============================] - 110s 135ms/step - loss: 0.4188 - acc: 0.8597 - val_loss: 1.5356 - val_acc: 0.6328\n",
      "Epoch 21/100\n",
      "813/813 [==============================] - 112s 137ms/step - loss: 0.3992 - acc: 0.8656 - val_loss: 2.4625 - val_acc: 0.5730\n",
      "Epoch 22/100\n",
      "813/813 [==============================] - 110s 135ms/step - loss: 0.3676 - acc: 0.8767 - val_loss: 1.5757 - val_acc: 0.6149\n",
      "Epoch 23/100\n",
      "813/813 [==============================] - 111s 137ms/step - loss: 0.3460 - acc: 0.8852 - val_loss: 2.1434 - val_acc: 0.6176\n",
      "Epoch 24/100\n",
      "813/813 [==============================] - 110s 135ms/step - loss: 0.3207 - acc: 0.8940 - val_loss: 1.8067 - val_acc: 0.6159\n",
      "Epoch 25/100\n",
      "813/813 [==============================] - 109s 134ms/step - loss: 0.3126 - acc: 0.8951 - val_loss: 1.7255 - val_acc: 0.6383\n",
      "Epoch 26/100\n",
      "813/813 [==============================] - 110s 135ms/step - loss: 0.2902 - acc: 0.9041 - val_loss: 2.3727 - val_acc: 0.6109\n",
      "Epoch 27/100\n",
      "813/813 [==============================] - 111s 137ms/step - loss: 0.2769 - acc: 0.9082 - val_loss: 1.4672 - val_acc: 0.6523\n",
      "Epoch 28/100\n",
      "813/813 [==============================] - 117s 144ms/step - loss: 0.2675 - acc: 0.9108 - val_loss: 1.9322 - val_acc: 0.6509\n",
      "Epoch 29/100\n",
      "813/813 [==============================] - 113s 139ms/step - loss: 0.2484 - acc: 0.9204 - val_loss: 2.0417 - val_acc: 0.6340\n",
      "Epoch 30/100\n",
      "813/813 [==============================] - 111s 136ms/step - loss: 0.2351 - acc: 0.9225 - val_loss: 1.7372 - val_acc: 0.6499\n",
      "Epoch 31/100\n",
      "813/813 [==============================] - 113s 139ms/step - loss: 0.2335 - acc: 0.9266 - val_loss: 2.0516 - val_acc: 0.6328\n",
      "Epoch 32/100\n",
      "813/813 [==============================] - 112s 138ms/step - loss: 0.2272 - acc: 0.9279 - val_loss: 2.0135 - val_acc: 0.6503\n",
      "Epoch 33/100\n",
      "813/813 [==============================] - 113s 139ms/step - loss: 0.2162 - acc: 0.9303 - val_loss: 1.9508 - val_acc: 0.6532\n",
      "Epoch 34/100\n",
      "813/813 [==============================] - 113s 139ms/step - loss: 0.2086 - acc: 0.9332 - val_loss: 1.9979 - val_acc: 0.6503\n",
      "Epoch 35/100\n",
      "813/813 [==============================] - 115s 141ms/step - loss: 0.1899 - acc: 0.9388 - val_loss: 2.0448 - val_acc: 0.6429\n",
      "Epoch 36/100\n",
      "813/813 [==============================] - 112s 138ms/step - loss: 0.1917 - acc: 0.9380 - val_loss: 2.6139 - val_acc: 0.5933\n",
      "Epoch 37/100\n",
      "813/813 [==============================] - 111s 136ms/step - loss: 0.1898 - acc: 0.9375 - val_loss: 2.0542 - val_acc: 0.6622\n",
      "Epoch 38/100\n",
      "813/813 [==============================] - 109s 134ms/step - loss: 0.1905 - acc: 0.9401 - val_loss: 2.3197 - val_acc: 0.6366\n",
      "Epoch 39/100\n",
      "813/813 [==============================] - 103s 127ms/step - loss: 0.1724 - acc: 0.9461 - val_loss: 1.9625 - val_acc: 0.6586\n",
      "Epoch 40/100\n",
      "813/813 [==============================] - 99s 121ms/step - loss: 0.1769 - acc: 0.9432 - val_loss: 2.4261 - val_acc: 0.6432\n",
      "Epoch 41/100\n",
      "813/813 [==============================] - 98s 120ms/step - loss: 0.1681 - acc: 0.9467 - val_loss: 2.0152 - val_acc: 0.6340\n",
      "Epoch 42/100\n",
      "813/813 [==============================] - 99s 121ms/step - loss: 0.1588 - acc: 0.9491 - val_loss: 1.9975 - val_acc: 0.6546\n",
      "Epoch 43/100\n",
      "813/813 [==============================] - 100s 124ms/step - loss: 0.1553 - acc: 0.9496 - val_loss: 2.4591 - val_acc: 0.6492\n",
      "Epoch 44/100\n",
      "813/813 [==============================] - 102s 126ms/step - loss: 0.1595 - acc: 0.9484 - val_loss: 2.4385 - val_acc: 0.6411\n",
      "Epoch 45/100\n",
      "813/813 [==============================] - 105s 129ms/step - loss: 0.1601 - acc: 0.9491 - val_loss: 1.9935 - val_acc: 0.6632\n",
      "Epoch 46/100\n",
      "813/813 [==============================] - 102s 126ms/step - loss: 0.1569 - acc: 0.9500 - val_loss: 2.2408 - val_acc: 0.6526\n",
      "Epoch 47/100\n",
      "813/813 [==============================] - 102s 126ms/step - loss: 0.1428 - acc: 0.9544 - val_loss: 2.0594 - val_acc: 0.6546\n",
      "Epoch 48/100\n",
      "813/813 [==============================] - 102s 126ms/step - loss: 0.1451 - acc: 0.9541 - val_loss: 2.1056 - val_acc: 0.6571\n",
      "Epoch 49/100\n",
      "813/813 [==============================] - 103s 126ms/step - loss: 0.1403 - acc: 0.9557 - val_loss: 2.0128 - val_acc: 0.6529\n",
      "Epoch 50/100\n",
      "813/813 [==============================] - 104s 128ms/step - loss: 0.1363 - acc: 0.9589 - val_loss: 2.2492 - val_acc: 0.6363\n",
      "Epoch 51/100\n",
      "813/813 [==============================] - 103s 127ms/step - loss: 0.1330 - acc: 0.9572 - val_loss: 2.2131 - val_acc: 0.6598\n",
      "Epoch 52/100\n",
      "813/813 [==============================] - 103s 127ms/step - loss: 0.1410 - acc: 0.9563 - val_loss: 2.0162 - val_acc: 0.6406\n",
      "Epoch 53/100\n",
      "813/813 [==============================] - 103s 126ms/step - loss: 0.1303 - acc: 0.9591 - val_loss: 2.1277 - val_acc: 0.6469\n",
      "Epoch 54/100\n",
      "813/813 [==============================] - 102s 126ms/step - loss: 0.1290 - acc: 0.9611 - val_loss: 2.2654 - val_acc: 0.6455\n",
      "Epoch 55/100\n",
      "813/813 [==============================] - 102s 126ms/step - loss: 0.1241 - acc: 0.9600 - val_loss: 2.7413 - val_acc: 0.6231\n",
      "Epoch 56/100\n",
      "813/813 [==============================] - 105s 129ms/step - loss: 0.1217 - acc: 0.9616 - val_loss: 2.3246 - val_acc: 0.6539\n",
      "Epoch 57/100\n",
      "813/813 [==============================] - 102s 126ms/step - loss: 0.1262 - acc: 0.9625 - val_loss: 2.3940 - val_acc: 0.6383\n",
      "Epoch 58/100\n",
      "813/813 [==============================] - 103s 127ms/step - loss: 0.1191 - acc: 0.9621 - val_loss: 2.2510 - val_acc: 0.6594\n",
      "Epoch 59/100\n",
      "813/813 [==============================] - 102s 126ms/step - loss: 0.1172 - acc: 0.9633 - val_loss: 2.3621 - val_acc: 0.6508\n",
      "Epoch 60/100\n"
     ]
    },
    {
     "name": "stdout",
     "output_type": "stream",
     "text": [
      "813/813 [==============================] - 103s 126ms/step - loss: 0.1192 - acc: 0.9631 - val_loss: 2.1084 - val_acc: 0.6565\n",
      "Epoch 61/100\n",
      "813/813 [==============================] - 102s 125ms/step - loss: 0.1200 - acc: 0.9624 - val_loss: 2.0888 - val_acc: 0.6554\n",
      "Epoch 62/100\n",
      "813/813 [==============================] - 108s 133ms/step - loss: 0.1086 - acc: 0.9655 - val_loss: 2.3849 - val_acc: 0.6505\n",
      "Epoch 63/100\n",
      "813/813 [==============================] - 103s 126ms/step - loss: 0.1162 - acc: 0.9654 - val_loss: 2.1970 - val_acc: 0.6545\n",
      "Epoch 64/100\n",
      "813/813 [==============================] - 104s 128ms/step - loss: 0.1136 - acc: 0.9636 - val_loss: 2.1959 - val_acc: 0.6565\n",
      "Epoch 65/100\n",
      "813/813 [==============================] - 103s 127ms/step - loss: 0.1040 - acc: 0.9654 - val_loss: 2.6179 - val_acc: 0.6229\n",
      "Epoch 66/100\n",
      "813/813 [==============================] - 103s 126ms/step - loss: 0.1185 - acc: 0.9635 - val_loss: 2.2559 - val_acc: 0.6328\n",
      "Epoch 67/100\n",
      "813/813 [==============================] - 102s 126ms/step - loss: 0.1044 - acc: 0.9672 - val_loss: 2.3590 - val_acc: 0.6380\n",
      "Epoch 68/100\n",
      "813/813 [==============================] - 105s 129ms/step - loss: 0.1047 - acc: 0.9679 - val_loss: 2.1948 - val_acc: 0.6617\n",
      "Epoch 69/100\n",
      "813/813 [==============================] - 104s 128ms/step - loss: 0.0951 - acc: 0.9710 - val_loss: 2.3805 - val_acc: 0.6628\n",
      "Epoch 70/100\n",
      "813/813 [==============================] - 105s 129ms/step - loss: 0.1025 - acc: 0.9695 - val_loss: 2.3205 - val_acc: 0.6491\n",
      "Epoch 71/100\n",
      "813/813 [==============================] - 103s 127ms/step - loss: 0.1054 - acc: 0.9678 - val_loss: 2.2675 - val_acc: 0.6554\n",
      "Epoch 72/100\n",
      "813/813 [==============================] - 103s 127ms/step - loss: 0.0944 - acc: 0.9701 - val_loss: 2.8434 - val_acc: 0.6332\n",
      "Epoch 73/100\n",
      "813/813 [==============================] - 103s 127ms/step - loss: 0.1034 - acc: 0.9692 - val_loss: 2.4967 - val_acc: 0.6503\n",
      "Epoch 74/100\n",
      "813/813 [==============================] - 105s 129ms/step - loss: 0.0920 - acc: 0.9708 - val_loss: 2.4314 - val_acc: 0.6574\n",
      "Epoch 75/100\n",
      "813/813 [==============================] - 103s 127ms/step - loss: 0.0977 - acc: 0.9701 - val_loss: 2.5185 - val_acc: 0.6580\n",
      "Epoch 76/100\n",
      "813/813 [==============================] - 102s 126ms/step - loss: 0.0920 - acc: 0.9709 - val_loss: 2.4123 - val_acc: 0.6589\n",
      "Epoch 77/100\n",
      "813/813 [==============================] - 103s 126ms/step - loss: 0.0951 - acc: 0.9711 - val_loss: 2.6405 - val_acc: 0.6417\n",
      "Epoch 78/100\n",
      "813/813 [==============================] - 103s 127ms/step - loss: 0.0919 - acc: 0.9712 - val_loss: 2.6021 - val_acc: 0.6377\n",
      "Epoch 79/100\n",
      "813/813 [==============================] - 105s 129ms/step - loss: 0.0888 - acc: 0.9716 - val_loss: 2.4270 - val_acc: 0.6560\n",
      "Epoch 80/100\n",
      "813/813 [==============================] - 104s 127ms/step - loss: 0.0921 - acc: 0.9725 - val_loss: 2.3593 - val_acc: 0.6651\n",
      "Epoch 81/100\n",
      "813/813 [==============================] - 103s 127ms/step - loss: 0.0849 - acc: 0.9733 - val_loss: 2.4521 - val_acc: 0.6702\n",
      "Epoch 82/100\n",
      "813/813 [==============================] - 103s 127ms/step - loss: 0.0924 - acc: 0.9721 - val_loss: 2.4776 - val_acc: 0.6531\n",
      "Epoch 83/100\n",
      "813/813 [==============================] - 103s 126ms/step - loss: 0.0895 - acc: 0.9729 - val_loss: 2.3442 - val_acc: 0.6652\n",
      "Epoch 84/100\n",
      "813/813 [==============================] - 104s 127ms/step - loss: 0.0842 - acc: 0.9739 - val_loss: 2.4623 - val_acc: 0.6660\n",
      "Epoch 85/100\n",
      "813/813 [==============================] - 105s 130ms/step - loss: 0.0849 - acc: 0.9748 - val_loss: 2.3870 - val_acc: 0.6579\n",
      "Epoch 86/100\n",
      "813/813 [==============================] - 103s 127ms/step - loss: 0.0829 - acc: 0.9758 - val_loss: 2.6209 - val_acc: 0.6492\n",
      "Epoch 87/100\n",
      "813/813 [==============================] - 104s 128ms/step - loss: 0.0861 - acc: 0.9753 - val_loss: 2.5433 - val_acc: 0.6332\n",
      "Epoch 88/100\n",
      "813/813 [==============================] - 103s 127ms/step - loss: 0.0795 - acc: 0.9755 - val_loss: 2.3684 - val_acc: 0.6742\n",
      "Epoch 89/100\n",
      "813/813 [==============================] - 104s 128ms/step - loss: 0.0765 - acc: 0.9760 - val_loss: 2.3762 - val_acc: 0.6654\n",
      "Epoch 90/100\n",
      "813/813 [==============================] - 103s 127ms/step - loss: 0.0778 - acc: 0.9756 - val_loss: 2.5693 - val_acc: 0.6588\n",
      "Epoch 91/100\n",
      "813/813 [==============================] - 105s 129ms/step - loss: 0.0801 - acc: 0.9755 - val_loss: 2.3795 - val_acc: 0.6479\n",
      "Epoch 92/100\n",
      "813/813 [==============================] - 103s 127ms/step - loss: 0.0804 - acc: 0.9763 - val_loss: 2.3332 - val_acc: 0.6714\n",
      "Epoch 93/100\n",
      "813/813 [==============================] - 104s 128ms/step - loss: 0.0805 - acc: 0.9749 - val_loss: 2.7580 - val_acc: 0.6680\n",
      "Epoch 94/100\n",
      "813/813 [==============================] - 101s 124ms/step - loss: 0.0743 - acc: 0.9767 - val_loss: 3.0565 - val_acc: 0.6437\n",
      "Epoch 95/100\n",
      "813/813 [==============================] - 98s 121ms/step - loss: 0.0821 - acc: 0.9746 - val_loss: 2.4260 - val_acc: 0.6614\n",
      "Epoch 96/100\n",
      "813/813 [==============================] - 99s 122ms/step - loss: 0.0820 - acc: 0.9760 - val_loss: 2.8397 - val_acc: 0.6617\n",
      "Epoch 97/100\n",
      "813/813 [==============================] - 108s 133ms/step - loss: 0.0718 - acc: 0.9771 - val_loss: 3.3470 - val_acc: 0.6491\n",
      "Epoch 98/100\n",
      "813/813 [==============================] - 103s 127ms/step - loss: 0.0729 - acc: 0.9775 - val_loss: 2.7029 - val_acc: 0.6525\n",
      "Epoch 99/100\n",
      "813/813 [==============================] - 103s 126ms/step - loss: 0.0712 - acc: 0.9791 - val_loss: 2.5351 - val_acc: 0.6675\n",
      "Epoch 100/100\n",
      "813/813 [==============================] - 102s 126ms/step - loss: 0.0756 - acc: 0.9782 - val_loss: 2.4915 - val_acc: 0.6572\n"
     ]
    },
    {
     "data": {
      "image/png": "[encoded data removed]",
      "text/plain": [
       "<Figure size 432x288 with 2 Axes>"
      ]
     },
     "metadata": {
      "needs_background": "light"
     },
     "output_type": "display_data"
    }
   ],
   "source": [
    "\n",
    "model = define_cnn_model(word_index=word_index, \n",
    "                         max_sent_len=max_sent_len,\n",
    "                         embedding_matrix=fasttext_embedding_matrix,\n",
    "                        )\n",
    "\n",
    "#earlystop = EarlyStopping(monitor='val_loss', min_delta=0, patience=3, verbose=0, mode='auto')\n",
    "history = model.fit(x=x_train_seq, \n",
    "                    y=y_train_en, \n",
    "                    batch_size=batch_size, \n",
    "                    epochs=epochs, \n",
    "                    verbose=1, \n",
    "                    validation_data=(x_valid_seq, y_valid_en),\n",
    "                    #callbacks=[earlystop],\n",
    "                   )\n",
    "\n",
    "plot_learning_curves(history)\n",
    "\n",
    "model_dict['1dcnn_fasttext'] = model\n"
   ]
  },
  {
   "cell_type": "code",
   "execution_count": null,
   "metadata": {},
   "outputs": [],
   "source": []
  },
  {
   "cell_type": "markdown",
   "metadata": {},
   "source": [
    "#### Save the model\n"
   ]
  },
  {
   "cell_type": "code",
   "execution_count": 235,
   "metadata": {},
   "outputs": [],
   "source": [
    "model_dict['1dcnn_fasttext'].save('1dcnn_fasttext_{}.h5'.format(epochs))\n"
   ]
  },
  {
   "cell_type": "code",
   "execution_count": null,
   "metadata": {},
   "outputs": [],
   "source": []
  },
  {
   "cell_type": "markdown",
   "metadata": {},
   "source": [
    "### Transformer (TODO)\n",
    "\n",
    "\n",
    "https://atheros.ai/blog/text-classification-with-transformers-in-tensorflow-2\n",
    "\n",
    "https://www.kaggle.com/tanulsingh077/deep-learning-for-nlp-zero-to-transformers-bert\n",
    "\n"
   ]
  },
  {
   "cell_type": "code",
   "execution_count": null,
   "metadata": {},
   "outputs": [],
   "source": []
  },
  {
   "cell_type": "code",
   "execution_count": null,
   "metadata": {},
   "outputs": [],
   "source": []
  },
  {
   "cell_type": "code",
   "execution_count": null,
   "metadata": {},
   "outputs": [],
   "source": []
  },
  {
   "cell_type": "code",
   "execution_count": null,
   "metadata": {},
   "outputs": [],
   "source": []
  },
  {
   "cell_type": "markdown",
   "metadata": {},
   "source": [
    "## Make the prediction on the test set\n",
    "\n"
   ]
  },
  {
   "cell_type": "markdown",
   "metadata": {},
   "source": [
    "### Train the model on whole trainig set\n"
   ]
  },
  {
   "cell_type": "code",
   "execution_count": null,
   "metadata": {},
   "outputs": [],
   "source": [
    "# model = load_model('1dcnn_fasttext_{}.h5'.format(100))\n",
    "\n",
    "model = define_cnn_model(word_index=word_index, \n",
    "                         max_sent_len=max_sent_len,\n",
    "                         embedding_matrix=fasttext_embedding_matrix,\n",
    "                        )\n",
    "\n",
    "history = model.fit(x=x_train_all_seq, \n",
    "                    y=y_train_all_en, \n",
    "                    batch_size=batch_size, \n",
    "                    epochs=epochs, \n",
    "                    verbose=1, \n",
    "                    #validation_data=(x_valid_seq, y_valid_en),\n",
    "                    #callbacks=[earlystop],\n",
    "                   )\n"
   ]
  },
  {
   "cell_type": "code",
   "execution_count": 237,
   "metadata": {},
   "outputs": [],
   "source": [
    "\n"
   ]
  },
  {
   "cell_type": "code",
   "execution_count": null,
   "metadata": {},
   "outputs": [],
   "source": []
  },
  {
   "cell_type": "code",
   "execution_count": null,
   "metadata": {},
   "outputs": [],
   "source": []
  },
  {
   "cell_type": "markdown",
   "metadata": {},
   "source": [
    "### Make the prediction on the test set\n"
   ]
  },
  {
   "cell_type": "code",
   "execution_count": 241,
   "metadata": {},
   "outputs": [
    {
     "data": {
      "text/plain": [
       "3000"
      ]
     },
     "execution_count": 241,
     "metadata": {},
     "output_type": "execute_result"
    }
   ],
   "source": [
    "len(x_test_seq)\n"
   ]
  },
  {
   "cell_type": "code",
   "execution_count": 238,
   "metadata": {},
   "outputs": [
    {
     "name": "stdout",
     "output_type": "stream",
     "text": [
      "WARNING:tensorflow:From <ipython-input-238-40d9eeb5af68>:1: Sequential.predict_classes (from tensorflow.python.keras.engine.sequential) is deprecated and will be removed after 2021-01-01.\n",
      "Instructions for updating:\n",
      "Please use instead:* `np.argmax(model.predict(x), axis=-1)`,   if your model does multi-class classification   (e.g. if it uses a `softmax` last-layer activation).* `(model.predict(x) > 0.5).astype(\"int32\")`,   if your model does binary classification   (e.g. if it uses a `sigmoid` last-layer activation).\n"
     ]
    }
   ],
   "source": [
    "predictions = model.predict_classes(x_test_seq)\n"
   ]
  },
  {
   "cell_type": "code",
   "execution_count": 240,
   "metadata": {},
   "outputs": [
    {
     "data": {
      "text/plain": [
       "3000"
      ]
     },
     "execution_count": 240,
     "metadata": {},
     "output_type": "execute_result"
    }
   ],
   "source": [
    "len(predictions)"
   ]
  },
  {
   "cell_type": "code",
   "execution_count": 249,
   "metadata": {},
   "outputs": [],
   "source": [
    "with open('ytest.txt', 'w') as f:\n",
    "    for pred in predictions:\n",
    "        f.write(\"%s\\n\" % pred)\n"
   ]
  },
  {
   "cell_type": "code",
   "execution_count": 254,
   "metadata": {},
   "outputs": [
    {
     "data": {
      "text/plain": [
       "\"\\n# test the save function\\n\\ny_test = []\\nwith open('ytest.txt') as f:\\n    y_test = f.read().strip().split('\\n')\\n\\ny_test = [int(y) for y in y_test]\\nprint(len(y_test))\\nprint(y_test[0])\\n\""
      ]
     },
     "execution_count": 254,
     "metadata": {},
     "output_type": "execute_result"
    }
   ],
   "source": [
    "\"\"\"\n",
    "# test the save function\n",
    "\n",
    "y_test = []\n",
    "with open('ytest.txt') as f:\n",
    "    y_test = f.read().strip().split('\\n')\n",
    "\n",
    "y_test = [int(y) for y in y_test]\n",
    "print(len(y_test))\n",
    "print(y_test[0])\n",
    "\"\"\""
   ]
  },
  {
   "cell_type": "code",
   "execution_count": null,
   "metadata": {},
   "outputs": [],
   "source": []
  },
  {
   "cell_type": "code",
   "execution_count": null,
   "metadata": {},
   "outputs": [],
   "source": []
  }
 ],
 "metadata": {
  "kernelspec": {
   "display_name": "Python 3",
   "language": "python",
   "name": "python3"
  },
  "language_info": {
   "codemirror_mode": {
    "name": "ipython",
    "version": 3
   },
   "file_extension": ".py",
   "mimetype": "text/x-python",
   "name": "python",
   "nbconvert_exporter": "python",
   "pygments_lexer": "ipython3",
   "version": "3.7.6"
  },
  "toc": {
   "base_numbering": 1,
   "nav_menu": {},
   "number_sections": true,
   "sideBar": true,
   "skip_h1_title": true,
   "title_cell": "Table of Contents",
   "title_sidebar": "Contents",
   "toc_cell": true,
   "toc_position": {
    "height": "calc(100% - 180px)",
    "left": "10px",
    "top": "150px",
    "width": "165px"
   },
   "toc_section_display": true,
   "toc_window_display": true
  }
 },
 "nbformat": 4,
 "nbformat_minor": 4
}
